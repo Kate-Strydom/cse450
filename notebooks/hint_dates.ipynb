{
  "nbformat": 4,
  "nbformat_minor": 0,
  "metadata": {
    "colab": {
      "name": "Date-Operations.ipynb",
      "provenance": [],
      "collapsed_sections": []
    },
    "kernelspec": {
      "name": "python3",
      "display_name": "Python 3"
    }
  },
  "cells": [
    {
      "cell_type": "code",
      "metadata": {
        "id": "apD71KyiaNnd",
        "outputId": "f4d9051f-0ff1-4118-e93e-65b390791014",
        "colab": {
          "base_uri": "https://localhost:8080/",
          "height": 295
        }
      },
      "source": [
        "import pandas as pd\n",
        "\n",
        "# Just creating a fake DataFrame to experiment with\n",
        "data = pd.DataFrame({'start': [\"1/1/2020\", \"2/3/2020\", \"2/5/2020\"], 'end': ['5/20/2020', '3/4/2020', '8/19/2020']})\n",
        "data.info()\n",
        "data"
      ],
      "execution_count": null,
      "outputs": [
        {
          "output_type": "stream",
          "text": [
            "<class 'pandas.core.frame.DataFrame'>\n",
            "RangeIndex: 3 entries, 0 to 2\n",
            "Data columns (total 2 columns):\n",
            " #   Column  Non-Null Count  Dtype \n",
            "---  ------  --------------  ----- \n",
            " 0   start   3 non-null      object\n",
            " 1   end     3 non-null      object\n",
            "dtypes: object(2)\n",
            "memory usage: 176.0+ bytes\n"
          ],
          "name": "stdout"
        },
        {
          "output_type": "execute_result",
          "data": {
            "text/html": [
              "<div>\n",
              "<style scoped>\n",
              "    .dataframe tbody tr th:only-of-type {\n",
              "        vertical-align: middle;\n",
              "    }\n",
              "\n",
              "    .dataframe tbody tr th {\n",
              "        vertical-align: top;\n",
              "    }\n",
              "\n",
              "    .dataframe thead th {\n",
              "        text-align: right;\n",
              "    }\n",
              "</style>\n",
              "<table border=\"1\" class=\"dataframe\">\n",
              "  <thead>\n",
              "    <tr style=\"text-align: right;\">\n",
              "      <th></th>\n",
              "      <th>start</th>\n",
              "      <th>end</th>\n",
              "    </tr>\n",
              "  </thead>\n",
              "  <tbody>\n",
              "    <tr>\n",
              "      <th>0</th>\n",
              "      <td>1/1/2020</td>\n",
              "      <td>5/20/2020</td>\n",
              "    </tr>\n",
              "    <tr>\n",
              "      <th>1</th>\n",
              "      <td>2/3/2020</td>\n",
              "      <td>3/4/2020</td>\n",
              "    </tr>\n",
              "    <tr>\n",
              "      <th>2</th>\n",
              "      <td>2/5/2020</td>\n",
              "      <td>8/19/2020</td>\n",
              "    </tr>\n",
              "  </tbody>\n",
              "</table>\n",
              "</div>"
            ],
            "text/plain": [
              "      start        end\n",
              "0  1/1/2020  5/20/2020\n",
              "1  2/3/2020   3/4/2020\n",
              "2  2/5/2020  8/19/2020"
            ]
          },
          "metadata": {
            "tags": []
          },
          "execution_count": 8
        }
      ]
    },
    {
      "cell_type": "code",
      "metadata": {
        "id": "x41WTosnazJp",
        "outputId": "f39c1183-dec4-44e9-a202-f926b4741533",
        "colab": {
          "base_uri": "https://localhost:8080/",
          "height": 295
        }
      },
      "source": [
        "# First, let's convert the columns to datetimes. We could create a new column\n",
        "# for this, but we'll just overwrite the old column since we're changing the type\n",
        "# not the values\n",
        "data['start'] = pd.to_datetime(data['start'])\n",
        "data['end'] = pd.to_datetime(data['end'])\n",
        "data.info()\n",
        "data"
      ],
      "execution_count": null,
      "outputs": [
        {
          "output_type": "stream",
          "text": [
            "<class 'pandas.core.frame.DataFrame'>\n",
            "RangeIndex: 3 entries, 0 to 2\n",
            "Data columns (total 2 columns):\n",
            " #   Column  Non-Null Count  Dtype         \n",
            "---  ------  --------------  -----         \n",
            " 0   start   3 non-null      datetime64[ns]\n",
            " 1   end     3 non-null      datetime64[ns]\n",
            "dtypes: datetime64[ns](2)\n",
            "memory usage: 176.0 bytes\n"
          ],
          "name": "stdout"
        },
        {
          "output_type": "execute_result",
          "data": {
            "text/html": [
              "<div>\n",
              "<style scoped>\n",
              "    .dataframe tbody tr th:only-of-type {\n",
              "        vertical-align: middle;\n",
              "    }\n",
              "\n",
              "    .dataframe tbody tr th {\n",
              "        vertical-align: top;\n",
              "    }\n",
              "\n",
              "    .dataframe thead th {\n",
              "        text-align: right;\n",
              "    }\n",
              "</style>\n",
              "<table border=\"1\" class=\"dataframe\">\n",
              "  <thead>\n",
              "    <tr style=\"text-align: right;\">\n",
              "      <th></th>\n",
              "      <th>start</th>\n",
              "      <th>end</th>\n",
              "    </tr>\n",
              "  </thead>\n",
              "  <tbody>\n",
              "    <tr>\n",
              "      <th>0</th>\n",
              "      <td>2020-01-01</td>\n",
              "      <td>2020-05-20</td>\n",
              "    </tr>\n",
              "    <tr>\n",
              "      <th>1</th>\n",
              "      <td>2020-02-03</td>\n",
              "      <td>2020-03-04</td>\n",
              "    </tr>\n",
              "    <tr>\n",
              "      <th>2</th>\n",
              "      <td>2020-02-05</td>\n",
              "      <td>2020-08-19</td>\n",
              "    </tr>\n",
              "  </tbody>\n",
              "</table>\n",
              "</div>"
            ],
            "text/plain": [
              "       start        end\n",
              "0 2020-01-01 2020-05-20\n",
              "1 2020-02-03 2020-03-04\n",
              "2 2020-02-05 2020-08-19"
            ]
          },
          "metadata": {
            "tags": []
          },
          "execution_count": 10
        }
      ]
    },
    {
      "cell_type": "code",
      "metadata": {
        "id": "Z5GuXfDLbNW0",
        "outputId": "a9f406bb-d310-4c01-82ea-52c71502fb28",
        "colab": {
          "base_uri": "https://localhost:8080/",
          "height": 142
        }
      },
      "source": [
        "# Now, let's calculate the difference between the dates in days and months\n",
        "import numpy as np\n",
        "data['days'] = (data['end'] - data['start']) / np.timedelta64(1, 'D')\n",
        "data['months'] = (data['end'] - data['start']) / np.timedelta64(1, 'M')\n",
        "data"
      ],
      "execution_count": null,
      "outputs": [
        {
          "output_type": "execute_result",
          "data": {
            "text/html": [
              "<div>\n",
              "<style scoped>\n",
              "    .dataframe tbody tr th:only-of-type {\n",
              "        vertical-align: middle;\n",
              "    }\n",
              "\n",
              "    .dataframe tbody tr th {\n",
              "        vertical-align: top;\n",
              "    }\n",
              "\n",
              "    .dataframe thead th {\n",
              "        text-align: right;\n",
              "    }\n",
              "</style>\n",
              "<table border=\"1\" class=\"dataframe\">\n",
              "  <thead>\n",
              "    <tr style=\"text-align: right;\">\n",
              "      <th></th>\n",
              "      <th>start</th>\n",
              "      <th>end</th>\n",
              "      <th>days</th>\n",
              "      <th>months</th>\n",
              "    </tr>\n",
              "  </thead>\n",
              "  <tbody>\n",
              "    <tr>\n",
              "      <th>0</th>\n",
              "      <td>2020-01-01</td>\n",
              "      <td>2020-05-20</td>\n",
              "      <td>140.0</td>\n",
              "      <td>4.599684</td>\n",
              "    </tr>\n",
              "    <tr>\n",
              "      <th>1</th>\n",
              "      <td>2020-02-03</td>\n",
              "      <td>2020-03-04</td>\n",
              "      <td>30.0</td>\n",
              "      <td>0.985647</td>\n",
              "    </tr>\n",
              "    <tr>\n",
              "      <th>2</th>\n",
              "      <td>2020-02-05</td>\n",
              "      <td>2020-08-19</td>\n",
              "      <td>196.0</td>\n",
              "      <td>6.439557</td>\n",
              "    </tr>\n",
              "  </tbody>\n",
              "</table>\n",
              "</div>"
            ],
            "text/plain": [
              "       start        end   days    months\n",
              "0 2020-01-01 2020-05-20  140.0  4.599684\n",
              "1 2020-02-03 2020-03-04   30.0  0.985647\n",
              "2 2020-02-05 2020-08-19  196.0  6.439557"
            ]
          },
          "metadata": {
            "tags": []
          },
          "execution_count": 14
        }
      ]
    },
    {
      "cell_type": "code",
      "metadata": {
        "id": "M-e7IXSLbkhK",
        "outputId": "f4cdbfdd-3d88-4d0c-c077-c257b468138e",
        "colab": {
          "base_uri": "https://localhost:8080/",
          "height": 142
        }
      },
      "source": [
        "# Let's do a more complex calculation where we only start counting time after 2/1/2020\n",
        "# So if their start date is before that, we use 2/1/2020 as our base, otherwise\n",
        "# we use their actual start date\n",
        "def calc_time_delta(x):\n",
        "  base = pd.to_datetime(\"02/01/2020\")\n",
        "  # Ignore NaNs\n",
        "  if pd.isnull(x['start']) or pd.isnull(x['end']):\n",
        "    return x\n",
        "  elif x['start'] > base:\n",
        "    return x['end'] - x['start']\n",
        "  else:\n",
        "    return x['end'] - base\n",
        "\n",
        "data['days'] = data.apply(calc_time_delta, axis=1) / np.timedelta64(1, 'D')\n",
        "data['months'] = data.apply(calc_time_delta, axis=1) / np.timedelta64(1, 'M')\n",
        "data"
      ],
      "execution_count": null,
      "outputs": [
        {
          "output_type": "execute_result",
          "data": {
            "text/html": [
              "<div>\n",
              "<style scoped>\n",
              "    .dataframe tbody tr th:only-of-type {\n",
              "        vertical-align: middle;\n",
              "    }\n",
              "\n",
              "    .dataframe tbody tr th {\n",
              "        vertical-align: top;\n",
              "    }\n",
              "\n",
              "    .dataframe thead th {\n",
              "        text-align: right;\n",
              "    }\n",
              "</style>\n",
              "<table border=\"1\" class=\"dataframe\">\n",
              "  <thead>\n",
              "    <tr style=\"text-align: right;\">\n",
              "      <th></th>\n",
              "      <th>start</th>\n",
              "      <th>end</th>\n",
              "      <th>days</th>\n",
              "      <th>months</th>\n",
              "    </tr>\n",
              "  </thead>\n",
              "  <tbody>\n",
              "    <tr>\n",
              "      <th>0</th>\n",
              "      <td>2020-01-01</td>\n",
              "      <td>2020-05-20</td>\n",
              "      <td>109.0</td>\n",
              "      <td>3.581182</td>\n",
              "    </tr>\n",
              "    <tr>\n",
              "      <th>1</th>\n",
              "      <td>2020-02-03</td>\n",
              "      <td>2020-03-04</td>\n",
              "      <td>30.0</td>\n",
              "      <td>0.985647</td>\n",
              "    </tr>\n",
              "    <tr>\n",
              "      <th>2</th>\n",
              "      <td>2020-02-05</td>\n",
              "      <td>2020-08-19</td>\n",
              "      <td>196.0</td>\n",
              "      <td>6.439557</td>\n",
              "    </tr>\n",
              "  </tbody>\n",
              "</table>\n",
              "</div>"
            ],
            "text/plain": [
              "       start        end   days    months\n",
              "0 2020-01-01 2020-05-20  109.0  3.581182\n",
              "1 2020-02-03 2020-03-04   30.0  0.985647\n",
              "2 2020-02-05 2020-08-19  196.0  6.439557"
            ]
          },
          "metadata": {
            "tags": []
          },
          "execution_count": 16
        }
      ]
    },
    {
      "cell_type": "code",
      "metadata": {
        "id": "DLuNtzfbctif"
      },
      "source": [
        ""
      ],
      "execution_count": null,
      "outputs": []
    }
  ]
}