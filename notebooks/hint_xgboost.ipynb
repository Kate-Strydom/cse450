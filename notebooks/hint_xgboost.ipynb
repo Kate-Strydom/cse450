{
  "nbformat": 4,
  "nbformat_minor": 0,
  "metadata": {
    "colab": {
      "name": "hint_xgboost.ipynb",
      "provenance": []
    },
    "kernelspec": {
      "name": "python3",
      "display_name": "Python 3"
    }
  },
  "cells": [
    {
      "cell_type": "code",
      "metadata": {
        "id": "N-PFIGXx43nP",
        "colab": {
          "base_uri": "https://localhost:8080/"
        },
        "outputId": "a8c9b76f-42bd-4c6f-8151-b3da054c209b"
      },
      "source": [
        "# Load some test data\n",
        "import pandas as pd\n",
        "mpg = pd.read_csv('https://raw.githubusercontent.com/byui-cse/cse450-course/master/data/mpg.csv')\n",
        "mpg.head()"
      ],
      "execution_count": null,
      "outputs": [
        {
          "output_type": "stream",
          "text": [
            "<class 'pandas.core.frame.DataFrame'>\n",
            "RangeIndex: 398 entries, 0 to 397\n",
            "Data columns (total 9 columns):\n",
            " #   Column        Non-Null Count  Dtype  \n",
            "---  ------        --------------  -----  \n",
            " 0   mpg           398 non-null    float64\n",
            " 1   cylinders     398 non-null    int64  \n",
            " 2   displacement  398 non-null    float64\n",
            " 3   horsepower    398 non-null    object \n",
            " 4   weight        398 non-null    int64  \n",
            " 5   acceleration  398 non-null    float64\n",
            " 6   year          398 non-null    int64  \n",
            " 7   origin        398 non-null    int64  \n",
            " 8   name          398 non-null    object \n",
            "dtypes: float64(3), int64(4), object(2)\n",
            "memory usage: 28.1+ KB\n"
          ],
          "name": "stdout"
        }
      ]
    },
    {
      "cell_type": "code",
      "metadata": {
        "id": "KlZiVE696408"
      },
      "source": [
        "# Import the libraries we need \n",
        "from xgboost import XGBRegressor\n",
        "from sklearn.model_selection import train_test_split"
      ],
      "execution_count": null,
      "outputs": []
    },
    {
      "cell_type": "code",
      "metadata": {
        "id": "tbSQUcm1GWBs",
        "outputId": "3046facf-df23-410e-9672-8cd4bb5add9b",
        "colab": {
          "base_uri": "https://localhost:8080/",
          "height": 235
        }
      },
      "source": [
        "# Horsepower has some missing values, represented as '?'\n",
        "mpg[mpg['horsepower'] == '?']"
      ],
      "execution_count": null,
      "outputs": [
        {
          "output_type": "execute_result",
          "data": {
            "text/html": [
              "<div>\n",
              "<style scoped>\n",
              "    .dataframe tbody tr th:only-of-type {\n",
              "        vertical-align: middle;\n",
              "    }\n",
              "\n",
              "    .dataframe tbody tr th {\n",
              "        vertical-align: top;\n",
              "    }\n",
              "\n",
              "    .dataframe thead th {\n",
              "        text-align: right;\n",
              "    }\n",
              "</style>\n",
              "<table border=\"1\" class=\"dataframe\">\n",
              "  <thead>\n",
              "    <tr style=\"text-align: right;\">\n",
              "      <th></th>\n",
              "      <th>mpg</th>\n",
              "      <th>cylinders</th>\n",
              "      <th>displacement</th>\n",
              "      <th>horsepower</th>\n",
              "      <th>weight</th>\n",
              "      <th>acceleration</th>\n",
              "      <th>year</th>\n",
              "      <th>origin</th>\n",
              "      <th>name</th>\n",
              "    </tr>\n",
              "  </thead>\n",
              "  <tbody>\n",
              "    <tr>\n",
              "      <th>32</th>\n",
              "      <td>25.0</td>\n",
              "      <td>4</td>\n",
              "      <td>98.0</td>\n",
              "      <td>?</td>\n",
              "      <td>2046</td>\n",
              "      <td>19.0</td>\n",
              "      <td>71</td>\n",
              "      <td>1</td>\n",
              "      <td>ford pinto</td>\n",
              "    </tr>\n",
              "    <tr>\n",
              "      <th>126</th>\n",
              "      <td>21.0</td>\n",
              "      <td>6</td>\n",
              "      <td>200.0</td>\n",
              "      <td>?</td>\n",
              "      <td>2875</td>\n",
              "      <td>17.0</td>\n",
              "      <td>74</td>\n",
              "      <td>1</td>\n",
              "      <td>ford maverick</td>\n",
              "    </tr>\n",
              "    <tr>\n",
              "      <th>330</th>\n",
              "      <td>40.9</td>\n",
              "      <td>4</td>\n",
              "      <td>85.0</td>\n",
              "      <td>?</td>\n",
              "      <td>1835</td>\n",
              "      <td>17.3</td>\n",
              "      <td>80</td>\n",
              "      <td>2</td>\n",
              "      <td>renault lecar deluxe</td>\n",
              "    </tr>\n",
              "    <tr>\n",
              "      <th>336</th>\n",
              "      <td>23.6</td>\n",
              "      <td>4</td>\n",
              "      <td>140.0</td>\n",
              "      <td>?</td>\n",
              "      <td>2905</td>\n",
              "      <td>14.3</td>\n",
              "      <td>80</td>\n",
              "      <td>1</td>\n",
              "      <td>ford mustang cobra</td>\n",
              "    </tr>\n",
              "    <tr>\n",
              "      <th>354</th>\n",
              "      <td>34.5</td>\n",
              "      <td>4</td>\n",
              "      <td>100.0</td>\n",
              "      <td>?</td>\n",
              "      <td>2320</td>\n",
              "      <td>15.8</td>\n",
              "      <td>81</td>\n",
              "      <td>2</td>\n",
              "      <td>renault 18i</td>\n",
              "    </tr>\n",
              "    <tr>\n",
              "      <th>374</th>\n",
              "      <td>23.0</td>\n",
              "      <td>4</td>\n",
              "      <td>151.0</td>\n",
              "      <td>?</td>\n",
              "      <td>3035</td>\n",
              "      <td>20.5</td>\n",
              "      <td>82</td>\n",
              "      <td>1</td>\n",
              "      <td>amc concord dl</td>\n",
              "    </tr>\n",
              "  </tbody>\n",
              "</table>\n",
              "</div>"
            ],
            "text/plain": [
              "      mpg  cylinders  displacement  ... year  origin                  name\n",
              "32   25.0          4          98.0  ...   71       1            ford pinto\n",
              "126  21.0          6         200.0  ...   74       1         ford maverick\n",
              "330  40.9          4          85.0  ...   80       2  renault lecar deluxe\n",
              "336  23.6          4         140.0  ...   80       1    ford mustang cobra\n",
              "354  34.5          4         100.0  ...   81       2           renault 18i\n",
              "374  23.0          4         151.0  ...   82       1        amc concord dl\n",
              "\n",
              "[6 rows x 9 columns]"
            ]
          },
          "metadata": {
            "tags": []
          },
          "execution_count": 9
        }
      ]
    },
    {
      "cell_type": "code",
      "metadata": {
        "id": "9-VR2xKdGk-Y"
      },
      "source": [
        ""
      ],
      "execution_count": null,
      "outputs": []
    },
    {
      "cell_type": "code",
      "metadata": {
        "id": "XgPJqnNM68E0"
      },
      "source": [
        "# Get our target variable and features and split them into test and train datasets\n",
        "\n",
        "X = mpg[['cylinders', 'displacement', 'acceleration', 'weight']]\n",
        "y = mpg['mpg']\n",
        "\n",
        "X_test, X_train, y_test, y_train = train_test_split(X, y, test_size=0.2, random_state=42)"
      ],
      "execution_count": null,
      "outputs": []
    },
    {
      "cell_type": "code",
      "metadata": {
        "id": "5vHHMZu97UDX",
        "outputId": "bdae7729-f336-48a0-a7a7-4e73a3484ade",
        "colab": {
          "base_uri": "https://localhost:8080/"
        }
      },
      "source": [
        "# Create the model and train it, use default hyperparameters for now\n",
        "model = XGBRegressor()\n",
        "model.fit(X_train, y_train)"
      ],
      "execution_count": null,
      "outputs": [
        {
          "output_type": "stream",
          "text": [
            "[19:01:59] WARNING: /workspace/src/objective/regression_obj.cu:152: reg:linear is now deprecated in favor of reg:squarederror.\n"
          ],
          "name": "stdout"
        },
        {
          "output_type": "execute_result",
          "data": {
            "text/plain": [
              "XGBRegressor(base_score=0.5, booster='gbtree', colsample_bylevel=1,\n",
              "             colsample_bynode=1, colsample_bytree=1, gamma=0,\n",
              "             importance_type='gain', learning_rate=0.1, max_delta_step=0,\n",
              "             max_depth=3, min_child_weight=1, missing=None, n_estimators=100,\n",
              "             n_jobs=1, nthread=None, objective='reg:linear', random_state=0,\n",
              "             reg_alpha=0, reg_lambda=1, scale_pos_weight=1, seed=None,\n",
              "             silent=None, subsample=1, verbosity=1)"
            ]
          },
          "metadata": {
            "tags": []
          },
          "execution_count": 17
        }
      ]
    },
    {
      "cell_type": "code",
      "metadata": {
        "id": "ma6GYveoHOgn",
        "outputId": "f97dd24c-8871-41bf-c6ca-af60be378f10",
        "colab": {
          "base_uri": "https://localhost:8080/"
        }
      },
      "source": [
        "# Get predictions for our test data\n",
        "predictions = model.predict(X_test)\n",
        "predictions"
      ],
      "execution_count": null,
      "outputs": [
        {
          "output_type": "execute_result",
          "data": {
            "text/plain": [
              "array([17.491123 , 32.880005 , 31.357609 , 33.983986 , 27.449415 ,\n",
              "       14.397035 , 30.566387 , 23.904556 , 23.36834  , 12.525922 ,\n",
              "       15.028317 , 23.38249  , 34.39683  , 28.032757 , 21.766737 ,\n",
              "       36.92878  , 24.663647 , 18.438667 , 23.827766 , 14.161707 ,\n",
              "       32.843884 , 28.706932 , 23.573576 , 13.936852 , 19.6191   ,\n",
              "       15.062734 , 26.71001  , 12.721564 , 31.590557 , 30.566387 ,\n",
              "       26.64318  , 29.139936 , 15.5338745, 35.46889  , 25.734348 ,\n",
              "       22.30479  , 27.059273 , 19.580368 , 33.433327 , 21.226337 ,\n",
              "       13.486583 , 22.30479  , 23.071053 , 19.917553 , 22.226343 ,\n",
              "       20.763674 , 35.29183  , 22.745434 , 32.73291  , 26.189714 ,\n",
              "       30.566387 , 30.566387 , 27.318785 , 19.6697   , 24.75744  ,\n",
              "       17.11143  , 19.917553 , 33.983986 , 33.045113 , 33.282223 ,\n",
              "       19.248236 , 14.200866 , 15.829767 , 19.295088 , 19.917553 ,\n",
              "       29.152843 , 33.241314 , 31.413479 , 25.32427  , 26.59731  ,\n",
              "       15.062734 , 15.438462 , 23.938917 , 29.139936 , 15.3102865,\n",
              "       29.933088 , 11.34854  , 25.540321 , 17.038153 , 35.29183  ,\n",
              "       25.309496 , 19.656725 , 30.132917 , 17.626677 , 15.459799 ,\n",
              "       13.265097 , 17.878712 , 31.11359  , 19.917553 , 14.662948 ,\n",
              "       14.521667 , 23.77293  , 14.978297 , 24.681936 , 36.92878  ,\n",
              "       19.580368 , 18.10286  , 14.521667 , 24.965551 , 19.248236 ,\n",
              "       32.308456 , 23.5845   , 12.4368725, 14.132323 , 26.907291 ,\n",
              "       35.718414 , 19.807804 , 19.978046 , 20.598072 , 32.880005 ,\n",
              "       32.96518  , 13.936852 , 23.930634 , 30.29858  , 20.842245 ,\n",
              "       13.265097 , 19.6191   , 31.81569  , 29.164742 , 20.74017  ,\n",
              "       23.355886 , 19.430502 , 19.978046 , 27.150517 , 14.363855 ,\n",
              "       13.230079 , 32.310276 , 25.52552  , 31.552383 , 24.050165 ,\n",
              "       19.778645 , 26.230614 , 19.728352 , 27.150517 , 19.580368 ,\n",
              "       20.063581 , 29.554947 , 14.072405 , 19.72327  , 18.74426  ,\n",
              "       35.29183  , 13.205178 , 17.761099 , 17.038153 , 30.098213 ,\n",
              "       23.246489 , 16.515724 , 33.819126 , 14.662948 , 14.933157 ,\n",
              "       28.027527 , 15.153732 , 23.50579  , 26.235174 , 15.093814 ,\n",
              "       29.658478 , 32.386215 , 22.762407 , 22.735752 , 21.454945 ,\n",
              "       15.397297 , 28.671108 , 32.880005 , 31.614525 , 30.098213 ,\n",
              "       22.66864  , 29.7495   , 24.91035  , 18.180326 , 30.059052 ,\n",
              "       25.094608 , 16.069897 , 12.205627 , 19.6697   , 14.662948 ,\n",
              "       25.650566 , 14.662948 , 24.073051 , 31.18794  , 12.24121  ,\n",
              "       15.012713 , 19.248236 , 14.505616 , 24.460787 , 35.46889  ,\n",
              "       30.132917 , 25.210358 , 15.459799 , 12.525922 , 28.937317 ,\n",
              "       27.895334 , 18.731659 , 28.429981 , 22.343271 , 14.421276 ,\n",
              "       33.02508  , 22.94476  , 19.679594 , 19.730194 , 16.455807 ,\n",
              "       20.511032 , 28.796265 , 19.640862 , 19.6697   , 23.58544  ,\n",
              "       15.260466 , 25.575151 , 19.917553 , 14.560267 , 26.314192 ,\n",
              "       18.683767 , 30.236572 , 23.544668 , 17.034477 , 26.825516 ,\n",
              "       14.754325 , 34.06176  , 14.363855 , 16.9284   , 16.925764 ,\n",
              "       16.415684 , 24.663647 , 14.754325 , 14.363855 , 16.62797  ,\n",
              "       19.6697   , 14.788368 , 14.30018  , 17.934105 , 25.650566 ,\n",
              "       12.116578 , 14.541852 , 18.395758 , 28.039946 , 31.048756 ,\n",
              "       32.386215 , 28.707945 , 25.643364 , 20.690065 , 14.363855 ,\n",
              "       31.951805 , 18.878035 , 16.14539  , 23.58544  , 19.6191   ,\n",
              "       30.566387 , 28.398333 , 16.691587 , 18.391428 , 12.205627 ,\n",
              "       36.92878  , 14.662948 , 34.488342 , 19.580368 , 12.41567  ,\n",
              "       28.283817 , 13.996771 , 26.551455 , 24.663647 , 33.006737 ,\n",
              "       19.248236 , 17.45367  , 14.397035 , 25.04424  , 32.60539  ,\n",
              "       16.455807 , 21.64682  , 16.846632 , 20.063581 , 14.853684 ,\n",
              "       25.650566 , 17.491123 , 18.546488 , 22.735752 , 17.038153 ,\n",
              "       22.707209 , 33.282223 , 25.980074 , 24.360775 , 30.151543 ,\n",
              "       32.621185 , 18.704113 , 14.1017885, 23.542624 , 14.421276 ,\n",
              "       21.454945 , 32.589058 , 17.11143  , 33.02508  , 24.0895   ,\n",
              "       18.10286  , 27.324339 , 25.802168 , 16.81033  , 26.02388  ,\n",
              "       18.438667 , 30.098213 , 32.511295 , 20.511032 , 23.200407 ,\n",
              "       25.650566 , 24.23064  , 35.29183  , 20.003088 , 20.844492 ,\n",
              "       24.862562 , 15.559558 , 31.696234 , 16.996893 , 16.515724 ,\n",
              "       25.527126 , 29.205643 , 14.421276 , 24.379894 , 14.34367  ,\n",
              "       24.357218 , 32.612568 , 26.71001  ], dtype=float32)"
            ]
          },
          "metadata": {
            "tags": []
          },
          "execution_count": 18
        }
      ]
    },
    {
      "cell_type": "code",
      "metadata": {
        "id": "KabDmSeSHWuC",
        "outputId": "80ea0c2d-9cb4-46db-c81f-c29dee566e4c",
        "colab": {
          "base_uri": "https://localhost:8080/"
        }
      },
      "source": [
        "# Compute the Root Mean Squared Error of the predictions\n",
        "from sklearn.metrics import mean_squared_error\n",
        "\n",
        "result = mean_squared_error(y_test, predictions, squared=False)\n",
        "result\n",
        "\n",
        "# Looks like we're off by just 4.5 mpg on average\n",
        "# Not bad for a quick run with no real preprocessing"
      ],
      "execution_count": null,
      "outputs": [
        {
          "output_type": "execute_result",
          "data": {
            "text/plain": [
              "4.564261928491861"
            ]
          },
          "metadata": {
            "tags": []
          },
          "execution_count": 19
        }
      ]
    }
  ]
}