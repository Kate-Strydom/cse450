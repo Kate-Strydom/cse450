{
  "cells": [
    {
      "cell_type": "markdown",
      "metadata": {
        "id": "view-in-github",
        "colab_type": "text"
      },
      "source": [
        "<a href=\"https://colab.research.google.com/github/Kate-Strydom/cse450/blob/main/publishing_starter_temp_grt_1.ipynb\" target=\"_parent\"><img src=\"https://colab.research.google.com/assets/colab-badge.svg\" alt=\"Open In Colab\"/></a>"
      ]
    },
    {
      "cell_type": "markdown",
      "source": [
        "#Content Creation from Glutenburg Project \n",
        "Pulls text from deceased authors works"
      ],
      "metadata": {
        "id": "0VxHBh9alu06"
      }
    },
    {
      "cell_type": "markdown",
      "source": [
        "## Import Libraries\n"
      ],
      "metadata": {
        "id": "nmRdWw3FmFgv"
      }
    },
    {
      "cell_type": "code",
      "execution_count": 1,
      "metadata": {
        "id": "OzPyeJi6r6XI"
      },
      "outputs": [],
      "source": [
        "# Import libraries\n",
        "import sys, os, time, datetime\n",
        "import tensorflow as tf\n",
        "from tensorflow.keras.layers.experimental import preprocessing\n",
        "\n",
        "import pandas\n",
        "import numpy as np\n",
        "\n",
        "%load_ext tensorboard"
      ]
    },
    {
      "cell_type": "markdown",
      "source": [
        "## Get source with text\n"
      ],
      "metadata": {
        "id": "oeitgZp6mOvC"
      }
    },
    {
      "cell_type": "code",
      "source": [
        "# get source texts dictionary from .csv online\n",
        "source_texts_url = \"https://raw.githubusercontent.com/Kate-Strydom/cse450/main/source_text.csv\"\n",
        "source_texts = \"source_texts.csv\"\n",
        "\n",
        "if sys.platform == \"darwin\": \n",
        "  # with vs code, pandas can't read directly from url, so we need to use wget \n",
        "  # to download and save the content first\n",
        "  !echo \"Downloading files..\"\n",
        "  !wget \"https://raw.githubusercontent.com/Kate-Strydom/cse450/main/source_text.csv\" -O \"source_texts.csv\"\n",
        "  source_texts_url = source_texts\n",
        "\n",
        "df = pandas.read_csv(source_texts_url)\n",
        "def url_to_filename(url:str): return url[url.rindex('/')+1 : ]\n",
        "df[\"Filename\"] = df[\"URL\"].apply(url_to_filename)"
      ],
      "metadata": {
        "id": "k4BDq3g4sSwe"
      },
      "execution_count": 2,
      "outputs": []
    },
    {
      "cell_type": "code",
      "source": [
        "df"
      ],
      "metadata": {
        "colab": {
          "base_uri": "https://localhost:8080/",
          "height": 621
        },
        "id": "qLck6To_10L5",
        "outputId": "fcc0795c-64b1-4ec6-cd0f-bc83c29f54c4"
      },
      "execution_count": 3,
      "outputs": [
        {
          "output_type": "execute_result",
          "data": {
            "text/plain": [
              "            id                                                URL  \\\n",
              "0         Emma  https://raw.githubusercontent.com/byui-cse/cse...   \n",
              "1         Abby  https://raw.githubusercontent.com/Kate-Strydom...   \n",
              "2   PeterWendy  https://raw.githubusercontent.com/Kate-Strydom...   \n",
              "3   Kensington  https://raw.githubusercontent.com/Kate-Strydom...   \n",
              "4     PeterPan  https://raw.githubusercontent.com/Kate-Strydom...   \n",
              "5         Time  https://raw.githubusercontent.com/Kate-Strydom...   \n",
              "6        Alice  https://raw.githubusercontent.com/Kate-Strydom...   \n",
              "7  CallOfDeath  https://raw.githubusercontent.com/Kate-Strydom...   \n",
              "8  WarAndPeace  https://raw.githubusercontent.com/Kate-Strydom...   \n",
              "\n",
              "                              Title        Author  \\\n",
              "0                              Emma   Jane Austen   \n",
              "1                  Northanger Abbey  Jane Austen    \n",
              "2                 \"Peter and Wendy\"   J.M. Barrie   \n",
              "3           Peter Pan in Kensington   J.M. Barrie   \n",
              "4                         Peter Pan   J.M. Barrie   \n",
              "5                \"Once upon a Time\"    A.A. Milne   \n",
              "6  Alice's Adventures in Wonderland    C.S. Lewis   \n",
              "7                     Call of Death   Nick Carter   \n",
              "8       \"War and Peace - Last Book\"   Leo Tolstoy   \n",
              "\n",
              "                           Filename  \n",
              "0                        austen.txt  \n",
              "1       northanger_abbey_austen.txt  \n",
              "2     peter_and_wendy_jm_barrie.txt  \n",
              "3  peter_pan_kensignton_gardens.txt  \n",
              "4      peter_pan_james_m_barrie.txt  \n",
              "5                      aa_milne.txt  \n",
              "6             aliceinwonderland.txt  \n",
              "7     call_of_death_nick_carter.txt  \n",
              "8                 war_and_peace.txt  "
            ],
            "text/html": [
              "\n",
              "  <div id=\"df-a33ffc68-748f-4220-99f1-e2227820a030\">\n",
              "    <div class=\"colab-df-container\">\n",
              "      <div>\n",
              "<style scoped>\n",
              "    .dataframe tbody tr th:only-of-type {\n",
              "        vertical-align: middle;\n",
              "    }\n",
              "\n",
              "    .dataframe tbody tr th {\n",
              "        vertical-align: top;\n",
              "    }\n",
              "\n",
              "    .dataframe thead th {\n",
              "        text-align: right;\n",
              "    }\n",
              "</style>\n",
              "<table border=\"1\" class=\"dataframe\">\n",
              "  <thead>\n",
              "    <tr style=\"text-align: right;\">\n",
              "      <th></th>\n",
              "      <th>id</th>\n",
              "      <th>URL</th>\n",
              "      <th>Title</th>\n",
              "      <th>Author</th>\n",
              "      <th>Filename</th>\n",
              "    </tr>\n",
              "  </thead>\n",
              "  <tbody>\n",
              "    <tr>\n",
              "      <th>0</th>\n",
              "      <td>Emma</td>\n",
              "      <td>https://raw.githubusercontent.com/byui-cse/cse...</td>\n",
              "      <td>Emma</td>\n",
              "      <td>Jane Austen</td>\n",
              "      <td>austen.txt</td>\n",
              "    </tr>\n",
              "    <tr>\n",
              "      <th>1</th>\n",
              "      <td>Abby</td>\n",
              "      <td>https://raw.githubusercontent.com/Kate-Strydom...</td>\n",
              "      <td>Northanger Abbey</td>\n",
              "      <td>Jane Austen</td>\n",
              "      <td>northanger_abbey_austen.txt</td>\n",
              "    </tr>\n",
              "    <tr>\n",
              "      <th>2</th>\n",
              "      <td>PeterWendy</td>\n",
              "      <td>https://raw.githubusercontent.com/Kate-Strydom...</td>\n",
              "      <td>\"Peter and Wendy\"</td>\n",
              "      <td>J.M. Barrie</td>\n",
              "      <td>peter_and_wendy_jm_barrie.txt</td>\n",
              "    </tr>\n",
              "    <tr>\n",
              "      <th>3</th>\n",
              "      <td>Kensington</td>\n",
              "      <td>https://raw.githubusercontent.com/Kate-Strydom...</td>\n",
              "      <td>Peter Pan in Kensington</td>\n",
              "      <td>J.M. Barrie</td>\n",
              "      <td>peter_pan_kensignton_gardens.txt</td>\n",
              "    </tr>\n",
              "    <tr>\n",
              "      <th>4</th>\n",
              "      <td>PeterPan</td>\n",
              "      <td>https://raw.githubusercontent.com/Kate-Strydom...</td>\n",
              "      <td>Peter Pan</td>\n",
              "      <td>J.M. Barrie</td>\n",
              "      <td>peter_pan_james_m_barrie.txt</td>\n",
              "    </tr>\n",
              "    <tr>\n",
              "      <th>5</th>\n",
              "      <td>Time</td>\n",
              "      <td>https://raw.githubusercontent.com/Kate-Strydom...</td>\n",
              "      <td>\"Once upon a Time\"</td>\n",
              "      <td>A.A. Milne</td>\n",
              "      <td>aa_milne.txt</td>\n",
              "    </tr>\n",
              "    <tr>\n",
              "      <th>6</th>\n",
              "      <td>Alice</td>\n",
              "      <td>https://raw.githubusercontent.com/Kate-Strydom...</td>\n",
              "      <td>Alice's Adventures in Wonderland</td>\n",
              "      <td>C.S. Lewis</td>\n",
              "      <td>aliceinwonderland.txt</td>\n",
              "    </tr>\n",
              "    <tr>\n",
              "      <th>7</th>\n",
              "      <td>CallOfDeath</td>\n",
              "      <td>https://raw.githubusercontent.com/Kate-Strydom...</td>\n",
              "      <td>Call of Death</td>\n",
              "      <td>Nick Carter</td>\n",
              "      <td>call_of_death_nick_carter.txt</td>\n",
              "    </tr>\n",
              "    <tr>\n",
              "      <th>8</th>\n",
              "      <td>WarAndPeace</td>\n",
              "      <td>https://raw.githubusercontent.com/Kate-Strydom...</td>\n",
              "      <td>\"War and Peace - Last Book\"</td>\n",
              "      <td>Leo Tolstoy</td>\n",
              "      <td>war_and_peace.txt</td>\n",
              "    </tr>\n",
              "  </tbody>\n",
              "</table>\n",
              "</div>\n",
              "      <button class=\"colab-df-convert\" onclick=\"convertToInteractive('df-a33ffc68-748f-4220-99f1-e2227820a030')\"\n",
              "              title=\"Convert this dataframe to an interactive table.\"\n",
              "              style=\"display:none;\">\n",
              "        \n",
              "  <svg xmlns=\"http://www.w3.org/2000/svg\" height=\"24px\"viewBox=\"0 0 24 24\"\n",
              "       width=\"24px\">\n",
              "    <path d=\"M0 0h24v24H0V0z\" fill=\"none\"/>\n",
              "    <path d=\"M18.56 5.44l.94 2.06.94-2.06 2.06-.94-2.06-.94-.94-2.06-.94 2.06-2.06.94zm-11 1L8.5 8.5l.94-2.06 2.06-.94-2.06-.94L8.5 2.5l-.94 2.06-2.06.94zm10 10l.94 2.06.94-2.06 2.06-.94-2.06-.94-.94-2.06-.94 2.06-2.06.94z\"/><path d=\"M17.41 7.96l-1.37-1.37c-.4-.4-.92-.59-1.43-.59-.52 0-1.04.2-1.43.59L10.3 9.45l-7.72 7.72c-.78.78-.78 2.05 0 2.83L4 21.41c.39.39.9.59 1.41.59.51 0 1.02-.2 1.41-.59l7.78-7.78 2.81-2.81c.8-.78.8-2.07 0-2.86zM5.41 20L4 18.59l7.72-7.72 1.47 1.35L5.41 20z\"/>\n",
              "  </svg>\n",
              "      </button>\n",
              "      \n",
              "  <style>\n",
              "    .colab-df-container {\n",
              "      display:flex;\n",
              "      flex-wrap:wrap;\n",
              "      gap: 12px;\n",
              "    }\n",
              "\n",
              "    .colab-df-convert {\n",
              "      background-color: #E8F0FE;\n",
              "      border: none;\n",
              "      border-radius: 50%;\n",
              "      cursor: pointer;\n",
              "      display: none;\n",
              "      fill: #1967D2;\n",
              "      height: 32px;\n",
              "      padding: 0 0 0 0;\n",
              "      width: 32px;\n",
              "    }\n",
              "\n",
              "    .colab-df-convert:hover {\n",
              "      background-color: #E2EBFA;\n",
              "      box-shadow: 0px 1px 2px rgba(60, 64, 67, 0.3), 0px 1px 3px 1px rgba(60, 64, 67, 0.15);\n",
              "      fill: #174EA6;\n",
              "    }\n",
              "\n",
              "    [theme=dark] .colab-df-convert {\n",
              "      background-color: #3B4455;\n",
              "      fill: #D2E3FC;\n",
              "    }\n",
              "\n",
              "    [theme=dark] .colab-df-convert:hover {\n",
              "      background-color: #434B5C;\n",
              "      box-shadow: 0px 1px 3px 1px rgba(0, 0, 0, 0.15);\n",
              "      filter: drop-shadow(0px 1px 2px rgba(0, 0, 0, 0.3));\n",
              "      fill: #FFFFFF;\n",
              "    }\n",
              "  </style>\n",
              "\n",
              "      <script>\n",
              "        const buttonEl =\n",
              "          document.querySelector('#df-a33ffc68-748f-4220-99f1-e2227820a030 button.colab-df-convert');\n",
              "        buttonEl.style.display =\n",
              "          google.colab.kernel.accessAllowed ? 'block' : 'none';\n",
              "\n",
              "        async function convertToInteractive(key) {\n",
              "          const element = document.querySelector('#df-a33ffc68-748f-4220-99f1-e2227820a030');\n",
              "          const dataTable =\n",
              "            await google.colab.kernel.invokeFunction('convertToInteractive',\n",
              "                                                     [key], {});\n",
              "          if (!dataTable) return;\n",
              "\n",
              "          const docLinkHtml = 'Like what you see? Visit the ' +\n",
              "            '<a target=\"_blank\" href=https://colab.research.google.com/notebooks/data_table.ipynb>data table notebook</a>'\n",
              "            + ' to learn more about interactive tables.';\n",
              "          element.innerHTML = '';\n",
              "          dataTable['output_type'] = 'display_data';\n",
              "          await google.colab.output.renderOutput(dataTable, element);\n",
              "          const docLink = document.createElement('div');\n",
              "          docLink.innerHTML = docLinkHtml;\n",
              "          element.appendChild(docLink);\n",
              "        }\n",
              "      </script>\n",
              "    </div>\n",
              "  </div>\n",
              "  "
            ]
          },
          "metadata": {},
          "execution_count": 3
        }
      ]
    },
    {
      "cell_type": "markdown",
      "metadata": {
        "id": "qv4r-dKnSRKz"
      },
      "source": [
        "## I. Parse Text Sources\n",
        "First we'll load our text sources and create our vocabulary lists and encoders. \n",
        "\n",
        "There are ways we could do this in pure python, but using the tensorflow data structures and libraries allow us to keep things super-optimized."
      ]
    },
    {
      "cell_type": "code",
      "execution_count": 2,
      "metadata": {
        "id": "H8RbnIjwHGoR"
      },
      "outputs": [],
      "source": [
        "# Load file data\n",
        "#path_to_file1 = tf.keras.utils.get_file('austen.txt', 'https://raw.githubusercontent.com/byui-cse/cse450-course/master/data/austen/austen.txt')\n",
        "#text_austen = open(path_to_file1, 'rb').read().decode(encoding='utf-8')\n",
        "\n",
        "#print('Length of text: {} characters'.format(len(text_austen)))"
      ]
    },
    {
      "cell_type": "code",
      "execution_count": 4,
      "metadata": {
        "id": "o_sOwb4p3R7f"
      },
      "outputs": [],
      "source": [
        "# Load file data\n",
        "def get_author_sources(manual_input = False):\n",
        "  \"\"\"This takes each of the souces and merges/stacks them into a single str variable\"\"\"\n",
        "\n",
        "  source_amount = 1\n",
        "  if manual_input:\n",
        "    source_amount = input(\"How Many sources would you like to use? \")\n",
        "    source_amount = int(source_amount) # source amount needs to be an int value\n",
        "    if source_amount < 1: source_amount = 1 # source amount can only be at least 1\n",
        "\n",
        "  text = \"\"\n",
        "  for _ in range(source_amount):\n",
        "\n",
        "    id = \"Bible\" # default id\n",
        "    if manual_input: id = input(\"Enter source id (refer to .csv file): \")\n",
        "    source_row_i  = df.index[df[\"id\"] == id].tolist()[0]\n",
        "    row_filename  = df[df.index == source_row_i].loc[source_row_i].at[\"Filename\"]\n",
        "    row_url       = df[df.index == source_row_i].loc[source_row_i].at[\"URL\"]\n",
        "    \n",
        "    if sys.platform == \"darwin\":\n",
        "      # in vs code (mac)\n",
        "      !wget $row_url -O $row_filename\n",
        "      path_to_file = row_filename\n",
        "\n",
        "    else: \n",
        "      path_to_file = tf.keras.utils.get_file(fname=row_filename, origin=row_url)\n",
        "\n",
        "    source_text = \"\"\n",
        "    source_text += open(path_to_file, 'rb').read().decode(encoding='utf-8')\n",
        "    print(f\"Length of text: {len(source_text)} characters\")\n",
        "\n",
        "    text += source_text\n",
        "\n",
        "  return text"
      ]
    },
    {
      "cell_type": "code",
      "source": [
        "# Load file data\n",
        "text = get_author_sources(manual_input=True)"
      ],
      "metadata": {
        "colab": {
          "base_uri": "https://localhost:8080/"
        },
        "id": "oH_1k1MO3aSG",
        "outputId": "5173fa62-e9fe-4125-cd2d-d3a172bc7a89"
      },
      "execution_count": 5,
      "outputs": [
        {
          "output_type": "stream",
          "name": "stdout",
          "text": [
            "How Many sources would you like to use? 3\n",
            "Enter source id (refer to .csv file): Kensington\n",
            "Downloading data from https://raw.githubusercontent.com/Kate-Strydom/cse450/main/peter_pan_kensignton_gardens.txt\n",
            "122880/118310 [===============================] - 0s 0us/step\n",
            "131072/118310 [=================================] - 0s 0us/step\n",
            "Length of text: 118310 characters\n",
            "Enter source id (refer to .csv file): PeterPan\n",
            "Downloading data from https://raw.githubusercontent.com/Kate-Strydom/cse450/main/peter_pan_james_m_barrie.txt\n",
            "270336/267999 [==============================] - 0s 0us/step\n",
            "278528/267999 [===============================] - 0s 0us/step\n",
            "Length of text: 260845 characters\n",
            "Enter source id (refer to .csv file): PeterWendy\n",
            "Downloading data from https://raw.githubusercontent.com/Kate-Strydom/cse450/main/peter_and_wendy_jm_barrie.txt\n",
            "262144/261577 [==============================] - 0s 0us/step\n",
            "270336/261577 [===============================] - 0s 0us/step\n",
            "Length of text: 261574 characters\n"
          ]
        }
      ]
    },
    {
      "cell_type": "code",
      "execution_count": 47,
      "metadata": {
        "colab": {
          "base_uri": "https://localhost:8080/"
        },
        "id": "2XRnt0XUHUrq",
        "outputId": "ba1fe85b-d618-417e-af75-f656254826ce"
      },
      "outputs": [
        {
          "output_type": "stream",
          "name": "stdout",
          "text": [
            "PETER PAN\r\n",
            "\r\n",
            "IN KENSINGTON GARDENS\r\n",
            "\r\n",
            "\r\n",
            "I\r\n",
            "\r\n",
            "THE GRAND TOUR OF THE GARDENS\r\n",
            "\r\n",
            "You must see for yourselves that it will be difficult to follow Peter\r\n",
            "Pan's adventures unless you are familiar with the K\n"
          ]
        }
      ],
      "source": [
        "# Verify the first part of our data\n",
        "print(text[:200])"
      ]
    },
    {
      "cell_type": "code",
      "execution_count": 48,
      "metadata": {
        "colab": {
          "base_uri": "https://localhost:8080/"
        },
        "id": "2SLd7l0HP1Po",
        "outputId": "817f33d7-1ca3-4b13-dac1-ab24f5c3b4d9"
      },
      "outputs": [
        {
          "output_type": "stream",
          "name": "stdout",
          "text": [
            "82 unique characters\n",
            "['\\n', '\\r', ' ', '!', '\"', \"'\", '(', ')', ',', '-', '.', '0', '1', '2', '3', '4', '6', '7', ':', ';', '?', 'A', 'B', 'C', 'D', 'E', 'F', 'G', 'H', 'I', 'J', 'K', 'L', 'M', 'N', 'O', 'P', 'Q', 'R', 'S', 'T', 'U', 'V', 'W', 'X', 'Y', 'Z', '[', ']', '_', 'a', 'b', 'c', 'd', 'e', 'f', 'g', 'h', 'i', 'j', 'k', 'l', 'm', 'n', 'o', 'p', 'q', 'r', 's', 't', 'u', 'v', 'w', 'x', 'y', 'z', 'é', '—', '‘', '’', '“', '”']\n"
          ]
        }
      ],
      "source": [
        "# Now we'll get a list of the unique characters in the file. This will form the\n",
        "# vocabulary of our network. There may be some characters we want to remove from this \n",
        "# set as we refine the network.\n",
        "vocab = sorted(set(text))\n",
        "print('{} unique characters'.format(len(vocab)))\n",
        "print(vocab)"
      ]
    },
    {
      "cell_type": "code",
      "execution_count": 50,
      "metadata": {
        "id": "NtjOxL7wQibb"
      },
      "outputs": [],
      "source": [
        "# Next, we'll encode encode these characters into numbers so we can use them\n",
        "# with our neural network, then we'll create some mappings between the characters\n",
        "# and their numeric representations\n",
        "ids_from_chars = preprocessing.StringLookup(vocabulary=list(vocab))\n",
        "chars_from_ids = tf.keras.layers.experimental.preprocessing.StringLookup(vocabulary=ids_from_chars.get_vocabulary(), invert=True)\n",
        "\n",
        "# Here's a little helper function that we can use to turn a sequence of ids\n",
        "# back into a string:\n",
        "# turn them into a string:\n",
        "def text_from_ids(ids):\n",
        "  joinedTensor = tf.strings.reduce_join(chars_from_ids(ids), axis=-1)\n",
        "  return joinedTensor.numpy().decode(\"utf-8\")"
      ]
    },
    {
      "cell_type": "code",
      "execution_count": 51,
      "metadata": {
        "colab": {
          "base_uri": "https://localhost:8080/"
        },
        "id": "52bkemreRw8q",
        "outputId": "9b35233a-3073-4714-f6fa-c22ed3ab58c9"
      },
      "outputs": [
        {
          "output_type": "execute_result",
          "data": {
            "text/plain": [
              "<tf.Tensor: shape=(5,), dtype=int64, numpy=array([41, 68, 71, 70, 58])>"
            ]
          },
          "metadata": {},
          "execution_count": 51
        }
      ],
      "source": [
        "# Now we'll verify that they work, by getting the code for \"A\", and then looking\n",
        "# that up in reverse\n",
        "testids = ids_from_chars([\"T\", \"r\", \"u\", \"t\", \"h\"])\n",
        "testids"
      ]
    },
    {
      "cell_type": "code",
      "execution_count": 52,
      "metadata": {
        "colab": {
          "base_uri": "https://localhost:8080/"
        },
        "id": "vGUnSHjtD_IJ",
        "outputId": "4ad48cea-c5cb-4907-a864-b237de801bf7"
      },
      "outputs": [
        {
          "output_type": "execute_result",
          "data": {
            "text/plain": [
              "<tf.Tensor: shape=(5,), dtype=string, numpy=array([b'T', b'r', b'u', b't', b'h'], dtype=object)>"
            ]
          },
          "metadata": {},
          "execution_count": 52
        }
      ],
      "source": [
        "chars_from_ids(testids)"
      ]
    },
    {
      "cell_type": "code",
      "execution_count": 53,
      "metadata": {
        "colab": {
          "base_uri": "https://localhost:8080/",
          "height": 35
        },
        "id": "8rghkpLLLjL5",
        "outputId": "1b6697e2-3948-4714-8d8d-0343b08702d0"
      },
      "outputs": [
        {
          "output_type": "execute_result",
          "data": {
            "text/plain": [
              "'Truth'"
            ],
            "application/vnd.google.colaboratory.intrinsic+json": {
              "type": "string"
            }
          },
          "metadata": {},
          "execution_count": 53
        }
      ],
      "source": [
        "testString = text_from_ids( testids )\n",
        "testString"
      ]
    },
    {
      "cell_type": "markdown",
      "metadata": {
        "id": "MRXMVqTcSpA0"
      },
      "source": [
        "## II. Construct our training data\n",
        "Next we need to construct our training data by building sentence chunks. Each chunk will consist of a sequence of characters and a corresponding \"next sequence\" of the same length showing what would happen if we move forward in the text. This \"next sequence\" becomes our target variable.\n",
        "\n",
        "For example, if this were our text:\n",
        "\n",
        "> It is a truth universally acknowledged, that a single man in possession\n",
        "of a good fortune, must be in want of a wife.\n",
        "\n",
        "And our sequence length was 10 with a step size of 1, our first chunk would be:\n",
        "\n",
        "* Sequence: `It is a tr`\n",
        "* Next Sequence: `t is a tru`\n",
        "\n",
        "Our second chunk would be:\n",
        "\n",
        "* Sequence: `t is a tru`\n",
        "* Next Word: ` is a trut`\n",
        "\n"
      ]
    },
    {
      "cell_type": "code",
      "execution_count": 54,
      "metadata": {
        "colab": {
          "base_uri": "https://localhost:8080/"
        },
        "id": "5PLJWOg2P_fE",
        "outputId": "33ffd030-b068-4a97-a5d6-e2b5db140d5c"
      },
      "outputs": [
        {
          "output_type": "execute_result",
          "data": {
            "text/plain": [
              "<tf.Tensor: shape=(640729,), dtype=int64, numpy=array([37, 26, 41, ..., 25,  2,  1])>"
            ]
          },
          "metadata": {},
          "execution_count": 54
        }
      ],
      "source": [
        "# First, create a stream of encoded integers from our text\n",
        "all_ids = ids_from_chars(tf.strings.unicode_split(text, 'UTF-8'))\n",
        "all_ids"
      ]
    },
    {
      "cell_type": "code",
      "execution_count": 55,
      "metadata": {
        "id": "-nBqVY6pFpZs"
      },
      "outputs": [],
      "source": [
        "# Now, convert that into a tensorflow dataset\n",
        "ids_dataset = tf.data.Dataset.from_tensor_slices(all_ids)"
      ]
    },
    {
      "cell_type": "code",
      "source": [
        "ids_dataset"
      ],
      "metadata": {
        "id": "bpulbcpmzSmT",
        "outputId": "78ac12e5-9f94-48e5-a011-5b7f500d0851",
        "colab": {
          "base_uri": "https://localhost:8080/"
        }
      },
      "execution_count": 56,
      "outputs": [
        {
          "output_type": "execute_result",
          "data": {
            "text/plain": [
              "<TensorSliceDataset element_spec=TensorSpec(shape=(), dtype=tf.int64, name=None)>"
            ]
          },
          "metadata": {},
          "execution_count": 56
        }
      ]
    },
    {
      "cell_type": "code",
      "execution_count": 57,
      "metadata": {
        "id": "8Fr28CJxUBtG"
      },
      "outputs": [],
      "source": [
        "# Finally, let's batch these sequences up into chunks for our training\n",
        "seq_length = 100\n",
        "sequences = ids_dataset.batch(seq_length+1, drop_remainder=True)\n",
        "\n",
        "# This function will generate our sequence pairs:\n",
        "def split_input_target(sequence):\n",
        "    input_text = sequence[:-1]\n",
        "    target_text = sequence[1:]\n",
        "    return input_text, target_text\n",
        "\n",
        "# Call the function for every sequence in our list to create a new dataset\n",
        "# of input->target pairs\n",
        "dataset = sequences.map(split_input_target)"
      ]
    },
    {
      "cell_type": "code",
      "execution_count": 58,
      "metadata": {
        "colab": {
          "base_uri": "https://localhost:8080/"
        },
        "id": "poNVukmsUFkq",
        "outputId": "75022d0d-2997-4156-e62c-7e8cdf75ed15"
      },
      "outputs": [
        {
          "output_type": "stream",
          "name": "stdout",
          "text": [
            "Input:  PETER PAN\r\n",
            "\r\n",
            "IN KENSINGTON GARDENS\r\n",
            "\r\n",
            "\r\n",
            "I\r\n",
            "\r\n",
            "THE GRAND TOUR OF THE GARDENS\r\n",
            "\r\n",
            "You must see for yours\n",
            "--------\n",
            "Target:  ETER PAN\r\n",
            "\r\n",
            "IN KENSINGTON GARDENS\r\n",
            "\r\n",
            "\r\n",
            "I\r\n",
            "\r\n",
            "THE GRAND TOUR OF THE GARDENS\r\n",
            "\r\n",
            "You must see for yourse\n"
          ]
        }
      ],
      "source": [
        "# Verify our sequences\n",
        "for input_example, target_example in  dataset.take(1):\n",
        "    print(\"Input: \", text_from_ids(input_example))\n",
        "    print(\"--------\")\n",
        "    print(\"Target: \", text_from_ids(target_example))"
      ]
    },
    {
      "cell_type": "code",
      "execution_count": 59,
      "metadata": {
        "colab": {
          "base_uri": "https://localhost:8080/"
        },
        "id": "QDdr6xfZYa0o",
        "outputId": "dd735a6b-7dac-49b6-a241-2f8f59c4d527"
      },
      "outputs": [
        {
          "output_type": "execute_result",
          "data": {
            "text/plain": [
              "<PrefetchDataset element_spec=(TensorSpec(shape=(128, 100), dtype=tf.int64, name=None), TensorSpec(shape=(128, 100), dtype=tf.int64, name=None))>"
            ]
          },
          "metadata": {},
          "execution_count": 59
        }
      ],
      "source": [
        "# Finally, we'll randomize the sequences so that we don't just memorize the books\n",
        "# in the order they were written, then build a new streaming dataset from that.\n",
        "# Using a streaming dataset allows us to pass the data to our network bit by bit,\n",
        "# rather than keeping it all in memory. We'll set it to figure out how much data\n",
        "# to prefetch in the background.\n",
        "\n",
        "BATCH_SIZE = 128\n",
        "BUFFER_SIZE = 1000\n",
        "\n",
        "dataset = (\n",
        "    dataset\n",
        "    .shuffle(BUFFER_SIZE)\n",
        "    .batch(BATCH_SIZE, drop_remainder=True)\n",
        "    .prefetch(tf.data.experimental.AUTOTUNE))\n",
        "\n",
        "dataset"
      ]
    },
    {
      "cell_type": "markdown",
      "metadata": {
        "id": "0VQ-KjEeZMzd"
      },
      "source": [
        "## III. Build the model\n",
        "\n",
        "Next, we'll build our model. Up until this point, you've been using the Keras symbolic, or imperative API for creating your models. Doing something like:\n",
        "\n",
        "    model = tf.keras.models.Sequentla()\n",
        "    model.add(tf.keras.layers.Dense(80, activation='relu))\n",
        "    etc...\n",
        "\n",
        "However, tensorflow has another way to build models called the Functional API, which gives us a lot more control over what happens inside the model. You can read more about [the differences and when to use each here](https://blog.tensorflow.org/2019/01/what-are-symbolic-and-imperative-apis.html).\n",
        "\n",
        "We'll use the functional API for our RNN in this example. This will involve defining our model as a custom subclass of `tf.keras.Model`.\n",
        "\n",
        "If you're not familiar with classes in python, you might want to review [this quick tutorial](https://www.w3schools.com/python/python_classes.asp), as well as [this one on class inheritance](https://www.w3schools.com/python/python_inheritance.asp).\n",
        "\n",
        "Using a functional model is important for our situation because we're not just training it to predict a single character for a single sequence, but as we make predictions with it, we need it to remember those predictions as use that memory as it makes new predictions.\n"
      ]
    },
    {
      "cell_type": "code",
      "execution_count": 61,
      "metadata": {
        "id": "Fj4uh9y-Y9mx"
      },
      "outputs": [],
      "source": [
        "# Create our custom model. Given a sequence of characters, this\n",
        "# model's job is to predict what character should come next.\n",
        "class AustenTextModel(tf.keras.Model):\n",
        "\n",
        "  # This is our class constructor method, it will be executed when\n",
        "  # we first create an instance of the class \n",
        "  def __init__(self, vocab_size, embedding_dim, rnn_units):\n",
        "    super().__init__(self)\n",
        "\n",
        "    # Our model will have three layers:\n",
        "    \n",
        "    # 1. An embedding layer that handles the encoding of our vocabulary into\n",
        "    #    a vector of values suitable for a neural network\n",
        "    self.embedding = tf.keras.layers.Embedding(vocab_size, embedding_dim)\n",
        "\n",
        "    # 2. A GRU layer that handles the \"memory\" aspects of our RNN. If you're\n",
        "    #    wondering why we use GRU instead of LSTM, and whether LSTM is better,\n",
        "    #    take a look at this article: https://datascience.stackexchange.com/questions/14581/when-to-use-gru-over-lstm\n",
        "    #    then consider trying out LSTM instead (or in addition to!)\n",
        "    self.gru = tf.keras.layers.GRU(rnn_units, return_sequences=True, return_state=True)\n",
        "\n",
        "    # 3. Our output layer that will give us a set of probabilities for each\n",
        "    #    character in our vocabulary.\n",
        "    self.dense = tf.keras.layers.Dense(vocab_size)\n",
        "\n",
        "  # This function will be executed for each epoch of our training. Here\n",
        "  # we will manually feed information from one layer of our network to the \n",
        "  # next.\n",
        "  def call(self, inputs, states=None, return_state=False, training=False):\n",
        "    x = inputs\n",
        "\n",
        "    # 1. Feed the inputs into the embedding layer, and tell it if we are\n",
        "    #    training or predicting\n",
        "    x = self.embedding(x, training=training)\n",
        "\n",
        "    # 2. If we don't have any state in memory yet, get the initial random state\n",
        "    #    from our GRUI layer.\n",
        "    if states is None:\n",
        "      states = self.gru.get_initial_state(x)\n",
        "    \n",
        "    # 3. Now, feed the vectorized input along with the current state of memory\n",
        "    #    into the gru layer.\n",
        "    x, states = self.gru(x, initial_state=states, training=training)\n",
        "\n",
        "    # 4. Finally, pass the results on to the dense layer\n",
        "    x = self.dense(x, training=training)\n",
        "\n",
        "    # 5. Return the results\n",
        "    if return_state:\n",
        "      return x, states\n",
        "    else: \n",
        "      return x"
      ]
    },
    {
      "cell_type": "code",
      "execution_count": 62,
      "metadata": {
        "id": "UA2C6pxZc4De"
      },
      "outputs": [],
      "source": [
        "# Create an instance of our model\n",
        "vocab_size=len(ids_from_chars.get_vocabulary())\n",
        "embedding_dim = 256\n",
        "rnn_units = 1024\n",
        "\n",
        "model = AustenTextModel(vocab_size, embedding_dim, rnn_units)"
      ]
    },
    {
      "cell_type": "code",
      "execution_count": 63,
      "metadata": {
        "colab": {
          "base_uri": "https://localhost:8080/"
        },
        "id": "C67kN7YAdfSf",
        "outputId": "dc72e0a2-38b6-4d7e-e500-6f241dadb782"
      },
      "outputs": [
        {
          "output_type": "stream",
          "name": "stdout",
          "text": [
            "(128, 100, 83) # (batch_size, sequence_length, vocab_size)\n"
          ]
        }
      ],
      "source": [
        "# Verify the output of our model is correct by running one sample through\n",
        "# This will also compile the model for us. This step will take a bit.\n",
        "for input_example_batch, target_example_batch in dataset.take(1):\n",
        "    example_batch_predictions = model(input_example_batch)\n",
        "    print(example_batch_predictions.shape, \"# (batch_size, sequence_length, vocab_size)\")\n"
      ]
    },
    {
      "cell_type": "code",
      "execution_count": 64,
      "metadata": {
        "colab": {
          "base_uri": "https://localhost:8080/"
        },
        "id": "qJGL8gCWdsiu",
        "outputId": "b853d1e6-7391-4f1b-d2e5-6c54c048a9b9"
      },
      "outputs": [
        {
          "output_type": "stream",
          "name": "stdout",
          "text": [
            "Model: \"austen_text_model_4\"\n",
            "_________________________________________________________________\n",
            " Layer (type)                Output Shape              Param #   \n",
            "=================================================================\n",
            " embedding_4 (Embedding)     multiple                  21248     \n",
            "                                                                 \n",
            " gru_4 (GRU)                 multiple                  3938304   \n",
            "                                                                 \n",
            " dense_4 (Dense)             multiple                  85075     \n",
            "                                                                 \n",
            "=================================================================\n",
            "Total params: 4,044,627\n",
            "Trainable params: 4,044,627\n",
            "Non-trainable params: 0\n",
            "_________________________________________________________________\n"
          ]
        }
      ],
      "source": [
        "# Now let's view the model summary\n",
        "model.summary()"
      ]
    },
    {
      "cell_type": "markdown",
      "metadata": {
        "id": "wTDe5m4baEqo"
      },
      "source": [
        "## IV. Train the model\n",
        "\n",
        "For our purposes, we'll be using [categorical cross entropy](https://machinelearningmastery.com/cross-entropy-for-machine-learning/) as our loss function*. Also, our model will be outputting [\"logits\" rather than normalized probabilities](https://stackoverflow.com/questions/41455101/what-is-the-meaning-of-the-word-logits-in-tensorflow), because we'll be doing further transformations on the output later. \n",
        "\n",
        "\n",
        "\\* Note that since our model deals with integer encoding rather than one-hot encoding, we'll specifically be using [sparse categorical cross entropy](https://stats.stackexchange.com/questions/326065/cross-entropy-vs-sparse-cross-entropy-when-to-use-one-over-the-other)."
      ]
    },
    {
      "cell_type": "code",
      "execution_count": 65,
      "metadata": {
        "colab": {
          "base_uri": "https://localhost:8080/"
        },
        "id": "7vOxc7CkaGQB",
        "outputId": "6bc7a430-9b69-45a9-9b46-68b7a9c23e0a"
      },
      "outputs": [
        {
          "output_type": "stream",
          "name": "stdout",
          "text": [
            "Epoch 1/60\n",
            "49/49 [==============================] - 8s 95ms/step - loss: 3.3513\n",
            "Epoch 2/60\n",
            "49/49 [==============================] - 5s 89ms/step - loss: 2.4188\n",
            "Epoch 3/60\n",
            "49/49 [==============================] - 5s 92ms/step - loss: 2.2094\n",
            "Epoch 4/60\n",
            "49/49 [==============================] - 4s 88ms/step - loss: 2.0704\n",
            "Epoch 5/60\n",
            "49/49 [==============================] - 4s 88ms/step - loss: 1.9265\n",
            "Epoch 6/60\n",
            "49/49 [==============================] - 4s 89ms/step - loss: 1.7984\n",
            "Epoch 7/60\n",
            "49/49 [==============================] - 4s 89ms/step - loss: 1.6884\n",
            "Epoch 8/60\n",
            "49/49 [==============================] - 4s 89ms/step - loss: 1.5917\n",
            "Epoch 9/60\n",
            "49/49 [==============================] - 5s 90ms/step - loss: 1.5055\n",
            "Epoch 10/60\n",
            "49/49 [==============================] - 5s 90ms/step - loss: 1.4316\n",
            "Epoch 11/60\n",
            "49/49 [==============================] - 4s 89ms/step - loss: 1.3669\n",
            "Epoch 12/60\n",
            "49/49 [==============================] - 5s 90ms/step - loss: 1.3072\n",
            "Epoch 13/60\n",
            "49/49 [==============================] - 5s 90ms/step - loss: 1.2532\n",
            "Epoch 14/60\n",
            "49/49 [==============================] - 5s 91ms/step - loss: 1.2032\n",
            "Epoch 15/60\n",
            "49/49 [==============================] - 5s 90ms/step - loss: 1.1531\n",
            "Epoch 16/60\n",
            "49/49 [==============================] - 5s 91ms/step - loss: 1.1025\n",
            "Epoch 17/60\n",
            "49/49 [==============================] - 5s 91ms/step - loss: 1.0552\n",
            "Epoch 18/60\n",
            "49/49 [==============================] - 5s 91ms/step - loss: 1.0017\n",
            "Epoch 19/60\n",
            "49/49 [==============================] - 5s 91ms/step - loss: 0.9487\n",
            "Epoch 20/60\n",
            "49/49 [==============================] - 5s 91ms/step - loss: 0.8913\n",
            "Epoch 21/60\n",
            "49/49 [==============================] - 5s 91ms/step - loss: 0.8323\n",
            "Epoch 22/60\n",
            "49/49 [==============================] - 5s 91ms/step - loss: 0.7728\n",
            "Epoch 23/60\n",
            "49/49 [==============================] - 5s 91ms/step - loss: 0.7117\n",
            "Epoch 24/60\n",
            "49/49 [==============================] - 5s 91ms/step - loss: 0.6480\n",
            "Epoch 25/60\n",
            "49/49 [==============================] - 5s 91ms/step - loss: 0.5869\n",
            "Epoch 26/60\n",
            "49/49 [==============================] - 5s 91ms/step - loss: 0.5266\n",
            "Epoch 27/60\n",
            "49/49 [==============================] - 5s 92ms/step - loss: 0.4700\n",
            "Epoch 28/60\n",
            "49/49 [==============================] - 5s 92ms/step - loss: 0.4183\n",
            "Epoch 29/60\n",
            "49/49 [==============================] - 5s 91ms/step - loss: 0.3722\n",
            "Epoch 30/60\n",
            "49/49 [==============================] - 5s 92ms/step - loss: 0.3304\n",
            "Epoch 31/60\n",
            "49/49 [==============================] - 5s 94ms/step - loss: 0.2948\n",
            "Epoch 32/60\n",
            "49/49 [==============================] - 5s 91ms/step - loss: 0.2624\n",
            "Epoch 33/60\n",
            "49/49 [==============================] - 5s 92ms/step - loss: 0.2342\n",
            "Epoch 34/60\n",
            "49/49 [==============================] - 5s 92ms/step - loss: 0.2137\n",
            "Epoch 35/60\n",
            "49/49 [==============================] - 5s 92ms/step - loss: 0.1961\n",
            "Epoch 36/60\n",
            "49/49 [==============================] - 5s 92ms/step - loss: 0.1794\n",
            "Epoch 37/60\n",
            "49/49 [==============================] - 5s 92ms/step - loss: 0.1670\n",
            "Epoch 38/60\n",
            "49/49 [==============================] - 5s 93ms/step - loss: 0.1552\n",
            "Epoch 39/60\n",
            "49/49 [==============================] - 5s 92ms/step - loss: 0.1454\n",
            "Epoch 40/60\n",
            "49/49 [==============================] - 5s 92ms/step - loss: 0.1387\n",
            "Epoch 41/60\n",
            "49/49 [==============================] - 5s 92ms/step - loss: 0.1317\n",
            "Epoch 42/60\n",
            "49/49 [==============================] - 5s 93ms/step - loss: 0.1265\n",
            "Epoch 43/60\n",
            "49/49 [==============================] - 5s 92ms/step - loss: 0.1226\n",
            "Epoch 44/60\n",
            "49/49 [==============================] - 5s 92ms/step - loss: 0.1186\n",
            "Epoch 45/60\n",
            "49/49 [==============================] - 5s 93ms/step - loss: 0.1161\n",
            "Epoch 46/60\n",
            "49/49 [==============================] - 5s 92ms/step - loss: 0.1142\n",
            "Epoch 47/60\n",
            "49/49 [==============================] - 5s 93ms/step - loss: 0.1139\n",
            "Epoch 48/60\n",
            "49/49 [==============================] - 5s 93ms/step - loss: 0.1127\n",
            "Epoch 49/60\n",
            "49/49 [==============================] - 5s 93ms/step - loss: 0.1118\n",
            "Epoch 50/60\n",
            "49/49 [==============================] - 5s 92ms/step - loss: 0.1111\n",
            "Epoch 51/60\n",
            "49/49 [==============================] - 5s 92ms/step - loss: 0.1100\n",
            "Epoch 52/60\n",
            "49/49 [==============================] - 5s 93ms/step - loss: 0.1102\n",
            "Epoch 53/60\n",
            "49/49 [==============================] - 5s 93ms/step - loss: 0.1108\n",
            "Epoch 54/60\n",
            "49/49 [==============================] - 5s 92ms/step - loss: 0.1122\n",
            "Epoch 55/60\n",
            "49/49 [==============================] - 5s 93ms/step - loss: 0.1153\n",
            "Epoch 56/60\n",
            "49/49 [==============================] - 5s 93ms/step - loss: 0.1186\n",
            "Epoch 57/60\n",
            "49/49 [==============================] - 5s 92ms/step - loss: 0.1233\n",
            "Epoch 58/60\n",
            "49/49 [==============================] - 5s 93ms/step - loss: 0.1287\n",
            "Epoch 59/60\n",
            "49/49 [==============================] - 5s 93ms/step - loss: 0.1331\n",
            "Epoch 60/60\n",
            "49/49 [==============================] - 5s 92ms/step - loss: 0.1374\n"
          ]
        }
      ],
      "source": [
        "loss = tf.losses.SparseCategoricalCrossentropy(from_logits=True)\n",
        "model.compile(optimizer='adam', loss=loss)\n",
        "\n",
        "history = model.fit(dataset, epochs=60)"
      ]
    },
    {
      "cell_type": "markdown",
      "metadata": {
        "id": "casEwxrXcv4Y"
      },
      "source": [
        "## V. Use the model\n",
        "\n",
        "Now that our model has been trained, we can use it to generate text. As mentioned earlier, to do so we have to keep track of its internal state, or memory, so that we can use previous text predictions to inform later ones.\n",
        "\n",
        "However, with RNN generated text, if we always just pick the character with the highest probability, our model tends to get stuck in a loop. So instead we will create a probability distribution of characters for each step, and then sample from that distribution. We can add some variation to this using a paramter known as [\"temperature\"](https://cs.stackexchange.com/questions/79241/what-is-temperature-in-lstm-and-neural-networks-generally)."
      ]
    },
    {
      "cell_type": "code",
      "execution_count": 77,
      "metadata": {
        "id": "V3lhlyfwcqIN"
      },
      "outputs": [],
      "source": [
        "# Here's the code we'll use to sample for us. It has some extra steps to apply\n",
        "# the temperature to the distribution, and to make sure we don't get empty\n",
        "# characters in our text. Most importantly, it will keep track of our model\n",
        "# state for us.\n",
        "\n",
        "class OneStep(tf.keras.Model):\n",
        "  def __init__(self, model, chars_from_ids, ids_from_chars, temperature=1.7):\n",
        "    super().__init__()\n",
        "    self.temperature=temperature\n",
        "    self.model = model\n",
        "    self.chars_from_ids = chars_from_ids\n",
        "    self.ids_from_chars = ids_from_chars\n",
        "\n",
        "    # Create a mask to prevent \"\" or \"[UNK]\" from being generated.\n",
        "    skip_ids = self.ids_from_chars(['','[UNK]'])[:, None]\n",
        "    sparse_mask = tf.SparseTensor(\n",
        "        # Put a -inf at each bad index.\n",
        "        values=[-float('inf')]*len(skip_ids),\n",
        "        indices = skip_ids,\n",
        "        # Match the shape to the vocabulary\n",
        "        dense_shape=[len(ids_from_chars.get_vocabulary())]) \n",
        "    self.prediction_mask = tf.sparse.to_dense(sparse_mask,validate_indices=False)\n",
        "\n",
        "  @tf.function\n",
        "  def generate_one_step(self, inputs, states=None):\n",
        "    # Convert strings to token IDs.\n",
        "    input_chars = tf.strings.unicode_split(inputs, 'UTF-8')\n",
        "    input_ids = self.ids_from_chars(input_chars).to_tensor()\n",
        "\n",
        "    # Run the model.\n",
        "    # predicted_logits.shape is [batch, char, next_char_logits] \n",
        "    predicted_logits, states =  self.model(inputs=input_ids, states=states, \n",
        "                                          return_state=True)\n",
        "    # Only use the last prediction.\n",
        "    predicted_logits = predicted_logits[:, -1, :]\n",
        "    predicted_logits = predicted_logits/self.temperature\n",
        "    \n",
        "    # Apply the prediction mask: prevent \"\" or \"[UNK]\" from being generated.\n",
        "    predicted_logits = predicted_logits + self.prediction_mask\n",
        "\n",
        "    # Sample the output logits to generate token IDs.\n",
        "    predicted_ids = tf.random.categorical(predicted_logits, num_samples=1)\n",
        "    predicted_ids = tf.squeeze(predicted_ids, axis=-1)\n",
        "\n",
        "    # Return the characters and model state.\n",
        "    return chars_from_ids(predicted_ids), states\n"
      ]
    },
    {
      "cell_type": "code",
      "execution_count": 78,
      "metadata": {
        "colab": {
          "base_uri": "https://localhost:8080/"
        },
        "id": "fSUghgUFc6ba",
        "outputId": "91bab264-22bd-4a56-c803-58b8ef10539c"
      },
      "outputs": [
        {
          "output_type": "stream",
          "name": "stdout",
          "text": [
            "The world seemed like such a peaceful place until the magic tree was discovered in London. Uncersonnswiff youn_ _gat.\r\n",
            "\r\n",
            "There came to remain on the nursery floom;\r\n",
            "and took a step and scunsfed and dress dead until the pame in her motter and then he rose out of\r\n",
            "six Hook's genius strange clang made away.\r\n",
            "\r\n",
            "At Jane’s Gurden mag and fondly minutes behind them. As dogs\r\n",
            "admired him, from which she suffer found, that Hook had left me horribly. “Peter Pan sheep again, like my fan, and his man wos.\r\n",
            "\r\n",
            "“T ne rubsed long for Davy Jones.'\r\n",
            "\r\n",
            "The lagoon has won'; be years and had again was who scarcy.0 Slightly was very close to the time, but they Wendy\r\n",
            "do'r place theree. She wanting two mides wile very well streak of very\r\n",
            "careless nine--etses, where they had been told her as he set deed up beforty thing; and\r\n",
            "everything they do you merely cords. Such a herbies above, people\r\n",
            "cried, and then gantly up the treeCh Jane.'\r\n",
            "\r\n",
            "Of course Dury in the ship: mother's rapturn to draw, he loves topped his tree,\r\n",
            "becaured it was because Wendy knew\r\n",
            "this thought of waiting to be attacked by a s\n"
          ]
        }
      ],
      "source": [
        "# Create an instance of the character generator\n",
        "one_step_model = OneStep(model, chars_from_ids, ids_from_chars)\n",
        "\n",
        "# Now, let's generate a 1000 character chapter by giving our model \"Chapter 1\"\n",
        "# as its starting text\n",
        "states = None\n",
        "next_char = tf.constant(['The world seemed like such a peaceful place until the magic tree was discovered in London. '])\n",
        "result = [next_char]\n",
        "\n",
        "for n in range(1000):\n",
        "  next_char, states = one_step_model.generate_one_step(next_char, states=states)\n",
        "  result.append(next_char)\n",
        "\n",
        "result = tf.strings.join(result)\n",
        "\n",
        "# Print the results formatted.\n",
        "print(result[0].numpy().decode('utf-8'))\n",
        "\n",
        "\n"
      ]
    },
    {
      "cell_type": "markdown",
      "metadata": {
        "id": "b2Cudf3YoaKr"
      },
      "source": [
        "## VI. Next Steps\n",
        "\n",
        "This is a very simple model with one GRU layer and then an output layer. However, considering how simple it is and the fact that we are predicting outputs character by character, the text it produces is pretty amazing. Though it still has a long way to go before publication.\n",
        "\n",
        "There are many other RNN architectures you could try, such as adding additional hidden dense layers, replacing GRU with one or more LSTM layers, combining GRU and LSTM, etc...\n",
        "\n",
        "You could also experiment with better text cleanup to make sure odd punctuation doesn't appear, or finding longer texts to use. If you combine texts from two authors, what happens? Can you generate a Jane Austen stageplay by combining austen and shakespeare texts?\n",
        "\n",
        "Finally, there are a number of hyperparameters to tweak, such as temperature, epochs, batch size, sequence length, etc..."
      ]
    }
  ],
  "metadata": {
    "accelerator": "GPU",
    "colab": {
      "collapsed_sections": [],
      "name": "publishing_starter.ipynb",
      "provenance": [],
      "include_colab_link": true
    },
    "kernelspec": {
      "display_name": "Python 3",
      "name": "python3"
    },
    "gpuClass": "standard"
  },
  "nbformat": 4,
  "nbformat_minor": 0
}