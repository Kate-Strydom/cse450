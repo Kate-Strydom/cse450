{
  "cells": [
    {
      "cell_type": "markdown",
      "metadata": {
        "id": "view-in-github",
        "colab_type": "text"
      },
      "source": [
        "<a href=\"https://colab.research.google.com/github/Kate-Strydom/cse450/blob/main/publishing_starter.ipynb\" target=\"_parent\"><img src=\"https://colab.research.google.com/assets/colab-badge.svg\" alt=\"Open In Colab\"/></a>"
      ]
    },
    {
      "cell_type": "code",
      "execution_count": 1,
      "metadata": {
        "id": "OzPyeJi6r6XI"
      },
      "outputs": [],
      "source": [
        "# Import libraries\n",
        "import sys, os, time, datetime\n",
        "import tensorflow as tf\n",
        "from tensorflow.keras.layers.experimental import preprocessing\n",
        "\n",
        "import pandas\n",
        "import numpy as np\n",
        "\n",
        "%load_ext tensorboard"
      ]
    },
    {
      "cell_type": "code",
      "source": [
        "# get source texts dictionary from .csv online\n",
        "source_texts_url = \"https://raw.githubusercontent.com/Kate-Strydom/cse450/main/source_text.csv\"\n",
        "source_texts = \"source_texts.csv\"\n",
        "\n",
        "if sys.platform == \"darwin\": \n",
        "  # with vs code, pandas can't read directly from url, so we need to use wget \n",
        "  # to download and save the content first\n",
        "  !echo \"Downloading files..\"\n",
        "  !wget \"https://raw.githubusercontent.com/Kate-Strydom/cse450/main/source_text.csv\" -O \"source_texts.csv\"\n",
        "  source_texts_url = source_texts\n",
        "\n",
        "df = pandas.read_csv(source_texts_url)\n",
        "def url_to_filename(url:str): return url[url.rindex('/')+1 : ]\n",
        "df[\"Filename\"] = df[\"URL\"].apply(url_to_filename)"
      ],
      "metadata": {
        "id": "k4BDq3g4sSwe"
      },
      "execution_count": 5,
      "outputs": []
    },
    {
      "cell_type": "code",
      "source": [
        "df"
      ],
      "metadata": {
        "colab": {
          "base_uri": "https://localhost:8080/",
          "height": 392
        },
        "id": "qLck6To_10L5",
        "outputId": "a176fadc-aad1-4e35-ab3b-3c0ccb4659b9"
      },
      "execution_count": 6,
      "outputs": [
        {
          "output_type": "execute_result",
          "data": {
            "text/plain": [
              "           id                                                URL  \\\n",
              "0  PeterWendy  https://raw.githubusercontent.com/Kate-Strydom...   \n",
              "1        Time  https://raw.githubusercontent.com/Kate-Strydom...   \n",
              "2        Emma  https://raw.githubusercontent.com/byui-cse/cse...   \n",
              "3    PeterPan  https://raw.githubusercontent.com/Kate-Strydom...   \n",
              "4       Alice  https://raw.githubusercontent.com/Kate-Strydom...   \n",
              "\n",
              "                              Title       Author  \\\n",
              "0                 \"Peter and Wendy\"  J.M. Barrie   \n",
              "1                \"Once upon a Time\"   A.A. Milne   \n",
              "2                              Emma  Jane Austen   \n",
              "3                         Peter Pan  J.M. Barrie   \n",
              "4  Alice's Adventures in Wonderland    C.S.Lewis   \n",
              "\n",
              "                        Filename  \n",
              "0  peter_and_wendy_jm_barrie.txt  \n",
              "1                   aa_milne.txt  \n",
              "2                     austen.txt  \n",
              "3   peter_pan_james_m_barrie.txt  \n",
              "4          aliceinwonderland.txt  "
            ],
            "text/html": [
              "\n",
              "  <div id=\"df-a5864ea2-12e7-4fbe-a0fd-082741ca03d8\">\n",
              "    <div class=\"colab-df-container\">\n",
              "      <div>\n",
              "<style scoped>\n",
              "    .dataframe tbody tr th:only-of-type {\n",
              "        vertical-align: middle;\n",
              "    }\n",
              "\n",
              "    .dataframe tbody tr th {\n",
              "        vertical-align: top;\n",
              "    }\n",
              "\n",
              "    .dataframe thead th {\n",
              "        text-align: right;\n",
              "    }\n",
              "</style>\n",
              "<table border=\"1\" class=\"dataframe\">\n",
              "  <thead>\n",
              "    <tr style=\"text-align: right;\">\n",
              "      <th></th>\n",
              "      <th>id</th>\n",
              "      <th>URL</th>\n",
              "      <th>Title</th>\n",
              "      <th>Author</th>\n",
              "      <th>Filename</th>\n",
              "    </tr>\n",
              "  </thead>\n",
              "  <tbody>\n",
              "    <tr>\n",
              "      <th>0</th>\n",
              "      <td>PeterWendy</td>\n",
              "      <td>https://raw.githubusercontent.com/Kate-Strydom...</td>\n",
              "      <td>\"Peter and Wendy\"</td>\n",
              "      <td>J.M. Barrie</td>\n",
              "      <td>peter_and_wendy_jm_barrie.txt</td>\n",
              "    </tr>\n",
              "    <tr>\n",
              "      <th>1</th>\n",
              "      <td>Time</td>\n",
              "      <td>https://raw.githubusercontent.com/Kate-Strydom...</td>\n",
              "      <td>\"Once upon a Time\"</td>\n",
              "      <td>A.A. Milne</td>\n",
              "      <td>aa_milne.txt</td>\n",
              "    </tr>\n",
              "    <tr>\n",
              "      <th>2</th>\n",
              "      <td>Emma</td>\n",
              "      <td>https://raw.githubusercontent.com/byui-cse/cse...</td>\n",
              "      <td>Emma</td>\n",
              "      <td>Jane Austen</td>\n",
              "      <td>austen.txt</td>\n",
              "    </tr>\n",
              "    <tr>\n",
              "      <th>3</th>\n",
              "      <td>PeterPan</td>\n",
              "      <td>https://raw.githubusercontent.com/Kate-Strydom...</td>\n",
              "      <td>Peter Pan</td>\n",
              "      <td>J.M. Barrie</td>\n",
              "      <td>peter_pan_james_m_barrie.txt</td>\n",
              "    </tr>\n",
              "    <tr>\n",
              "      <th>4</th>\n",
              "      <td>Alice</td>\n",
              "      <td>https://raw.githubusercontent.com/Kate-Strydom...</td>\n",
              "      <td>Alice's Adventures in Wonderland</td>\n",
              "      <td>C.S.Lewis</td>\n",
              "      <td>aliceinwonderland.txt</td>\n",
              "    </tr>\n",
              "  </tbody>\n",
              "</table>\n",
              "</div>\n",
              "      <button class=\"colab-df-convert\" onclick=\"convertToInteractive('df-a5864ea2-12e7-4fbe-a0fd-082741ca03d8')\"\n",
              "              title=\"Convert this dataframe to an interactive table.\"\n",
              "              style=\"display:none;\">\n",
              "        \n",
              "  <svg xmlns=\"http://www.w3.org/2000/svg\" height=\"24px\"viewBox=\"0 0 24 24\"\n",
              "       width=\"24px\">\n",
              "    <path d=\"M0 0h24v24H0V0z\" fill=\"none\"/>\n",
              "    <path d=\"M18.56 5.44l.94 2.06.94-2.06 2.06-.94-2.06-.94-.94-2.06-.94 2.06-2.06.94zm-11 1L8.5 8.5l.94-2.06 2.06-.94-2.06-.94L8.5 2.5l-.94 2.06-2.06.94zm10 10l.94 2.06.94-2.06 2.06-.94-2.06-.94-.94-2.06-.94 2.06-2.06.94z\"/><path d=\"M17.41 7.96l-1.37-1.37c-.4-.4-.92-.59-1.43-.59-.52 0-1.04.2-1.43.59L10.3 9.45l-7.72 7.72c-.78.78-.78 2.05 0 2.83L4 21.41c.39.39.9.59 1.41.59.51 0 1.02-.2 1.41-.59l7.78-7.78 2.81-2.81c.8-.78.8-2.07 0-2.86zM5.41 20L4 18.59l7.72-7.72 1.47 1.35L5.41 20z\"/>\n",
              "  </svg>\n",
              "      </button>\n",
              "      \n",
              "  <style>\n",
              "    .colab-df-container {\n",
              "      display:flex;\n",
              "      flex-wrap:wrap;\n",
              "      gap: 12px;\n",
              "    }\n",
              "\n",
              "    .colab-df-convert {\n",
              "      background-color: #E8F0FE;\n",
              "      border: none;\n",
              "      border-radius: 50%;\n",
              "      cursor: pointer;\n",
              "      display: none;\n",
              "      fill: #1967D2;\n",
              "      height: 32px;\n",
              "      padding: 0 0 0 0;\n",
              "      width: 32px;\n",
              "    }\n",
              "\n",
              "    .colab-df-convert:hover {\n",
              "      background-color: #E2EBFA;\n",
              "      box-shadow: 0px 1px 2px rgba(60, 64, 67, 0.3), 0px 1px 3px 1px rgba(60, 64, 67, 0.15);\n",
              "      fill: #174EA6;\n",
              "    }\n",
              "\n",
              "    [theme=dark] .colab-df-convert {\n",
              "      background-color: #3B4455;\n",
              "      fill: #D2E3FC;\n",
              "    }\n",
              "\n",
              "    [theme=dark] .colab-df-convert:hover {\n",
              "      background-color: #434B5C;\n",
              "      box-shadow: 0px 1px 3px 1px rgba(0, 0, 0, 0.15);\n",
              "      filter: drop-shadow(0px 1px 2px rgba(0, 0, 0, 0.3));\n",
              "      fill: #FFFFFF;\n",
              "    }\n",
              "  </style>\n",
              "\n",
              "      <script>\n",
              "        const buttonEl =\n",
              "          document.querySelector('#df-a5864ea2-12e7-4fbe-a0fd-082741ca03d8 button.colab-df-convert');\n",
              "        buttonEl.style.display =\n",
              "          google.colab.kernel.accessAllowed ? 'block' : 'none';\n",
              "\n",
              "        async function convertToInteractive(key) {\n",
              "          const element = document.querySelector('#df-a5864ea2-12e7-4fbe-a0fd-082741ca03d8');\n",
              "          const dataTable =\n",
              "            await google.colab.kernel.invokeFunction('convertToInteractive',\n",
              "                                                     [key], {});\n",
              "          if (!dataTable) return;\n",
              "\n",
              "          const docLinkHtml = 'Like what you see? Visit the ' +\n",
              "            '<a target=\"_blank\" href=https://colab.research.google.com/notebooks/data_table.ipynb>data table notebook</a>'\n",
              "            + ' to learn more about interactive tables.';\n",
              "          element.innerHTML = '';\n",
              "          dataTable['output_type'] = 'display_data';\n",
              "          await google.colab.output.renderOutput(dataTable, element);\n",
              "          const docLink = document.createElement('div');\n",
              "          docLink.innerHTML = docLinkHtml;\n",
              "          element.appendChild(docLink);\n",
              "        }\n",
              "      </script>\n",
              "    </div>\n",
              "  </div>\n",
              "  "
            ]
          },
          "metadata": {},
          "execution_count": 6
        }
      ]
    },
    {
      "cell_type": "code",
      "source": [
        ""
      ],
      "metadata": {
        "id": "qQs0VX0d1z_E"
      },
      "execution_count": null,
      "outputs": []
    },
    {
      "cell_type": "markdown",
      "metadata": {
        "id": "qv4r-dKnSRKz"
      },
      "source": [
        "## I. Parse Text Sources\n",
        "First we'll load our text sources and create our vocabulary lists and encoders. \n",
        "\n",
        "There are ways we could do this in pure python, but using the tensorflow data structures and libraries allow us to keep things super-optimized."
      ]
    },
    {
      "cell_type": "code",
      "execution_count": 7,
      "metadata": {
        "colab": {
          "base_uri": "https://localhost:8080/"
        },
        "id": "H8RbnIjwHGoR",
        "outputId": "4e6f45ce-337b-43f9-f623-fbe8b0f921b5"
      },
      "outputs": [
        {
          "output_type": "stream",
          "name": "stdout",
          "text": [
            "Length of text: 4906787 characters\n"
          ]
        }
      ],
      "source": [
        "# Load file data\n",
        "path_to_file1 = tf.keras.utils.get_file('austen.txt', 'https://raw.githubusercontent.com/byui-cse/cse450-course/master/data/austen/austen.txt')\n",
        "text_austen = open(path_to_file1, 'rb').read().decode(encoding='utf-8')\n",
        "\n",
        "print('Length of text: {} characters'.format(len(text_austen)))"
      ]
    },
    {
      "cell_type": "code",
      "source": [
        "path_to_file2 = tf.keras.utils.get_file('peterpan_kensington.txt', 'https://raw.githubusercontent.com/Kate-Strydom/cse450/main/peter_pan_kensignton_gardens.txt')\n",
        "text_kensington = open(path_to_file2, 'rb').read().decode(encoding='utf-8')\n",
        "print('Length of text: {} characters'.format(len(text_kensington)))"
      ],
      "metadata": {
        "colab": {
          "base_uri": "https://localhost:8080/"
        },
        "id": "i_EAMt2Fe9DP",
        "outputId": "1bbb1cd4-c9f8-4072-e24b-0e7c0e5b4ef9"
      },
      "execution_count": 102,
      "outputs": [
        {
          "output_type": "stream",
          "name": "stdout",
          "text": [
            "Length of text: 118310 characters\n"
          ]
        }
      ]
    },
    {
      "cell_type": "code",
      "source": [
        "path_to_file3 = tf.keras.utils.get_file('call_of_death.txt', 'https://github.com/Kate-Strydom/cse450/blob/main/call_of_death_nick_carter.txt')\n",
        "text_charter = open(path_to_file3, 'rb').read().decode(encoding='utf-8')\n",
        "print('Length of text: {} characters'.format(len(text_charter)))"
      ],
      "metadata": {
        "id": "uQOzP_U3b18v",
        "outputId": "73a583d7-83ae-4930-8843-9baf55ba1324",
        "colab": {
          "base_uri": "https://localhost:8080/"
        }
      },
      "execution_count": 103,
      "outputs": [
        {
          "output_type": "stream",
          "name": "stdout",
          "text": [
            "Length of text: 528649 characters\n"
          ]
        }
      ]
    },
    {
      "cell_type": "code",
      "source": [
        "path_to_file4 = tf.keras.utils.get_file('war_and_peace.txt', 'https://raw.githubusercontent.com/Kate-Strydom/cse450/main/war_and_peace.txt')\n",
        "text_peace = open(path_to_file4, 'rb').read().decode(encoding='utf-8')\n",
        "print('Length of text: {} characters'.format(len(text_peace)))"
      ],
      "metadata": {
        "id": "fKqnCoc5uDIz",
        "outputId": "802eea7b-65fe-4c03-a829-37c1fba7f478",
        "colab": {
          "base_uri": "https://localhost:8080/"
        }
      },
      "execution_count": 128,
      "outputs": [
        {
          "output_type": "stream",
          "name": "stdout",
          "text": [
            "Length of text: 117155 characters\n"
          ]
        }
      ]
    },
    {
      "cell_type": "code",
      "source": [
        "path_to_file5 = tf.keras.utils.get_file('peterpan.txt', 'https://raw.githubusercontent.com/Kate-Strydom/cse450/main/peter_pan_james_m_barrie.txt')\n",
        "text_peterpan = open(path_to_file5, 'rb').read().decode(encoding='utf-8')\n",
        "print('Length of text: {} characters'.format(len(text_peterpan)))"
      ],
      "metadata": {
        "colab": {
          "base_uri": "https://localhost:8080/"
        },
        "id": "NvSP6BQa6vy6",
        "outputId": "d2b6f4e6-54f4-48dd-8d10-ab1473d7d8b5"
      },
      "execution_count": 105,
      "outputs": [
        {
          "output_type": "stream",
          "name": "stdout",
          "text": [
            "Length of text: 260845 characters\n"
          ]
        }
      ]
    },
    {
      "cell_type": "code",
      "source": [
        "path_to_file6 = tf.keras.utils.get_file('peterwendy.txt', 'https://raw.githubusercontent.com/Kate-Strydom/cse450/main/peter_and_wendy_jm_barrie.txt')\n",
        "text_peterwendy = open(path_to_file6, 'rb').read().decode(encoding='utf-8')\n",
        "print('Length of text: {} characters'.format(len(text_peterwendy)))"
      ],
      "metadata": {
        "colab": {
          "base_uri": "https://localhost:8080/"
        },
        "id": "Dne8hFPEq-1B",
        "outputId": "ae036728-ecf2-4f05-f635-44c825445253"
      },
      "execution_count": 106,
      "outputs": [
        {
          "output_type": "stream",
          "name": "stdout",
          "text": [
            "Length of text: 261574 characters\n"
          ]
        }
      ]
    },
    {
      "cell_type": "code",
      "source": [
        "path_to_file7 = tf.keras.utils.get_file('milne.txt', 'https://raw.githubusercontent.com/Kate-Strydom/cse450/main/peter_and_wendy_jm_barrie.txt')\n",
        "text_milne = open(path_to_file7, 'rb').read().decode(encoding='utf-8')\n",
        "print('Length of text: {} characters'.format(len(text_milne)))"
      ],
      "metadata": {
        "colab": {
          "base_uri": "https://localhost:8080/"
        },
        "id": "LnyINsUc3_xQ",
        "outputId": "4c9dda16-6a52-49ab-9996-81fabfca7bf2"
      },
      "execution_count": 107,
      "outputs": [
        {
          "output_type": "stream",
          "name": "stdout",
          "text": [
            "Length of text: 261574 characters\n"
          ]
        }
      ]
    },
    {
      "cell_type": "code",
      "source": [
        ""
      ],
      "metadata": {
        "id": "cYFsLqdw3Rcv"
      },
      "execution_count": null,
      "outputs": []
    },
    {
      "cell_type": "code",
      "execution_count": 8,
      "metadata": {
        "id": "o_sOwb4p3R7f"
      },
      "outputs": [],
      "source": [
        "# Load file data\n",
        "def get_author_sources(manual_input = False):\n",
        "  \"\"\"This takes each of the souces and merges/stacks them into a single str variable\"\"\"\n",
        "\n",
        "  source_amount = 1\n",
        "  if manual_input:\n",
        "    source_amount = input(\"How Many sources would you like to use? \")\n",
        "    source_amount = int(source_amount) # source amount needs to be an int value\n",
        "    if source_amount < 1: source_amount = 1 # source amount can only be at least 1\n",
        "\n",
        "  text = \"\"\n",
        "  for _ in range(source_amount):\n",
        "\n",
        "    id = \"Bible\" # default id\n",
        "    if manual_input: id = input(\"Enter source id (refer to .csv file): \")\n",
        "    source_row_i  = df.index[df[\"id\"] == id].tolist()[0]\n",
        "    row_filename  = df[df.index == source_row_i].loc[source_row_i].at[\"Filename\"]\n",
        "    row_url       = df[df.index == source_row_i].loc[source_row_i].at[\"URL\"]\n",
        "    \n",
        "    if sys.platform == \"darwin\":\n",
        "      # in vs code (mac)\n",
        "      !wget $row_url -O $row_filename\n",
        "      path_to_file = row_filename\n",
        "\n",
        "    else: \n",
        "      path_to_file = tf.keras.utils.get_file(fname=row_filename, origin=row_url)\n",
        "\n",
        "    source_text = \"\"\n",
        "    source_text += open(path_to_file, 'rb').read().decode(encoding='utf-8')\n",
        "    print(f\"Length of text: {len(source_text)} characters\")\n",
        "\n",
        "    text += source_text\n",
        "\n",
        "  return text"
      ]
    },
    {
      "cell_type": "code",
      "source": [
        "# Load file data\n",
        "text = get_author_sources(manual_input=True)"
      ],
      "metadata": {
        "colab": {
          "base_uri": "https://localhost:8080/"
        },
        "id": "oH_1k1MO3aSG",
        "outputId": "e00cdf3b-337f-493b-8b52-be7d689a76a0"
      },
      "execution_count": null,
      "outputs": [
        {
          "name": "stdout",
          "output_type": "stream",
          "text": [
            "How Many sources would you like to use? 1\n"
          ]
        }
      ]
    },
    {
      "cell_type": "code",
      "source": [
        "text = (text_peterpan + text_kensington + text_peterwendy + text_milne + text_peace)\n",
        "print('Length of text: {} characters'.format(len(text)))"
      ],
      "metadata": {
        "colab": {
          "base_uri": "https://localhost:8080/"
        },
        "id": "eyidQjBqdOex",
        "outputId": "5cd662f6-9e25-4aa7-f527-f3f455fdfe50"
      },
      "execution_count": 134,
      "outputs": [
        {
          "output_type": "stream",
          "name": "stdout",
          "text": [
            "Length of text: 1019458 characters\n"
          ]
        }
      ]
    },
    {
      "cell_type": "code",
      "execution_count": 35,
      "metadata": {
        "colab": {
          "base_uri": "https://localhost:8080/"
        },
        "id": "2XRnt0XUHUrq",
        "outputId": "bfd58837-2e2c-493a-ad8b-888869e0b568"
      },
      "outputs": [
        {
          "output_type": "stream",
          "name": "stdout",
          "text": [
            "CHAPTER I\r\n",
            "\r\n",
            "ALICE was beginning to get very tired of sitting by her\r\n",
            "sister on the bank, and of having nothing to do: once or twice she had\r\n",
            "peeped into the book her sister was reading, but it had no\n"
          ]
        }
      ],
      "source": [
        "# Verify the first part of our data\n",
        "print(text[:200])"
      ]
    },
    {
      "cell_type": "code",
      "execution_count": 36,
      "metadata": {
        "colab": {
          "base_uri": "https://localhost:8080/"
        },
        "id": "2SLd7l0HP1Po",
        "outputId": "709bd726-d9bd-4735-9579-35e00d2b820b"
      },
      "outputs": [
        {
          "output_type": "stream",
          "name": "stdout",
          "text": [
            "70 unique characters\n",
            "['\\n', '\\r', ' ', '!', '\"', \"'\", '(', ')', ',', '-', '.', ':', ';', '?', 'A', 'B', 'C', 'D', 'E', 'F', 'G', 'H', 'I', 'J', 'K', 'L', 'M', 'N', 'O', 'P', 'Q', 'R', 'S', 'T', 'U', 'V', 'W', 'X', 'Y', 'Z', '[', ']', '_', 'a', 'b', 'c', 'd', 'e', 'f', 'g', 'h', 'i', 'j', 'k', 'l', 'm', 'n', 'o', 'p', 'q', 'r', 's', 't', 'u', 'v', 'w', 'x', 'y', 'z', 'ù']\n"
          ]
        }
      ],
      "source": [
        "# Now we'll get a list of the unique characters in the file. This will form the\n",
        "# vocabulary of our network. There may be some characters we want to remove from this \n",
        "# set as we refine the network.\n",
        "vocab = sorted(set(text))\n",
        "print('{} unique characters'.format(len(vocab)))\n",
        "print(vocab)"
      ]
    },
    {
      "cell_type": "code",
      "execution_count": 37,
      "metadata": {
        "id": "NtjOxL7wQibb"
      },
      "outputs": [],
      "source": [
        "# Next, we'll encode encode these characters into numbers so we can use them\n",
        "# with our neural network, then we'll create some mappings between the characters\n",
        "# and their numeric representations\n",
        "ids_from_chars = preprocessing.StringLookup(vocabulary=list(vocab))\n",
        "chars_from_ids = tf.keras.layers.experimental.preprocessing.StringLookup(vocabulary=ids_from_chars.get_vocabulary(), invert=True)\n",
        "\n",
        "# Here's a little helper function that we can use to turn a sequence of ids\n",
        "# back into a string:\n",
        "# turn them into a string:\n",
        "def text_from_ids(ids):\n",
        "  joinedTensor = tf.strings.reduce_join(chars_from_ids(ids), axis=-1)\n",
        "  return joinedTensor.numpy().decode(\"utf-8\")"
      ]
    },
    {
      "cell_type": "code",
      "execution_count": 38,
      "metadata": {
        "colab": {
          "base_uri": "https://localhost:8080/"
        },
        "id": "52bkemreRw8q",
        "outputId": "9237e1f5-ed4d-40ee-f70f-d0b1de9546b5"
      },
      "outputs": [
        {
          "output_type": "execute_result",
          "data": {
            "text/plain": [
              "<tf.Tensor: shape=(5,), dtype=int64, numpy=array([34, 61, 64, 63, 51])>"
            ]
          },
          "metadata": {},
          "execution_count": 38
        }
      ],
      "source": [
        "# Now we'll verify that they work, by getting the code for \"A\", and then looking\n",
        "# that up in reverse\n",
        "testids = ids_from_chars([\"T\", \"r\", \"u\", \"t\", \"h\"])\n",
        "testids"
      ]
    },
    {
      "cell_type": "code",
      "execution_count": 39,
      "metadata": {
        "colab": {
          "base_uri": "https://localhost:8080/"
        },
        "id": "vGUnSHjtD_IJ",
        "outputId": "3cfa0b5f-ec8b-4250-aa76-990231388caf"
      },
      "outputs": [
        {
          "output_type": "execute_result",
          "data": {
            "text/plain": [
              "<tf.Tensor: shape=(5,), dtype=string, numpy=array([b'T', b'r', b'u', b't', b'h'], dtype=object)>"
            ]
          },
          "metadata": {},
          "execution_count": 39
        }
      ],
      "source": [
        "chars_from_ids(testids)"
      ]
    },
    {
      "cell_type": "code",
      "execution_count": 40,
      "metadata": {
        "colab": {
          "base_uri": "https://localhost:8080/",
          "height": 35
        },
        "id": "8rghkpLLLjL5",
        "outputId": "4019c2b8-3aba-44d2-d597-d1555f2184a2"
      },
      "outputs": [
        {
          "output_type": "execute_result",
          "data": {
            "text/plain": [
              "'Truth'"
            ],
            "application/vnd.google.colaboratory.intrinsic+json": {
              "type": "string"
            }
          },
          "metadata": {},
          "execution_count": 40
        }
      ],
      "source": [
        "testString = text_from_ids( testids )\n",
        "testString"
      ]
    },
    {
      "cell_type": "markdown",
      "metadata": {
        "id": "MRXMVqTcSpA0"
      },
      "source": [
        "## II. Construct our training data\n",
        "Next we need to construct our training data by building sentence chunks. Each chunk will consist of a sequence of characters and a corresponding \"next sequence\" of the same length showing what would happen if we move forward in the text. This \"next sequence\" becomes our target variable.\n",
        "\n",
        "For example, if this were our text:\n",
        "\n",
        "> It is a truth universally acknowledged, that a single man in possession\n",
        "of a good fortune, must be in want of a wife.\n",
        "\n",
        "And our sequence length was 10 with a step size of 1, our first chunk would be:\n",
        "\n",
        "* Sequence: `It is a tr`\n",
        "* Next Sequence: `t is a tru`\n",
        "\n",
        "Our second chunk would be:\n",
        "\n",
        "* Sequence: `t is a tru`\n",
        "* Next Word: ` is a trut`\n",
        "\n"
      ]
    },
    {
      "cell_type": "code",
      "execution_count": 41,
      "metadata": {
        "colab": {
          "base_uri": "https://localhost:8080/"
        },
        "id": "5PLJWOg2P_fE",
        "outputId": "d98c53ef-ebed-4eb9-9082-e96c7430096f"
      },
      "outputs": [
        {
          "output_type": "execute_result",
          "data": {
            "text/plain": [
              "<tf.Tensor: shape=(149232,), dtype=int64, numpy=array([17, 22, 15, ..., 19, 28, 18])>"
            ]
          },
          "metadata": {},
          "execution_count": 41
        }
      ],
      "source": [
        "# First, create a stream of encoded integers from our text\n",
        "all_ids = ids_from_chars(tf.strings.unicode_split(text, 'UTF-8'))\n",
        "all_ids"
      ]
    },
    {
      "cell_type": "code",
      "execution_count": 42,
      "metadata": {
        "id": "-nBqVY6pFpZs"
      },
      "outputs": [],
      "source": [
        "# Now, convert that into a tensorflow dataset\n",
        "ids_dataset = tf.data.Dataset.from_tensor_slices(all_ids)"
      ]
    },
    {
      "cell_type": "code",
      "source": [
        "ids_dataset"
      ],
      "metadata": {
        "id": "bpulbcpmzSmT",
        "outputId": "bca8af52-1d1a-4180-a754-7cdd4befcbff",
        "colab": {
          "base_uri": "https://localhost:8080/"
        }
      },
      "execution_count": 43,
      "outputs": [
        {
          "output_type": "execute_result",
          "data": {
            "text/plain": [
              "<TensorSliceDataset element_spec=TensorSpec(shape=(), dtype=tf.int64, name=None)>"
            ]
          },
          "metadata": {},
          "execution_count": 43
        }
      ]
    },
    {
      "cell_type": "code",
      "execution_count": 59,
      "metadata": {
        "id": "8Fr28CJxUBtG"
      },
      "outputs": [],
      "source": [
        "# Finally, let's batch these sequences up into chunks for our training\n",
        "seq_length = 100\n",
        "sequences = ids_dataset.batch(seq_length+1, drop_remainder=True)\n",
        "\n",
        "# This function will generate our sequence pairs:\n",
        "def split_input_target(sequence):\n",
        "    input_text = sequence[:-1]\n",
        "    target_text = sequence[1:]\n",
        "    return input_text, target_text\n",
        "\n",
        "# Call the function for every sequence in our list to create a new dataset\n",
        "# of input->target pairs\n",
        "dataset = sequences.map(split_input_target)"
      ]
    },
    {
      "cell_type": "code",
      "execution_count": 60,
      "metadata": {
        "colab": {
          "base_uri": "https://localhost:8080/"
        },
        "id": "poNVukmsUFkq",
        "outputId": "facc54d6-74c0-4edf-a3ee-770371fd66bf"
      },
      "outputs": [
        {
          "output_type": "stream",
          "name": "stdout",
          "text": [
            "Input:  CHAPTER I\r\n",
            "\r\n",
            "ALICE was beginning to get very tired of sitting by her\r\n",
            "sister on the bank, and of hav\n",
            "--------\n",
            "Target:  HAPTER I\r\n",
            "\r\n",
            "ALICE was beginning to get very tired of sitting by her\r\n",
            "sister on the bank, and of havi\n"
          ]
        }
      ],
      "source": [
        "# Verify our sequences\n",
        "for input_example, target_example in  dataset.take(1):\n",
        "    print(\"Input: \", text_from_ids(input_example))\n",
        "    print(\"--------\")\n",
        "    print(\"Target: \", text_from_ids(target_example))"
      ]
    },
    {
      "cell_type": "code",
      "execution_count": 61,
      "metadata": {
        "colab": {
          "base_uri": "https://localhost:8080/"
        },
        "id": "QDdr6xfZYa0o",
        "outputId": "486097a7-df97-42bb-fd4b-730212a2456c"
      },
      "outputs": [
        {
          "output_type": "execute_result",
          "data": {
            "text/plain": [
              "<PrefetchDataset element_spec=(TensorSpec(shape=(256, 100), dtype=tf.int64, name=None), TensorSpec(shape=(256, 100), dtype=tf.int64, name=None))>"
            ]
          },
          "metadata": {},
          "execution_count": 61
        }
      ],
      "source": [
        "# Finally, we'll randomize the sequences so that we don't just memorize the books\n",
        "# in the order they were written, then build a new streaming dataset from that.\n",
        "# Using a streaming dataset allows us to pass the data to our network bit by bit,\n",
        "# rather than keeping it all in memory. We'll set it to figure out how much data\n",
        "# to prefetch in the background.\n",
        "\n",
        "BATCH_SIZE = 256\n",
        "BUFFER_SIZE = 1000\n",
        "\n",
        "dataset = (\n",
        "    dataset\n",
        "    .shuffle(BUFFER_SIZE)\n",
        "    .batch(BATCH_SIZE, drop_remainder=True)\n",
        "    .prefetch(tf.data.experimental.AUTOTUNE))\n",
        "\n",
        "dataset"
      ]
    },
    {
      "cell_type": "markdown",
      "metadata": {
        "id": "0VQ-KjEeZMzd"
      },
      "source": [
        "## III. Build the model\n",
        "\n",
        "Next, we'll build our model. Up until this point, you've been using the Keras symbolic, or imperative API for creating your models. Doing something like:\n",
        "\n",
        "    model = tf.keras.models.Sequentla()\n",
        "    model.add(tf.keras.layers.Dense(80, activation='relu))\n",
        "    etc...\n",
        "\n",
        "However, tensorflow has another way to build models called the Functional API, which gives us a lot more control over what happens inside the model. You can read more about [the differences and when to use each here](https://blog.tensorflow.org/2019/01/what-are-symbolic-and-imperative-apis.html).\n",
        "\n",
        "We'll use the functional API for our RNN in this example. This will involve defining our model as a custom subclass of `tf.keras.Model`.\n",
        "\n",
        "If you're not familiar with classes in python, you might want to review [this quick tutorial](https://www.w3schools.com/python/python_classes.asp), as well as [this one on class inheritance](https://www.w3schools.com/python/python_inheritance.asp).\n",
        "\n",
        "Using a functional model is important for our situation because we're not just training it to predict a single character for a single sequence, but as we make predictions with it, we need it to remember those predictions as use that memory as it makes new predictions.\n"
      ]
    },
    {
      "cell_type": "code",
      "execution_count": 62,
      "metadata": {
        "id": "Fj4uh9y-Y9mx"
      },
      "outputs": [],
      "source": [
        "# Create our custom model. Given a sequence of characters, this\n",
        "# model's job is to predict what character should come next.\n",
        "class AustenTextModel(tf.keras.Model):\n",
        "\n",
        "  # This is our class constructor method, it will be executed when\n",
        "  # we first create an instance of the class \n",
        "  def __init__(self, vocab_size, embedding_dim, rnn_units):\n",
        "    super().__init__(self)\n",
        "\n",
        "    # Our model will have three layers:\n",
        "    \n",
        "    # 1. An embedding layer that handles the encoding of our vocabulary into\n",
        "    #    a vector of values suitable for a neural network\n",
        "    self.embedding = tf.keras.layers.Embedding(vocab_size, embedding_dim)\n",
        "\n",
        "    # 2. A GRU layer that handles the \"memory\" aspects of our RNN. If you're\n",
        "    #    wondering why we use GRU instead of LSTM, and whether LSTM is better,\n",
        "    #    take a look at this article: https://datascience.stackexchange.com/questions/14581/when-to-use-gru-over-lstm\n",
        "    #    then consider trying out LSTM instead (or in addition to!)\n",
        "    self.gru = tf.keras.layers.GRU(rnn_units, return_sequences=True, return_state=True)\n",
        "\n",
        "    # 3. Our output layer that will give us a set of probabilities for each\n",
        "    #    character in our vocabulary.\n",
        "    self.dense = tf.keras.layers.Dense(vocab_size)\n",
        "\n",
        "  # This function will be executed for each epoch of our training. Here\n",
        "  # we will manually feed information from one layer of our network to the \n",
        "  # next.\n",
        "  def call(self, inputs, states=None, return_state=False, training=False):\n",
        "    x = inputs\n",
        "\n",
        "    # 1. Feed the inputs into the embedding layer, and tell it if we are\n",
        "    #    training or predicting\n",
        "    x = self.embedding(x, training=training)\n",
        "\n",
        "    # 2. If we don't have any state in memory yet, get the initial random state\n",
        "    #    from our GRUI layer.\n",
        "    if states is None:\n",
        "      states = self.gru.get_initial_state(x)\n",
        "    \n",
        "    # 3. Now, feed the vectorized input along with the current state of memory\n",
        "    #    into the gru layer.\n",
        "    x, states = self.gru(x, initial_state=states, training=training)\n",
        "\n",
        "    # 4. Finally, pass the results on to the dense layer\n",
        "    x = self.dense(x, training=training)\n",
        "\n",
        "    # 5. Return the results\n",
        "    if return_state:\n",
        "      return x, states\n",
        "    else: \n",
        "      return x"
      ]
    },
    {
      "cell_type": "code",
      "execution_count": 82,
      "metadata": {
        "id": "UA2C6pxZc4De"
      },
      "outputs": [],
      "source": [
        "# Create an instance of our model\n",
        "vocab_size=len(ids_from_chars.get_vocabulary())\n",
        "embedding_dim = 256\n",
        "rnn_units = 1024\n",
        "\n",
        "model = AustenTextModel(vocab_size, embedding_dim, rnn_units)"
      ]
    },
    {
      "cell_type": "code",
      "execution_count": 83,
      "metadata": {
        "colab": {
          "base_uri": "https://localhost:8080/"
        },
        "id": "C67kN7YAdfSf",
        "outputId": "6dcadb6c-26c2-42a0-9c4a-fcee16833a50"
      },
      "outputs": [
        {
          "output_type": "stream",
          "name": "stdout",
          "text": [
            "(256, 100, 71) # (batch_size, sequence_length, vocab_size)\n"
          ]
        }
      ],
      "source": [
        "# Verify the output of our model is correct by running one sample through\n",
        "# This will also compile the model for us. This step will take a bit.\n",
        "for input_example_batch, target_example_batch in dataset.take(1):\n",
        "    example_batch_predictions = model(input_example_batch)\n",
        "    print(example_batch_predictions.shape, \"# (batch_size, sequence_length, vocab_size)\")\n"
      ]
    },
    {
      "cell_type": "code",
      "execution_count": 84,
      "metadata": {
        "colab": {
          "base_uri": "https://localhost:8080/"
        },
        "id": "qJGL8gCWdsiu",
        "outputId": "0832369d-117a-42ba-edcb-32f1680d6cc4"
      },
      "outputs": [
        {
          "output_type": "stream",
          "name": "stdout",
          "text": [
            "Model: \"austen_text_model_4\"\n",
            "_________________________________________________________________\n",
            " Layer (type)                Output Shape              Param #   \n",
            "=================================================================\n",
            " embedding_4 (Embedding)     multiple                  18176     \n",
            "                                                                 \n",
            " gru_4 (GRU)                 multiple                  3938304   \n",
            "                                                                 \n",
            " dense_4 (Dense)             multiple                  72775     \n",
            "                                                                 \n",
            "=================================================================\n",
            "Total params: 4,029,255\n",
            "Trainable params: 4,029,255\n",
            "Non-trainable params: 0\n",
            "_________________________________________________________________\n"
          ]
        }
      ],
      "source": [
        "# Now let's view the model summary\n",
        "model.summary()"
      ]
    },
    {
      "cell_type": "markdown",
      "metadata": {
        "id": "wTDe5m4baEqo"
      },
      "source": [
        "## IV. Train the model\n",
        "\n",
        "For our purposes, we'll be using [categorical cross entropy](https://machinelearningmastery.com/cross-entropy-for-machine-learning/) as our loss function*. Also, our model will be outputting [\"logits\" rather than normalized probabilities](https://stackoverflow.com/questions/41455101/what-is-the-meaning-of-the-word-logits-in-tensorflow), because we'll be doing further transformations on the output later. \n",
        "\n",
        "\n",
        "\\* Note that since our model deals with integer encoding rather than one-hot encoding, we'll specifically be using [sparse categorical cross entropy](https://stats.stackexchange.com/questions/326065/cross-entropy-vs-sparse-cross-entropy-when-to-use-one-over-the-other)."
      ]
    },
    {
      "cell_type": "code",
      "execution_count": null,
      "metadata": {
        "colab": {
          "base_uri": "https://localhost:8080/"
        },
        "id": "7vOxc7CkaGQB",
        "outputId": "56944763-ca0a-4cb2-bc27-6223f3bebce7"
      },
      "outputs": [
        {
          "output_type": "stream",
          "name": "stdout",
          "text": [
            "Epoch 1/200\n",
            "5/5 [==============================] - 2s 183ms/step - loss: 4.9499\n",
            "Epoch 2/200\n",
            "5/5 [==============================] - 1s 187ms/step - loss: 3.9464\n",
            "Epoch 3/200\n",
            "5/5 [==============================] - 1s 189ms/step - loss: 3.9748\n",
            "Epoch 4/200\n",
            "5/5 [==============================] - 1s 183ms/step - loss: 3.7065\n",
            "Epoch 5/200\n",
            "5/5 [==============================] - 1s 188ms/step - loss: 3.3416\n",
            "Epoch 6/200\n",
            "5/5 [==============================] - 1s 189ms/step - loss: 3.1388\n",
            "Epoch 7/200\n",
            "5/5 [==============================] - 1s 185ms/step - loss: 3.0656\n",
            "Epoch 8/200\n",
            "5/5 [==============================] - 1s 191ms/step - loss: 2.9858\n",
            "Epoch 9/200\n",
            "5/5 [==============================] - 1s 192ms/step - loss: 2.9117\n",
            "Epoch 10/200\n",
            "5/5 [==============================] - 1s 188ms/step - loss: 2.8213\n",
            "Epoch 11/200\n",
            "5/5 [==============================] - 1s 191ms/step - loss: 2.7368\n",
            "Epoch 12/200\n",
            "5/5 [==============================] - 1s 185ms/step - loss: 2.6604\n",
            "Epoch 13/200\n",
            "5/5 [==============================] - 1s 196ms/step - loss: 2.5939\n",
            "Epoch 14/200\n",
            "5/5 [==============================] - 1s 189ms/step - loss: 2.5360\n",
            "Epoch 15/200\n",
            "5/5 [==============================] - 1s 194ms/step - loss: 2.4852\n",
            "Epoch 16/200\n",
            "5/5 [==============================] - 1s 187ms/step - loss: 2.4486\n",
            "Epoch 17/200\n",
            "5/5 [==============================] - 1s 195ms/step - loss: 2.4140\n",
            "Epoch 18/200\n",
            "5/5 [==============================] - 1s 189ms/step - loss: 2.3803\n",
            "Epoch 19/200\n",
            "5/5 [==============================] - 1s 197ms/step - loss: 2.3556\n",
            "Epoch 20/200\n",
            "5/5 [==============================] - 1s 193ms/step - loss: 2.3260\n",
            "Epoch 21/200\n",
            "5/5 [==============================] - 1s 198ms/step - loss: 2.3000\n",
            "Epoch 22/200\n",
            "5/5 [==============================] - 1s 192ms/step - loss: 2.2747\n",
            "Epoch 23/200\n",
            "5/5 [==============================] - 1s 196ms/step - loss: 2.2495\n",
            "Epoch 24/200\n",
            "5/5 [==============================] - 1s 194ms/step - loss: 2.2223\n",
            "Epoch 25/200\n",
            "5/5 [==============================] - 1s 197ms/step - loss: 2.1968\n",
            "Epoch 26/200\n",
            "5/5 [==============================] - 1s 203ms/step - loss: 2.1717\n",
            "Epoch 27/200\n",
            "5/5 [==============================] - 1s 200ms/step - loss: 2.1496\n",
            "Epoch 28/200\n",
            "5/5 [==============================] - 1s 196ms/step - loss: 2.1242\n",
            "Epoch 29/200\n",
            "5/5 [==============================] - 1s 199ms/step - loss: 2.1059\n",
            "Epoch 30/200\n",
            "5/5 [==============================] - 1s 202ms/step - loss: 2.0873\n",
            "Epoch 31/200\n",
            "5/5 [==============================] - 1s 202ms/step - loss: 2.0654\n",
            "Epoch 32/200\n",
            "5/5 [==============================] - 1s 202ms/step - loss: 2.0447\n",
            "Epoch 33/200\n",
            "5/5 [==============================] - 1s 205ms/step - loss: 2.0247\n",
            "Epoch 34/200\n",
            "5/5 [==============================] - 1s 202ms/step - loss: 2.0019\n",
            "Epoch 35/200\n",
            "5/5 [==============================] - 1s 202ms/step - loss: 1.9919\n",
            "Epoch 36/200\n",
            "5/5 [==============================] - 1s 204ms/step - loss: 1.9622\n",
            "Epoch 37/200\n",
            "5/5 [==============================] - 1s 207ms/step - loss: 1.9453\n",
            "Epoch 38/200\n",
            "5/5 [==============================] - 1s 204ms/step - loss: 1.9246\n",
            "Epoch 39/200\n",
            "5/5 [==============================] - 1s 207ms/step - loss: 1.9087\n",
            "Epoch 40/200\n",
            "5/5 [==============================] - 1s 206ms/step - loss: 1.8867\n",
            "Epoch 41/200\n",
            "5/5 [==============================] - 1s 213ms/step - loss: 1.8658\n",
            "Epoch 42/200\n",
            "5/5 [==============================] - 1s 206ms/step - loss: 1.8460\n",
            "Epoch 43/200\n",
            "5/5 [==============================] - 1s 210ms/step - loss: 1.8259\n",
            "Epoch 44/200\n",
            "5/5 [==============================] - 1s 207ms/step - loss: 1.8082\n",
            "Epoch 45/200\n",
            "5/5 [==============================] - 1s 210ms/step - loss: 1.7902\n",
            "Epoch 46/200\n",
            "5/5 [==============================] - 1s 207ms/step - loss: 1.7699\n",
            "Epoch 47/200\n",
            "5/5 [==============================] - 1s 210ms/step - loss: 1.7488\n",
            "Epoch 48/200\n",
            "5/5 [==============================] - 1s 211ms/step - loss: 1.7379\n",
            "Epoch 49/200\n",
            "5/5 [==============================] - 1s 206ms/step - loss: 1.7163\n",
            "Epoch 50/200\n",
            "5/5 [==============================] - 1s 207ms/step - loss: 1.7024\n",
            "Epoch 51/200\n",
            "5/5 [==============================] - 1s 202ms/step - loss: 1.6825\n",
            "Epoch 52/200\n",
            "5/5 [==============================] - 1s 202ms/step - loss: 1.6585\n",
            "Epoch 53/200\n",
            "5/5 [==============================] - 1s 201ms/step - loss: 1.6458\n",
            "Epoch 54/200\n",
            "5/5 [==============================] - 1s 203ms/step - loss: 1.6309\n",
            "Epoch 55/200\n",
            "5/5 [==============================] - 1s 202ms/step - loss: 1.6118\n",
            "Epoch 56/200\n",
            "5/5 [==============================] - 1s 202ms/step - loss: 1.5928\n",
            "Epoch 57/200\n",
            "5/5 [==============================] - 1s 201ms/step - loss: 1.5819\n",
            "Epoch 58/200\n",
            "5/5 [==============================] - 1s 197ms/step - loss: 1.5615\n",
            "Epoch 59/200\n",
            "5/5 [==============================] - 1s 197ms/step - loss: 1.5432\n",
            "Epoch 60/200\n",
            "5/5 [==============================] - 1s 199ms/step - loss: 1.5265\n",
            "Epoch 61/200\n",
            "5/5 [==============================] - 1s 197ms/step - loss: 1.5113\n",
            "Epoch 62/200\n",
            "5/5 [==============================] - 1s 200ms/step - loss: 1.4938\n",
            "Epoch 63/200\n",
            "5/5 [==============================] - 1s 195ms/step - loss: 1.4790\n",
            "Epoch 64/200\n",
            "5/5 [==============================] - 1s 196ms/step - loss: 1.4625\n",
            "Epoch 65/200\n",
            "5/5 [==============================] - 1s 196ms/step - loss: 1.4446\n",
            "Epoch 66/200\n",
            "5/5 [==============================] - 1s 192ms/step - loss: 1.4249\n",
            "Epoch 67/200\n",
            "5/5 [==============================] - 1s 197ms/step - loss: 1.4109\n",
            "Epoch 68/200\n",
            "5/5 [==============================] - 1s 190ms/step - loss: 1.3953\n",
            "Epoch 69/200\n",
            "5/5 [==============================] - 1s 194ms/step - loss: 1.3814\n",
            "Epoch 70/200\n",
            "5/5 [==============================] - 1s 197ms/step - loss: 1.3652\n",
            "Epoch 71/200\n",
            "5/5 [==============================] - 1s 195ms/step - loss: 1.3487\n",
            "Epoch 72/200\n",
            "5/5 [==============================] - 1s 188ms/step - loss: 1.3308\n",
            "Epoch 73/200\n",
            "5/5 [==============================] - 1s 195ms/step - loss: 1.3171\n",
            "Epoch 74/200\n",
            "5/5 [==============================] - 1s 194ms/step - loss: 1.3023\n",
            "Epoch 75/200\n",
            "5/5 [==============================] - 1s 191ms/step - loss: 1.2851\n",
            "Epoch 76/200\n",
            "5/5 [==============================] - 1s 195ms/step - loss: 1.2677\n",
            "Epoch 77/200\n",
            "5/5 [==============================] - 1s 194ms/step - loss: 1.2564\n",
            "Epoch 78/200\n",
            "5/5 [==============================] - 1s 191ms/step - loss: 1.2398\n",
            "Epoch 79/200\n",
            "5/5 [==============================] - 1s 192ms/step - loss: 1.2247\n",
            "Epoch 80/200\n",
            "5/5 [==============================] - 1s 193ms/step - loss: 1.2075\n",
            "Epoch 81/200\n",
            "5/5 [==============================] - 1s 196ms/step - loss: 1.1946\n",
            "Epoch 82/200\n",
            "5/5 [==============================] - 1s 197ms/step - loss: 1.1840\n",
            "Epoch 83/200\n",
            "5/5 [==============================] - 1s 195ms/step - loss: 1.1628\n",
            "Epoch 84/200\n",
            "5/5 [==============================] - 1s 198ms/step - loss: 1.1451\n",
            "Epoch 85/200\n",
            "5/5 [==============================] - 1s 196ms/step - loss: 1.1320\n",
            "Epoch 86/200\n",
            "5/5 [==============================] - 1s 196ms/step - loss: 1.1163\n",
            "Epoch 87/200\n",
            "5/5 [==============================] - 1s 195ms/step - loss: 1.1034\n",
            "Epoch 88/200\n",
            "5/5 [==============================] - 1s 199ms/step - loss: 1.0888\n",
            "Epoch 89/200\n",
            "5/5 [==============================] - 1s 198ms/step - loss: 1.0715\n",
            "Epoch 90/200\n",
            "5/5 [==============================] - 1s 198ms/step - loss: 1.0595\n",
            "Epoch 91/200\n",
            "5/5 [==============================] - 1s 201ms/step - loss: 1.0395\n",
            "Epoch 92/200\n",
            "5/5 [==============================] - 1s 198ms/step - loss: 1.0292\n",
            "Epoch 93/200\n",
            "5/5 [==============================] - 1s 199ms/step - loss: 1.0095\n",
            "Epoch 94/200\n",
            "5/5 [==============================] - 1s 203ms/step - loss: 0.9949\n",
            "Epoch 95/200\n",
            "5/5 [==============================] - 1s 197ms/step - loss: 0.9826\n",
            "Epoch 96/200\n",
            "5/5 [==============================] - 1s 205ms/step - loss: 0.9639\n",
            "Epoch 97/200\n",
            "5/5 [==============================] - 1s 201ms/step - loss: 0.9481\n",
            "Epoch 98/200\n",
            "5/5 [==============================] - 1s 216ms/step - loss: 0.9333\n",
            "Epoch 99/200\n",
            "5/5 [==============================] - 1s 201ms/step - loss: 0.9209\n",
            "Epoch 100/200\n",
            "5/5 [==============================] - 1s 204ms/step - loss: 0.9039\n",
            "Epoch 101/200\n",
            "5/5 [==============================] - 1s 204ms/step - loss: 0.8847\n",
            "Epoch 102/200\n",
            "5/5 [==============================] - 1s 201ms/step - loss: 0.8736\n",
            "Epoch 103/200\n",
            "5/5 [==============================] - 1s 203ms/step - loss: 0.8545\n",
            "Epoch 104/200\n",
            "5/5 [==============================] - 1s 205ms/step - loss: 0.8387\n",
            "Epoch 105/200\n",
            "5/5 [==============================] - 1s 202ms/step - loss: 0.8205\n",
            "Epoch 106/200\n",
            "5/5 [==============================] - 1s 204ms/step - loss: 0.8021\n",
            "Epoch 107/200\n",
            "5/5 [==============================] - 1s 201ms/step - loss: 0.7866\n",
            "Epoch 108/200\n",
            "5/5 [==============================] - 1s 199ms/step - loss: 0.7679\n",
            "Epoch 109/200\n",
            "5/5 [==============================] - 1s 202ms/step - loss: 0.7535\n",
            "Epoch 110/200\n"
          ]
        }
      ],
      "source": [
        "loss = tf.losses.SparseCategoricalCrossentropy(from_logits=True)\n",
        "model.compile(optimizer='adam', loss=loss)\n",
        "\n",
        "history = model.fit(dataset, epochs=200)"
      ]
    },
    {
      "cell_type": "markdown",
      "metadata": {
        "id": "casEwxrXcv4Y"
      },
      "source": [
        "## V. Use the model\n",
        "\n",
        "Now that our model has been trained, we can use it to generate text. As mentioned earlier, to do so we have to keep track of its internal state, or memory, so that we can use previous text predictions to inform later ones.\n",
        "\n",
        "However, with RNN generated text, if we always just pick the character with the highest probability, our model tends to get stuck in a loop. So instead we will create a probability distribution of characters for each step, and then sample from that distribution. We can add some variation to this using a paramter known as [\"temperature\"](https://cs.stackexchange.com/questions/79241/what-is-temperature-in-lstm-and-neural-networks-generally)."
      ]
    },
    {
      "cell_type": "code",
      "execution_count": 80,
      "metadata": {
        "id": "V3lhlyfwcqIN"
      },
      "outputs": [],
      "source": [
        "# Here's the code we'll use to sample for us. It has some extra steps to apply\n",
        "# the temperature to the distribution, and to make sure we don't get empty\n",
        "# characters in our text. Most importantly, it will keep track of our model\n",
        "# state for us.\n",
        "\n",
        "class OneStep(tf.keras.Model):\n",
        "  def __init__(self, model, chars_from_ids, ids_from_chars, temperature=1):\n",
        "    super().__init__()\n",
        "    self.temperature=temperature\n",
        "    self.model = model\n",
        "    self.chars_from_ids = chars_from_ids\n",
        "    self.ids_from_chars = ids_from_chars\n",
        "\n",
        "    # Create a mask to prevent \"\" or \"[UNK]\" from being generated.\n",
        "    skip_ids = self.ids_from_chars(['','[UNK]'])[:, None]\n",
        "    sparse_mask = tf.SparseTensor(\n",
        "        # Put a -inf at each bad index.\n",
        "        values=[-float('inf')]*len(skip_ids),\n",
        "        indices = skip_ids,\n",
        "        # Match the shape to the vocabulary\n",
        "        dense_shape=[len(ids_from_chars.get_vocabulary())]) \n",
        "    self.prediction_mask = tf.sparse.to_dense(sparse_mask,validate_indices=False)\n",
        "\n",
        "  @tf.function\n",
        "  def generate_one_step(self, inputs, states=None):\n",
        "    # Convert strings to token IDs.\n",
        "    input_chars = tf.strings.unicode_split(inputs, 'UTF-8')\n",
        "    input_ids = self.ids_from_chars(input_chars).to_tensor()\n",
        "\n",
        "    # Run the model.\n",
        "    # predicted_logits.shape is [batch, char, next_char_logits] \n",
        "    predicted_logits, states =  self.model(inputs=input_ids, states=states, \n",
        "                                          return_state=True)\n",
        "    # Only use the last prediction.\n",
        "    predicted_logits = predicted_logits[:, -1, :]\n",
        "    predicted_logits = predicted_logits/self.temperature\n",
        "    \n",
        "    # Apply the prediction mask: prevent \"\" or \"[UNK]\" from being generated.\n",
        "    predicted_logits = predicted_logits + self.prediction_mask\n",
        "\n",
        "    # Sample the output logits to generate token IDs.\n",
        "    predicted_ids = tf.random.categorical(predicted_logits, num_samples=1)\n",
        "    predicted_ids = tf.squeeze(predicted_ids, axis=-1)\n",
        "\n",
        "    # Return the characters and model state.\n",
        "    return chars_from_ids(predicted_ids), states\n"
      ]
    },
    {
      "cell_type": "code",
      "execution_count": 81,
      "metadata": {
        "colab": {
          "base_uri": "https://localhost:8080/"
        },
        "id": "fSUghgUFc6ba",
        "outputId": "57a343fd-a37a-4058-df04-b4422662f381"
      },
      "outputs": [
        {
          "output_type": "stream",
          "name": "stdout",
          "text": [
            "The world seemed like such a peaceful place until the magic tree was discovered in London. (The Fost\r\n",
            "or minetead, you know,\" said Alice, \"what a cotily? That\r\n",
            "thein veidnons conqussoront that she\r\n",
            "was dinn try to through the hearp of the\r\n",
            "wig, fes tho wruttersaley said pighing them, the middle of the\r\n",
            "without was the fat little schiok, on sout in the sorts. \"I seppat evingnim ot do\r\n",
            "ait. Alice kept she find such a hall of thought, and like it very much,\" said Alice, (\"Pighap timed somm it is,\"\r\n",
            "she said to herself, \"it was a little dor a faw round the court,\r\n",
            "without even waiting to put his shoes on.\r\n",
            "\r\n",
            "\"--and just take his head off outsidet in the air. This time there were\r\n",
            "_two_ little shrieks, and more sounds of broken glass. \"What sort of a day-'  wilk the Pooter, and make put\r\n",
            "dit ut and began to itself toatse, and she troubled dow\r\n",
            "so mush cartion,\" added the Harthess.\r\n",
            "\r\n",
            "Alice thought did not as me look at the Hatter, and, as the twinkling of the tea----\"\r\n",
            "\r\n",
            "\"I with yes,\" said the Dodo solemnly, rising to its feet, \"I move that\r\n",
            "the meeting adjourn, for the immediate\n"
          ]
        }
      ],
      "source": [
        "# Create an instance of the character generator\n",
        "one_step_model = OneStep(model, chars_from_ids, ids_from_chars)\n",
        "\n",
        "# Now, let's generate a 1000 character chapter by giving our model \"Chapter 1\"\n",
        "# as its starting text\n",
        "states = None\n",
        "next_char = tf.constant(['The world seemed like such a peaceful place until the magic tree was discovered in London. '])\n",
        "result = [next_char]\n",
        "\n",
        "for n in range(1000):\n",
        "  next_char, states = one_step_model.generate_one_step(next_char, states=states)\n",
        "  result.append(next_char)\n",
        "\n",
        "result = tf.strings.join(result)\n",
        "\n",
        "# Print the results formatted.\n",
        "print(result[0].numpy().decode('utf-8'))\n",
        "\n",
        "\n"
      ]
    },
    {
      "cell_type": "markdown",
      "metadata": {
        "id": "b2Cudf3YoaKr"
      },
      "source": [
        "## VI. Next Steps\n",
        "\n",
        "This is a very simple model with one GRU layer and then an output layer. However, considering how simple it is and the fact that we are predicting outputs character by character, the text it produces is pretty amazing. Though it still has a long way to go before publication.\n",
        "\n",
        "There are many other RNN architectures you could try, such as adding additional hidden dense layers, replacing GRU with one or more LSTM layers, combining GRU and LSTM, etc...\n",
        "\n",
        "You could also experiment with better text cleanup to make sure odd punctuation doesn't appear, or finding longer texts to use. If you combine texts from two authors, what happens? Can you generate a Jane Austen stageplay by combining austen and shakespeare texts?\n",
        "\n",
        "Finally, there are a number of hyperparameters to tweak, such as temperature, epochs, batch size, sequence length, etc..."
      ]
    }
  ],
  "metadata": {
    "accelerator": "GPU",
    "colab": {
      "collapsed_sections": [],
      "name": "publishing_starter.ipynb",
      "provenance": [],
      "include_colab_link": true
    },
    "kernelspec": {
      "display_name": "Python 3",
      "name": "python3"
    },
    "gpuClass": "standard"
  },
  "nbformat": 4,
  "nbformat_minor": 0
}