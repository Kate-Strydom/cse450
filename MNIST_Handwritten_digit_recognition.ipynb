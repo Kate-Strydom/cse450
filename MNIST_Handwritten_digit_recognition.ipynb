{
  "nbformat": 4,
  "nbformat_minor": 0,
  "metadata": {
    "colab": {
      "name": "MNIST Handwritten digit recognition.ipynb",
      "provenance": [],
      "collapsed_sections": [],
      "authorship_tag": "ABX9TyM8T2gP4yRYSEbi//3qP04l",
      "include_colab_link": true
    },
    "kernelspec": {
      "name": "python3",
      "display_name": "Python 3"
    },
    "language_info": {
      "name": "python"
    }
  },
  "cells": [
    {
      "cell_type": "markdown",
      "metadata": {
        "id": "view-in-github",
        "colab_type": "text"
      },
      "source": [
        "<a href=\"https://colab.research.google.com/github/Kate-Strydom/cse450/blob/main/MNIST_Handwritten_digit_recognition.ipynb\" target=\"_parent\"><img src=\"https://colab.research.google.com/assets/colab-badge.svg\" alt=\"Open In Colab\"/></a>"
      ]
    },
    {
      "cell_type": "markdown",
      "source": [
        "#MNIST Dataset for Handwritten Digit Recognition\n",
        "Modified National Institute of Standards and Technology (MNIST) database.\n",
        "\n",
        "The MNIST dataset consists images of handwritten digit from a variety of scanned documents from American Census Bureau employees and American high school students. \n",
        "\n",
        "In this dataset 60,000 images are used to train the model and 10,000 images are used to test the model. There are 10 digits (0 to 9) or 10 classes to predict.\"\n",
        "\n",
        "References:\n",
        "\n",
        "https://towardsdatascience.com/image-classification-in-10-minutes-with-mnist-dataset-54c35b77a38d\n",
        "\n",
        "https://www.analyticsvidhya.com/blog/2021/06/image-processing-using-cnn-a-beginners-guide/\n",
        "\n",
        "https://www.askpython.com/python/examples/load-and-plot-mnist-dataset-in-python\n",
        "\n",
        "https://machinelearningmastery.com/how-to-develop-a-convolutional-neural-network-from-scratch-for-mnist-handwritten-digit-classification/\n",
        "\n"
      ],
      "metadata": {
        "id": "zlonDLHqFTbE"
      }
    },
    {
      "cell_type": "markdown",
      "source": [
        "###load libraries"
      ],
      "metadata": {
        "id": "pjIEzAHTFg_A"
      }
    },
    {
      "cell_type": "code",
      "source": [
        "# import libraries\n",
        "# Core\n",
        "import numpy as np\n",
        "import pandas as pd\n",
        "import matplotlib.pyplot as plt\n",
        "%matplotlib inline\n",
        "\n",
        "# sklearn\n",
        "from sklearn.metrics import roc_curve, auc\n",
        "\n",
        "# Tensorflow\n",
        "# import the dataset\n",
        "from tensorflow.keras.datasets import mnist\n",
        "# Importing the required Keras modules containing model and layers\n",
        "from tensorflow.keras.models import Sequential\n",
        "from tensorflow.keras.layers import Dense, Conv2D, Dropout, Flatten, MaxPooling2D, BatchNormalization\n",
        "from tensorflow.keras.utils import to_categorical\n",
        "\n",
        "from keras.utils.vis_utils import plot_model\n"
      ],
      "metadata": {
        "id": "pIB2mVh7likU"
      },
      "execution_count": 11,
      "outputs": []
    },
    {
      "cell_type": "markdown",
      "source": [
        "The training set contains 60k images and the testing set contains 10k images.\n",
        "\n",
        "The training input vector is of the dimension [60000 X 28 X 28].\n",
        "\n",
        "The training output vector is of the dimension [60000 X 1].\n",
        "\n",
        "Each individual input vector is of the dimension [28 X 28].\n",
        "\n",
        "Each individual output vector is of the dimension [1]."
      ],
      "metadata": {
        "id": "-GYODuBZnH9T"
      }
    },
    {
      "cell_type": "markdown",
      "source": [
        "#MNIST dataset\n",
        "Modified National Institute of Standards and Technology database\n",
        "\n",
        "The MNIST database contains 60,000 training images and 10,000 testing images taken from American Census Bureau employees and American high school students [Wikipedia]. "
      ],
      "metadata": {
        "id": "kVaEjzs_brl_"
      }
    },
    {
      "cell_type": "code",
      "source": [
        "import tensorflow as tf\n",
        "(x_train, y_train), (x_test, y_test) = tf.keras.datasets.mnist.load_data()\n",
        "print('Train: X=%s, y=%s' % (x_train.shape, y_train.shape))\n",
        "print('Test: X=%s, y=%s' % (x_test.shape, y_test.shape))"
      ],
      "metadata": {
        "colab": {
          "base_uri": "https://localhost:8080/"
        },
        "id": "0Gp8rAdfbl_Z",
        "outputId": "662dc2a5-edee-42dd-d0ad-c011e4f04a00"
      },
      "execution_count": 12,
      "outputs": [
        {
          "output_type": "stream",
          "name": "stdout",
          "text": [
            "Train: X=(60000, 28, 28), y=(60000,)\n",
            "Test: X=(10000, 28, 28), y=(10000,)\n"
          ]
        }
      ]
    },
    {
      "cell_type": "code",
      "source": [
        "#reproducible results\n",
        "from numpy.random import seed\n",
        "seed(1)\n",
        "import tensorflow\n",
        "tensorflow.random.set_seed(42)"
      ],
      "metadata": {
        "id": "TJ6WXKn0QBdx"
      },
      "execution_count": 13,
      "outputs": []
    },
    {
      "cell_type": "markdown",
      "source": [
        "x_train and x_test parts contain greyscale RGB codes (from 0 to 255) \n",
        "y_train and y_test parts contain labels from 0 to 9 which represents which number they actually are."
      ],
      "metadata": {
        "id": "tA8Hva8Xcj2A"
      }
    },
    {
      "cell_type": "code",
      "source": [
        "import matplotlib.pyplot as plt\n",
        "%matplotlib inline\n",
        "image_index = 7777 # You may select anything up to 60,000\n",
        "print(y_train[image_index]) # The label is 8\n",
        "plt.imshow(x_train[image_index], cmap='Greys')"
      ],
      "metadata": {
        "colab": {
          "base_uri": "https://localhost:8080/",
          "height": 300
        },
        "id": "C3JKOUEpci7K",
        "outputId": "09231316-ef3a-48ad-c389-3e79b86162e5"
      },
      "execution_count": 14,
      "outputs": [
        {
          "output_type": "stream",
          "name": "stdout",
          "text": [
            "8\n"
          ]
        },
        {
          "output_type": "execute_result",
          "data": {
            "text/plain": [
              "<matplotlib.image.AxesImage at 0x7fede51b0310>"
            ]
          },
          "metadata": {},
          "execution_count": 14
        },
        {
          "output_type": "display_data",
          "data": {
            "text/plain": [
              "<Figure size 432x288 with 1 Axes>"
            ],
            "image/png": "[encoded data removed]"
          },
          "metadata": {
            "needs_background": "light"
          }
        }
      ]
    },
    {
      "cell_type": "markdown",
      "source": [
        "We need the shape of the dataset to channel it to the convolutional neural network."
      ],
      "metadata": {
        "id": "RLz_iEiBdHB2"
      }
    },
    {
      "cell_type": "code",
      "source": [
        "x_train.shape"
      ],
      "metadata": {
        "colab": {
          "base_uri": "https://localhost:8080/"
        },
        "id": "aylivPuldGNm",
        "outputId": "1157f229-9850-4224-f957-93fcba271ba3"
      },
      "execution_count": 15,
      "outputs": [
        {
          "output_type": "execute_result",
          "data": {
            "text/plain": [
              "(60000, 28, 28)"
            ]
          },
          "metadata": {},
          "execution_count": 15
        }
      ]
    },
    {
      "cell_type": "markdown",
      "source": [
        "###Adjusting 3-dim array for Keras API"
      ],
      "metadata": {
        "id": "8niHpYKeddPK"
      }
    },
    {
      "cell_type": "code",
      "source": [
        "# Reshaping the array to 4-dims so that it can work with the Keras API\n",
        "x_train = x_train.reshape(x_train.shape[0], 28, 28, 1)\n",
        "x_test = x_test.reshape(x_test.shape[0], 28, 28, 1)\n",
        "input_shape = (28, 28, 1)\n",
        "# Making sure that the values are float so that we can get decimal points after division\n",
        "x_train = x_train.astype('float32')\n",
        "x_test = x_test.astype('float32')\n",
        "# Normalizing the RGB codes by dividing it to the max RGB value.\n",
        "x_train /= 255\n",
        "x_test /= 255\n",
        "print('x_train shape:', x_train.shape)\n",
        "print('Number of images in x_train', x_train.shape[0])\n",
        "print('Number of images in x_test', x_test.shape[0])"
      ],
      "metadata": {
        "colab": {
          "base_uri": "https://localhost:8080/"
        },
        "id": "xkzqk4MTdxGj",
        "outputId": "81f6b6f1-a389-47da-d1fb-0723434b9c51"
      },
      "execution_count": 16,
      "outputs": [
        {
          "output_type": "stream",
          "name": "stdout",
          "text": [
            "x_train shape: (60000, 28, 28, 1)\n",
            "Number of images in x_train 60000\n",
            "Number of images in x_test 10000\n"
          ]
        }
      ]
    },
    {
      "cell_type": "markdown",
      "source": [
        "Sequential Model from Keras and add Conv2D, MaxPooling, Flatten, Dropout, and Dense layers. I have already talked about Conv2D, Maxpooling, and Dense layers. In addition, Dropout layers fight with the overfitting by disregarding some of the neurons while training while Flatten layers flatten 2D arrays to 1D arrays before building the fully connected layers."
      ],
      "metadata": {
        "id": "a-WrOBMFiAc1"
      }
    },
    {
      "cell_type": "code",
      "source": [
        "# Creating a Sequential Model and adding the layers\n",
        "model = Sequential()\n",
        "model.add(Conv2D(28, kernel_size=(3,3), input_shape=input_shape))\n",
        "# Batch normalization to stabalize and accelerate the learning process\n",
        "model.add(BatchNormalization())\n",
        "model.add(MaxPooling2D(pool_size=(2, 2)))\n",
        "model.add(Flatten()) # Flattening the 2D arrays for fully connected layers\n",
        "model.add(Dense(128, activation=tf.nn.relu))\n",
        "model.add(Dropout(0.2))\n",
        "# Batch normalization to stabalize and accelerate the learning process\n",
        "model.add(BatchNormalization())\n",
        "model.add(Dense(10,activation=tf.nn.softmax))"
      ],
      "metadata": {
        "id": "wlDLfGf9hnC9"
      },
      "execution_count": 17,
      "outputs": []
    },
    {
      "cell_type": "code",
      "source": [
        "# compiling and fitting the model\n",
        "model.compile(optimizer='adam', \n",
        "              loss='sparse_categorical_crossentropy', \n",
        "              metrics=['accuracy'])"
      ],
      "metadata": {
        "id": "aX0av2T5h_u0"
      },
      "execution_count": 18,
      "outputs": []
    },
    {
      "cell_type": "code",
      "source": [
        "# baseline CNN model\n",
        "model_baseline = model.fit(x=x_train,y=y_train, epochs=10, batch_size=32, verbose=2)\n",
        "print(model_baseline)\n",
        "#evaluating the baseline model \n",
        "baseline = model.evaluate(x_test, y_test)\n",
        "print(baseline)"
      ],
      "metadata": {
        "colab": {
          "base_uri": "https://localhost:8080/"
        },
        "id": "CWIRp5ZqqSnP",
        "outputId": "c58ba8e9-72e9-4808-8c05-d0f0181cc765"
      },
      "execution_count": 19,
      "outputs": [
        {
          "output_type": "stream",
          "name": "stdout",
          "text": [
            "Epoch 1/10\n",
            "1875/1875 - 33s - loss: 0.2004 - accuracy: 0.9401 - 33s/epoch - 17ms/step\n",
            "Epoch 2/10\n",
            "1875/1875 - 31s - loss: 0.0826 - accuracy: 0.9746 - 31s/epoch - 17ms/step\n",
            "Epoch 3/10\n",
            "1875/1875 - 32s - loss: 0.0579 - accuracy: 0.9820 - 32s/epoch - 17ms/step\n",
            "Epoch 4/10\n",
            "1875/1875 - 32s - loss: 0.0441 - accuracy: 0.9857 - 32s/epoch - 17ms/step\n",
            "Epoch 5/10\n",
            "1875/1875 - 32s - loss: 0.0346 - accuracy: 0.9882 - 32s/epoch - 17ms/step\n",
            "Epoch 6/10\n",
            "1875/1875 - 33s - loss: 0.0309 - accuracy: 0.9898 - 33s/epoch - 17ms/step\n",
            "Epoch 7/10\n",
            "1875/1875 - 33s - loss: 0.0261 - accuracy: 0.9913 - 33s/epoch - 18ms/step\n",
            "Epoch 8/10\n",
            "1875/1875 - 33s - loss: 0.0226 - accuracy: 0.9923 - 33s/epoch - 17ms/step\n",
            "Epoch 9/10\n",
            "1875/1875 - 33s - loss: 0.0179 - accuracy: 0.9938 - 33s/epoch - 17ms/step\n",
            "Epoch 10/10\n",
            "1875/1875 - 32s - loss: 0.0175 - accuracy: 0.9939 - 32s/epoch - 17ms/step\n",
            "<keras.callbacks.History object at 0x7fe5c9504f90>\n",
            "313/313 [==============================] - 3s 8ms/step - loss: 0.0779 - accuracy: 0.9814\n",
            "[0.07788829505443573, 0.9814000129699707]\n"
          ]
        }
      ]
    },
    {
      "cell_type": "markdown",
      "source": [
        "Adding Batch normalization after the convolutional and final fully connected layer"
      ],
      "metadata": {
        "id": "FFdvYYuvenVb"
      }
    },
    {
      "cell_type": "code",
      "source": [
        "# batch normalization CNN model (epoch 10, batch size 32)\n",
        "model_batch = model.fit(x=x_train,y=y_train, epochs=10, batch_size=32, verbose=2)\n",
        "print(model_batch)\n",
        "#evaluating the batch normalization CNN model \n",
        "batch = model.evaluate(x_test, y_test)\n",
        "print(batch)"
      ],
      "metadata": {
        "colab": {
          "base_uri": "https://localhost:8080/"
        },
        "id": "ari-epUqqSep",
        "outputId": "a88848d8-c87e-4f0f-b1d5-0bec2f3ab7c2"
      },
      "execution_count": 27,
      "outputs": [
        {
          "output_type": "stream",
          "name": "stdout",
          "text": [
            "Epoch 1/10\n",
            "1875/1875 - 49s - loss: 0.0274 - accuracy: 0.9910 - 49s/epoch - 26ms/step\n",
            "Epoch 2/10\n",
            "1875/1875 - 47s - loss: 0.0178 - accuracy: 0.9941 - 47s/epoch - 25ms/step\n",
            "Epoch 3/10\n",
            "1875/1875 - 48s - loss: 0.0184 - accuracy: 0.9938 - 48s/epoch - 25ms/step\n",
            "Epoch 4/10\n",
            "1875/1875 - 50s - loss: 0.0163 - accuracy: 0.9947 - 50s/epoch - 27ms/step\n",
            "Epoch 5/10\n",
            "1875/1875 - 48s - loss: 0.0156 - accuracy: 0.9949 - 48s/epoch - 25ms/step\n",
            "Epoch 6/10\n",
            "1875/1875 - 50s - loss: 0.0139 - accuracy: 0.9956 - 50s/epoch - 27ms/step\n",
            "Epoch 7/10\n",
            "1875/1875 - 48s - loss: 0.0143 - accuracy: 0.9950 - 48s/epoch - 26ms/step\n",
            "Epoch 8/10\n",
            "1875/1875 - 48s - loss: 0.0124 - accuracy: 0.9957 - 48s/epoch - 26ms/step\n",
            "Epoch 9/10\n",
            "1875/1875 - 49s - loss: 0.0145 - accuracy: 0.9950 - 49s/epoch - 26ms/step\n",
            "Epoch 10/10\n",
            "1875/1875 - 47s - loss: 0.0154 - accuracy: 0.9950 - 47s/epoch - 25ms/step\n",
            "<keras.callbacks.History object at 0x7fe5c2802c50>\n",
            "313/313 [==============================] - 3s 9ms/step - loss: 0.0713 - accuracy: 0.9837\n",
            "[0.07125307619571686, 0.9836999773979187]\n"
          ]
        }
      ]
    },
    {
      "cell_type": "code",
      "source": [
        "# batch normalization with tuning CNN model (epoch 60, batch size 1048)\n",
        "model_batch_tune = model.fit(x=x_train,y=y_train, epochs=60, batch_size=1048, verbose=2)\n",
        "print(model_batch_tune)\n",
        "#evaluating the batch normalization with tuning CNN model \n",
        "batch_tune = model.evaluate(x_test, y_test)\n",
        "print(batch_tune)"
      ],
      "metadata": {
        "colab": {
          "base_uri": "https://localhost:8080/"
        },
        "id": "XqTBujx8MKIO",
        "outputId": "267138d0-d975-455c-e42f-536b3017c26f"
      },
      "execution_count": 21,
      "outputs": [
        {
          "output_type": "stream",
          "name": "stdout",
          "text": [
            "Epoch 1/60\n",
            "58/58 - 37s - loss: 8.7111e-04 - accuracy: 0.9998 - 37s/epoch - 639ms/step\n",
            "Epoch 2/60\n",
            "58/58 - 38s - loss: 0.0015 - accuracy: 0.9997 - 38s/epoch - 650ms/step\n",
            "Epoch 3/60\n",
            "58/58 - 37s - loss: 0.0024 - accuracy: 0.9992 - 37s/epoch - 646ms/step\n",
            "Epoch 4/60\n",
            "58/58 - 37s - loss: 0.0027 - accuracy: 0.9991 - 37s/epoch - 639ms/step\n",
            "Epoch 5/60\n",
            "58/58 - 36s - loss: 0.0030 - accuracy: 0.9991 - 36s/epoch - 620ms/step\n",
            "Epoch 6/60\n",
            "58/58 - 36s - loss: 0.0039 - accuracy: 0.9988 - 36s/epoch - 629ms/step\n",
            "Epoch 7/60\n",
            "58/58 - 38s - loss: 0.0026 - accuracy: 0.9992 - 38s/epoch - 660ms/step\n",
            "Epoch 8/60\n",
            "58/58 - 37s - loss: 0.0027 - accuracy: 0.9991 - 37s/epoch - 638ms/step\n",
            "Epoch 9/60\n",
            "58/58 - 38s - loss: 0.0022 - accuracy: 0.9993 - 38s/epoch - 662ms/step\n",
            "Epoch 10/60\n",
            "58/58 - 38s - loss: 0.0023 - accuracy: 0.9992 - 38s/epoch - 661ms/step\n",
            "Epoch 11/60\n",
            "58/58 - 38s - loss: 0.0018 - accuracy: 0.9995 - 38s/epoch - 655ms/step\n",
            "Epoch 12/60\n",
            "58/58 - 38s - loss: 0.0015 - accuracy: 0.9995 - 38s/epoch - 647ms/step\n",
            "Epoch 13/60\n",
            "58/58 - 38s - loss: 0.0013 - accuracy: 0.9997 - 38s/epoch - 653ms/step\n",
            "Epoch 14/60\n",
            "58/58 - 39s - loss: 0.0013 - accuracy: 0.9997 - 39s/epoch - 677ms/step\n",
            "Epoch 15/60\n",
            "58/58 - 38s - loss: 0.0011 - accuracy: 0.9997 - 38s/epoch - 650ms/step\n",
            "Epoch 16/60\n",
            "58/58 - 37s - loss: 0.0010 - accuracy: 0.9997 - 37s/epoch - 638ms/step\n",
            "Epoch 17/60\n",
            "58/58 - 38s - loss: 0.0014 - accuracy: 0.9996 - 38s/epoch - 655ms/step\n",
            "Epoch 18/60\n",
            "58/58 - 39s - loss: 0.0020 - accuracy: 0.9994 - 39s/epoch - 677ms/step\n",
            "Epoch 19/60\n",
            "58/58 - 37s - loss: 0.0012 - accuracy: 0.9997 - 37s/epoch - 643ms/step\n",
            "Epoch 20/60\n",
            "58/58 - 39s - loss: 8.6132e-04 - accuracy: 0.9998 - 39s/epoch - 671ms/step\n",
            "Epoch 21/60\n",
            "58/58 - 38s - loss: 0.0011 - accuracy: 0.9997 - 38s/epoch - 651ms/step\n",
            "Epoch 22/60\n",
            "58/58 - 39s - loss: 0.0011 - accuracy: 0.9997 - 39s/epoch - 675ms/step\n",
            "Epoch 23/60\n",
            "58/58 - 38s - loss: 9.7191e-04 - accuracy: 0.9997 - 38s/epoch - 660ms/step\n",
            "Epoch 24/60\n",
            "58/58 - 38s - loss: 0.0014 - accuracy: 0.9997 - 38s/epoch - 647ms/step\n",
            "Epoch 25/60\n",
            "58/58 - 38s - loss: 0.0014 - accuracy: 0.9995 - 38s/epoch - 648ms/step\n",
            "Epoch 26/60\n",
            "58/58 - 38s - loss: 0.0013 - accuracy: 0.9996 - 38s/epoch - 659ms/step\n",
            "Epoch 27/60\n",
            "58/58 - 38s - loss: 0.0014 - accuracy: 0.9996 - 38s/epoch - 648ms/step\n",
            "Epoch 28/60\n",
            "58/58 - 39s - loss: 0.0013 - accuracy: 0.9997 - 39s/epoch - 664ms/step\n",
            "Epoch 29/60\n",
            "58/58 - 38s - loss: 0.0010 - accuracy: 0.9997 - 38s/epoch - 658ms/step\n",
            "Epoch 30/60\n",
            "58/58 - 39s - loss: 0.0011 - accuracy: 0.9997 - 39s/epoch - 679ms/step\n",
            "Epoch 31/60\n",
            "58/58 - 37s - loss: 0.0016 - accuracy: 0.9995 - 37s/epoch - 633ms/step\n",
            "Epoch 32/60\n",
            "58/58 - 37s - loss: 0.0016 - accuracy: 0.9995 - 37s/epoch - 639ms/step\n",
            "Epoch 33/60\n",
            "58/58 - 38s - loss: 0.0019 - accuracy: 0.9993 - 38s/epoch - 652ms/step\n",
            "Epoch 34/60\n",
            "58/58 - 39s - loss: 9.5477e-04 - accuracy: 0.9998 - 39s/epoch - 665ms/step\n",
            "Epoch 35/60\n",
            "58/58 - 38s - loss: 0.0014 - accuracy: 0.9995 - 38s/epoch - 650ms/step\n",
            "Epoch 36/60\n",
            "58/58 - 38s - loss: 0.0017 - accuracy: 0.9994 - 38s/epoch - 661ms/step\n",
            "Epoch 37/60\n",
            "58/58 - 37s - loss: 0.0016 - accuracy: 0.9995 - 37s/epoch - 637ms/step\n",
            "Epoch 38/60\n",
            "58/58 - 38s - loss: 0.0017 - accuracy: 0.9995 - 38s/epoch - 656ms/step\n",
            "Epoch 39/60\n",
            "58/58 - 37s - loss: 0.0012 - accuracy: 0.9997 - 37s/epoch - 630ms/step\n",
            "Epoch 40/60\n",
            "58/58 - 38s - loss: 0.0014 - accuracy: 0.9995 - 38s/epoch - 660ms/step\n",
            "Epoch 41/60\n",
            "58/58 - 37s - loss: 0.0016 - accuracy: 0.9996 - 37s/epoch - 643ms/step\n",
            "Epoch 42/60\n",
            "58/58 - 39s - loss: 0.0013 - accuracy: 0.9996 - 39s/epoch - 667ms/step\n",
            "Epoch 43/60\n",
            "58/58 - 38s - loss: 0.0016 - accuracy: 0.9995 - 38s/epoch - 652ms/step\n",
            "Epoch 44/60\n",
            "58/58 - 37s - loss: 0.0014 - accuracy: 0.9994 - 37s/epoch - 643ms/step\n",
            "Epoch 45/60\n",
            "58/58 - 38s - loss: 9.3870e-04 - accuracy: 0.9998 - 38s/epoch - 647ms/step\n",
            "Epoch 46/60\n",
            "58/58 - 37s - loss: 0.0013 - accuracy: 0.9996 - 37s/epoch - 642ms/step\n",
            "Epoch 47/60\n",
            "58/58 - 38s - loss: 0.0013 - accuracy: 0.9996 - 38s/epoch - 648ms/step\n",
            "Epoch 48/60\n",
            "58/58 - 38s - loss: 0.0015 - accuracy: 0.9995 - 38s/epoch - 655ms/step\n",
            "Epoch 49/60\n",
            "58/58 - 38s - loss: 0.0016 - accuracy: 0.9994 - 38s/epoch - 662ms/step\n",
            "Epoch 50/60\n",
            "58/58 - 39s - loss: 0.0013 - accuracy: 0.9996 - 39s/epoch - 665ms/step\n",
            "Epoch 51/60\n",
            "58/58 - 37s - loss: 0.0017 - accuracy: 0.9995 - 37s/epoch - 644ms/step\n",
            "Epoch 52/60\n",
            "58/58 - 38s - loss: 0.0011 - accuracy: 0.9997 - 38s/epoch - 656ms/step\n",
            "Epoch 53/60\n",
            "58/58 - 37s - loss: 0.0013 - accuracy: 0.9996 - 37s/epoch - 642ms/step\n",
            "Epoch 54/60\n",
            "58/58 - 38s - loss: 0.0015 - accuracy: 0.9994 - 38s/epoch - 657ms/step\n",
            "Epoch 55/60\n",
            "58/58 - 38s - loss: 0.0013 - accuracy: 0.9996 - 38s/epoch - 652ms/step\n",
            "Epoch 56/60\n",
            "58/58 - 37s - loss: 0.0020 - accuracy: 0.9994 - 37s/epoch - 644ms/step\n",
            "Epoch 57/60\n",
            "58/58 - 37s - loss: 0.0017 - accuracy: 0.9994 - 37s/epoch - 644ms/step\n",
            "Epoch 58/60\n",
            "58/58 - 39s - loss: 0.0012 - accuracy: 0.9996 - 39s/epoch - 666ms/step\n",
            "Epoch 59/60\n",
            "58/58 - 38s - loss: 0.0015 - accuracy: 0.9995 - 38s/epoch - 651ms/step\n",
            "Epoch 60/60\n",
            "58/58 - 38s - loss: 9.3298e-04 - accuracy: 0.9997 - 38s/epoch - 655ms/step\n",
            "<keras.callbacks.History object at 0x7fede1269b90>\n",
            "313/313 [==============================] - 3s 10ms/step - loss: 0.0749 - accuracy: 0.9856\n",
            "[0.07490307837724686, 0.9855999946594238]\n"
          ]
        }
      ]
    },
    {
      "cell_type": "code",
      "source": [
        "# predicted test classes\n",
        "pred_tune = np.argmax(model.predict(x_test), axis=-1)\n",
        "pred_tune"
      ],
      "metadata": {
        "colab": {
          "base_uri": "https://localhost:8080/"
        },
        "id": "qU1zbHLncXJF",
        "outputId": "b0768783-4d4c-440a-d3fc-11106b5eea24"
      },
      "execution_count": 28,
      "outputs": [
        {
          "output_type": "execute_result",
          "data": {
            "text/plain": [
              "array([7, 2, 1, ..., 4, 5, 6])"
            ]
          },
          "metadata": {},
          "execution_count": 28
        }
      ]
    },
    {
      "cell_type": "code",
      "source": [
        "labels=[\"0\", \"1\", \"2\", \"3\", \"4\", \"5\", \"6\", \"7\", \"8\", \"9\"]\n",
        "print(labels)\n",
        "np.bincount(y_test)\n"
      ],
      "metadata": {
        "colab": {
          "base_uri": "https://localhost:8080/"
        },
        "id": "qiMvFu9xnT-L",
        "outputId": "78f9cdf1-dc87-4c4a-d65c-0c7685c0e98c"
      },
      "execution_count": 23,
      "outputs": [
        {
          "output_type": "stream",
          "name": "stdout",
          "text": [
            "['0', '1', '2', '3', '4', '5', '6', '7', '8', '9']\n"
          ]
        },
        {
          "output_type": "execute_result",
          "data": {
            "text/plain": [
              "array([ 980, 1135, 1032, 1010,  982,  892,  958, 1028,  974, 1009])"
            ]
          },
          "metadata": {},
          "execution_count": 23
        }
      ]
    },
    {
      "cell_type": "code",
      "source": [
        "from sklearn.metrics import confusion_matrix\n",
        "conf_mx_baseline = confusion_matrix(y_test, pred_tune)\n",
        "conf_mx_baseline"
      ],
      "metadata": {
        "colab": {
          "base_uri": "https://localhost:8080/"
        },
        "id": "XBJbep5shoQx",
        "outputId": "49ec30d2-6ca4-4550-b854-c89a14ea2c28"
      },
      "execution_count": 25,
      "outputs": [
        {
          "output_type": "execute_result",
          "data": {
            "text/plain": [
              "array([[ 971,    0,    2,    0,    0,    2,    2,    2,    1,    0],\n",
              "       [   0, 1127,    4,    1,    0,    0,    2,    1,    0,    0],\n",
              "       [   1,    3, 1017,    0,    1,    0,    1,    9,    0,    0],\n",
              "       [   0,    0,    1,  995,    0,    5,    1,    3,    2,    3],\n",
              "       [   1,    0,    1,    0,  969,    0,    3,    0,    0,    8],\n",
              "       [   1,    1,    0,    3,    0,  885,    2,    0,    0,    0],\n",
              "       [   4,    2,    0,    0,    1,    3,  947,    0,    1,    0],\n",
              "       [   0,    2,    5,    0,    0,    0,    0, 1019,    0,    2],\n",
              "       [   4,    2,    3,    1,    4,    6,    0,    6,  942,    6],\n",
              "       [   1,    4,    0,    0,    8,    5,    0,    7,    0,  984]])"
            ]
          },
          "metadata": {},
          "execution_count": 25
        }
      ]
    },
    {
      "cell_type": "code",
      "source": [
        "from sklearn.metrics import classification_report\n",
        "print(classification_report(y_test, pred_tune))"
      ],
      "metadata": {
        "colab": {
          "base_uri": "https://localhost:8080/"
        },
        "id": "CBdF5LO3cnTr",
        "outputId": "5614d33e-23e7-4093-fae2-e3278afc3a28"
      },
      "execution_count": 26,
      "outputs": [
        {
          "output_type": "stream",
          "name": "stdout",
          "text": [
            "              precision    recall  f1-score   support\n",
            "\n",
            "           0       0.99      0.99      0.99       980\n",
            "           1       0.99      0.99      0.99      1135\n",
            "           2       0.98      0.99      0.98      1032\n",
            "           3       0.99      0.99      0.99      1010\n",
            "           4       0.99      0.99      0.99       982\n",
            "           5       0.98      0.99      0.98       892\n",
            "           6       0.99      0.99      0.99       958\n",
            "           7       0.97      0.99      0.98      1028\n",
            "           8       1.00      0.97      0.98       974\n",
            "           9       0.98      0.98      0.98      1009\n",
            "\n",
            "    accuracy                           0.99     10000\n",
            "   macro avg       0.99      0.99      0.99     10000\n",
            "weighted avg       0.99      0.99      0.99     10000\n",
            "\n"
          ]
        }
      ]
    },
    {
      "cell_type": "markdown",
      "source": [
        "##Visualization of Different CNN Models"
      ],
      "metadata": {
        "id": "OIcfux66ZE7Z"
      }
    },
    {
      "cell_type": "code",
      "source": [
        "#make individual predictions\n",
        "#image_index = 4444\n",
        "image_index = 4465\n",
        "plt.imshow(x_test[image_index].reshape(28, 28),cmap='Greys')\n",
        "pred = model.predict(x_test[image_index].reshape(1, 28, 28, 1))\n",
        "print(pred.argmax())"
      ],
      "metadata": {
        "colab": {
          "base_uri": "https://localhost:8080/",
          "height": 283
        },
        "id": "yvQnLxWLjGZM",
        "outputId": "6ffe1bc0-6f5a-4b65-a7af-c1c39ed8b682"
      },
      "execution_count": 27,
      "outputs": [
        {
          "output_type": "stream",
          "name": "stdout",
          "text": [
            "4\n"
          ]
        },
        {
          "output_type": "display_data",
          "data": {
            "text/plain": [
              "<Figure size 432x288 with 1 Axes>"
            ],
            "image/png": "[encoded data removed]"
          },
          "metadata": {
            "needs_background": "light"
          }
        }
      ]
    },
    {
      "cell_type": "markdown",
      "source": [
        "## visualization with data augmentation"
      ],
      "metadata": {
        "id": "DEYzeTV-NCaX"
      }
    },
    {
      "cell_type": "code",
      "source": [
        "# visualization with data augmentation\n",
        "# create the class object\n",
        "datagen = ImageDataGenerator(rotation_range=50, # rotation\n",
        "                             # width_shift_range=0.2, # horizontal shift\n",
        "                             # height_shift_range=0.2, # vertical shift\n",
        "                              zoom_range=0.2, # zoom\n",
        "                            #  brightness_range=[0.2,1.2], # brightness\n",
        "                              rescale=1./255,)\n",
        "# fit the generator\n",
        "datagen.fit(x_train.reshape(x_train.shape[0], 28, 28, 1))\n",
        "# define number of rows & columns\n",
        "num_row = 2\n",
        "num_col = 8\n",
        "num= num_row*num_col\n",
        "# plot before\n",
        "print('BEFORE:\\n')\n",
        "# plot images\n",
        "fig1, axes1 = plt.subplots(num_row, num_col, figsize=(1.5*num_col,2*num_row))\n",
        "for i in range(num):\n",
        "     ax = axes1[i//num_col, i%num_col]\n",
        "     ax.imshow(x_train[i],cmap=plt.get_cmap('gray'))\n",
        "     ax.set_title('Label: {}'.format(y_train[i]))\n",
        "plt.tight_layout()\n",
        "plt.show()\n",
        "# plot after\n",
        "print('AFTER:\\n')\n",
        "fig2, axes2 = plt.subplots(num_row, num_col, figsize=(1.5*num_col,2*num_row))\n",
        "for X, Y in datagen.flow(x_train.reshape(x_train.shape[0], 28, 28, 1),\n",
        "                         y_train.reshape(y_train.shape[0], 1),\n",
        "                         batch_size=num,shuffle=False):\n",
        "     for i in range(0, num):\n",
        "          ax = axes2[i//num_col, i%num_col]\n",
        "          ax.imshow(X[i].reshape(28,28), cmap=plt.get_cmap('gray'))\n",
        "          ax.set_title('Label: {}'.format(int(Y[i])))\n",
        "     break\n",
        "plt.tight_layout()\n",
        "plt.show()"
      ],
      "metadata": {
        "colab": {
          "base_uri": "https://localhost:8080/",
          "height": 513
        },
        "id": "VvWzWtrhoQEm",
        "outputId": "f117d5ae-180f-4a32-e65a-5a17afa4f859"
      },
      "execution_count": null,
      "outputs": [
        {
          "output_type": "stream",
          "name": "stdout",
          "text": [
            "BEFORE:\n",
            "\n"
          ]
        },
        {
          "output_type": "display_data",
          "data": {
            "text/plain": [
              "<Figure size 864x288 with 16 Axes>"
            ],
            "image/png": "[encoded data removed]"
          },
          "metadata": {
            "needs_background": "light"
          }
        },
        {
          "output_type": "stream",
          "name": "stdout",
          "text": [
            "AFTER:\n",
            "\n"
          ]
        },
        {
          "output_type": "display_data",
          "data": {
            "text/plain": [
              "<Figure size 864x288 with 16 Axes>"
            ],
            "image/png": "[encoded data removed]"
          },
          "metadata": {
            "needs_background": "light"
          }
        }
      ]
    }
  ]
}