{
  "nbformat": 4,
  "nbformat_minor": 0,
  "metadata": {
    "colab": {
      "name": "Module 2 Example.ipynb",
      "provenance": [],
      "include_colab_link": true
    },
    "kernelspec": {
      "name": "python3",
      "display_name": "Python 3"
    },
    "language_info": {
      "name": "python"
    }
  },
  "cells": [
    {
      "cell_type": "markdown",
      "metadata": {
        "id": "view-in-github",
        "colab_type": "text"
      },
      "source": [
        "<a href=\"https://colab.research.google.com/github/Kate-Strydom/cse450/blob/main/Module_2_Example.ipynb\" target=\"_parent\"><img src=\"https://colab.research.google.com/assets/colab-badge.svg\" alt=\"Open In Colab\"/></a>"
      ]
    },
    {
      "cell_type": "markdown",
      "source": [
        "## Imports"
      ],
      "metadata": {
        "id": "k2VVGxVW6RwK"
      }
    },
    {
      "cell_type": "code",
      "execution_count": null,
      "metadata": {
        "id": "22FPQZWH4YWR"
      },
      "outputs": [],
      "source": [
        "import pandas as pd\n",
        "from sklearn import preprocessing, metrics, ensemble, model_selection\n",
        "import numpy as np\n",
        "from matplotlib import pyplot as plt"
      ]
    },
    {
      "cell_type": "markdown",
      "source": [
        "# Data preprocessing"
      ],
      "metadata": {
        "id": "Izzdjbam6URq"
      }
    },
    {
      "cell_type": "code",
      "source": [
        "data = pd.read_csv(\"https://raw.githubusercontent.com/byui-cse/cse450-course/master/data/bank.csv\")\n",
        "target = data.pop(\"y\")\n",
        "test_data = pd.read_csv(\"https://raw.githubusercontent.com/byui-cse/cse450-course/master/data/bank_holdout_test.csv\")"
      ],
      "metadata": {
        "id": "64OEL6ku4tqm"
      },
      "execution_count": null,
      "outputs": []
    },
    {
      "cell_type": "code",
      "source": [
        "for name, column in data.iteritems():\n",
        "  if column.dtype == 'object':\n",
        "    le = preprocessing.LabelEncoder()\n",
        "    le.fit(column)\n",
        "    print(name, le.classes_)\n",
        "    data[name] = le.transform(column)\n",
        "    test_data[name] = le.transform(test_data[name])"
      ],
      "metadata": {
        "colab": {
          "base_uri": "https://localhost:8080/"
        },
        "id": "b-Ed9Fc043Bz",
        "outputId": "f38a793f-ed4e-42cf-8f69-b756b5ef8bf6"
      },
      "execution_count": null,
      "outputs": [
        {
          "output_type": "stream",
          "name": "stdout",
          "text": [
            "job ['admin.' 'blue-collar' 'entrepreneur' 'housemaid' 'management' 'retired'\n",
            " 'self-employed' 'services' 'student' 'technician' 'unemployed' 'unknown']\n",
            "marital ['divorced' 'married' 'single' 'unknown']\n",
            "education ['basic.4y' 'basic.6y' 'basic.9y' 'high.school' 'illiterate'\n",
            " 'professional.course' 'university.degree' 'unknown']\n",
            "default ['no' 'unknown' 'yes']\n",
            "housing ['no' 'unknown' 'yes']\n",
            "loan ['no' 'unknown' 'yes']\n",
            "contact ['cellular' 'telephone']\n",
            "month ['apr' 'aug' 'dec' 'jul' 'jun' 'mar' 'may' 'nov' 'oct' 'sep']\n",
            "day_of_week ['fri' 'mon' 'thu' 'tue' 'wed']\n",
            "poutcome ['failure' 'nonexistent' 'success']\n"
          ]
        }
      ]
    },
    {
      "cell_type": "code",
      "source": [
        "data = data[['job', 'marital']]"
      ],
      "metadata": {
        "id": "NX-Q1yhwQIcM"
      },
      "execution_count": null,
      "outputs": []
    },
    {
      "cell_type": "code",
      "source": [
        "data.head()"
      ],
      "metadata": {
        "id": "8SaN-Cd4QSOF",
        "outputId": "16cded28-991f-4c2f-c1da-d9402d026c94",
        "colab": {
          "base_uri": "https://localhost:8080/",
          "height": 206
        }
      },
      "execution_count": null,
      "outputs": [
        {
          "output_type": "execute_result",
          "data": {
            "text/plain": [
              "         job  marital\n",
              "0  housemaid  married\n",
              "1   services  married\n",
              "2   services  married\n",
              "3     admin.  married\n",
              "4   services  married"
            ],
            "text/html": [
              "\n",
              "  <div id=\"df-849327f1-89d1-48f9-ba05-bb3ed3882c94\">\n",
              "    <div class=\"colab-df-container\">\n",
              "      <div>\n",
              "<style scoped>\n",
              "    .dataframe tbody tr th:only-of-type {\n",
              "        vertical-align: middle;\n",
              "    }\n",
              "\n",
              "    .dataframe tbody tr th {\n",
              "        vertical-align: top;\n",
              "    }\n",
              "\n",
              "    .dataframe thead th {\n",
              "        text-align: right;\n",
              "    }\n",
              "</style>\n",
              "<table border=\"1\" class=\"dataframe\">\n",
              "  <thead>\n",
              "    <tr style=\"text-align: right;\">\n",
              "      <th></th>\n",
              "      <th>job</th>\n",
              "      <th>marital</th>\n",
              "    </tr>\n",
              "  </thead>\n",
              "  <tbody>\n",
              "    <tr>\n",
              "      <th>0</th>\n",
              "      <td>housemaid</td>\n",
              "      <td>married</td>\n",
              "    </tr>\n",
              "    <tr>\n",
              "      <th>1</th>\n",
              "      <td>services</td>\n",
              "      <td>married</td>\n",
              "    </tr>\n",
              "    <tr>\n",
              "      <th>2</th>\n",
              "      <td>services</td>\n",
              "      <td>married</td>\n",
              "    </tr>\n",
              "    <tr>\n",
              "      <th>3</th>\n",
              "      <td>admin.</td>\n",
              "      <td>married</td>\n",
              "    </tr>\n",
              "    <tr>\n",
              "      <th>4</th>\n",
              "      <td>services</td>\n",
              "      <td>married</td>\n",
              "    </tr>\n",
              "  </tbody>\n",
              "</table>\n",
              "</div>\n",
              "      <button class=\"colab-df-convert\" onclick=\"convertToInteractive('df-849327f1-89d1-48f9-ba05-bb3ed3882c94')\"\n",
              "              title=\"Convert this dataframe to an interactive table.\"\n",
              "              style=\"display:none;\">\n",
              "        \n",
              "  <svg xmlns=\"http://www.w3.org/2000/svg\" height=\"24px\"viewBox=\"0 0 24 24\"\n",
              "       width=\"24px\">\n",
              "    <path d=\"M0 0h24v24H0V0z\" fill=\"none\"/>\n",
              "    <path d=\"M18.56 5.44l.94 2.06.94-2.06 2.06-.94-2.06-.94-.94-2.06-.94 2.06-2.06.94zm-11 1L8.5 8.5l.94-2.06 2.06-.94-2.06-.94L8.5 2.5l-.94 2.06-2.06.94zm10 10l.94 2.06.94-2.06 2.06-.94-2.06-.94-.94-2.06-.94 2.06-2.06.94z\"/><path d=\"M17.41 7.96l-1.37-1.37c-.4-.4-.92-.59-1.43-.59-.52 0-1.04.2-1.43.59L10.3 9.45l-7.72 7.72c-.78.78-.78 2.05 0 2.83L4 21.41c.39.39.9.59 1.41.59.51 0 1.02-.2 1.41-.59l7.78-7.78 2.81-2.81c.8-.78.8-2.07 0-2.86zM5.41 20L4 18.59l7.72-7.72 1.47 1.35L5.41 20z\"/>\n",
              "  </svg>\n",
              "      </button>\n",
              "      \n",
              "  <style>\n",
              "    .colab-df-container {\n",
              "      display:flex;\n",
              "      flex-wrap:wrap;\n",
              "      gap: 12px;\n",
              "    }\n",
              "\n",
              "    .colab-df-convert {\n",
              "      background-color: #E8F0FE;\n",
              "      border: none;\n",
              "      border-radius: 50%;\n",
              "      cursor: pointer;\n",
              "      display: none;\n",
              "      fill: #1967D2;\n",
              "      height: 32px;\n",
              "      padding: 0 0 0 0;\n",
              "      width: 32px;\n",
              "    }\n",
              "\n",
              "    .colab-df-convert:hover {\n",
              "      background-color: #E2EBFA;\n",
              "      box-shadow: 0px 1px 2px rgba(60, 64, 67, 0.3), 0px 1px 3px 1px rgba(60, 64, 67, 0.15);\n",
              "      fill: #174EA6;\n",
              "    }\n",
              "\n",
              "    [theme=dark] .colab-df-convert {\n",
              "      background-color: #3B4455;\n",
              "      fill: #D2E3FC;\n",
              "    }\n",
              "\n",
              "    [theme=dark] .colab-df-convert:hover {\n",
              "      background-color: #434B5C;\n",
              "      box-shadow: 0px 1px 3px 1px rgba(0, 0, 0, 0.15);\n",
              "      filter: drop-shadow(0px 1px 2px rgba(0, 0, 0, 0.3));\n",
              "      fill: #FFFFFF;\n",
              "    }\n",
              "  </style>\n",
              "\n",
              "      <script>\n",
              "        const buttonEl =\n",
              "          document.querySelector('#df-849327f1-89d1-48f9-ba05-bb3ed3882c94 button.colab-df-convert');\n",
              "        buttonEl.style.display =\n",
              "          google.colab.kernel.accessAllowed ? 'block' : 'none';\n",
              "\n",
              "        async function convertToInteractive(key) {\n",
              "          const element = document.querySelector('#df-849327f1-89d1-48f9-ba05-bb3ed3882c94');\n",
              "          const dataTable =\n",
              "            await google.colab.kernel.invokeFunction('convertToInteractive',\n",
              "                                                     [key], {});\n",
              "          if (!dataTable) return;\n",
              "\n",
              "          const docLinkHtml = 'Like what you see? Visit the ' +\n",
              "            '<a target=\"_blank\" href=https://colab.research.google.com/notebooks/data_table.ipynb>data table notebook</a>'\n",
              "            + ' to learn more about interactive tables.';\n",
              "          element.innerHTML = '';\n",
              "          dataTable['output_type'] = 'display_data';\n",
              "          await google.colab.output.renderOutput(dataTable, element);\n",
              "          const docLink = document.createElement('div');\n",
              "          docLink.innerHTML = docLinkHtml;\n",
              "          element.appendChild(docLink);\n",
              "        }\n",
              "      </script>\n",
              "    </div>\n",
              "  </div>\n",
              "  "
            ]
          },
          "metadata": {},
          "execution_count": 6
        }
      ]
    },
    {
      "cell_type": "code",
      "source": [
        "le = preprocessing.LabelEncoder()\n",
        "le.fit(target)\n",
        "target = pd.DataFrame(le.transform(target), columns=['y'])"
      ],
      "metadata": {
        "id": "7ZFHIayN7FJn"
      },
      "execution_count": null,
      "outputs": []
    },
    {
      "cell_type": "code",
      "source": [
        "print(data.head())\n",
        "print(test_data.head())\n",
        "print(target.head())"
      ],
      "metadata": {
        "colab": {
          "base_uri": "https://localhost:8080/"
        },
        "id": "-j_J7l0R45Mn",
        "outputId": "baab74e4-e966-4e4b-ac7d-b20c9f657b28"
      },
      "execution_count": null,
      "outputs": [
        {
          "output_type": "stream",
          "name": "stdout",
          "text": [
            "   age  job  marital  education  default  housing  loan  contact  month  \\\n",
            "0   56    3        1          0        0        0     0        1      6   \n",
            "1   57    7        1          3        1        0     0        1      6   \n",
            "2   37    7        1          3        0        2     0        1      6   \n",
            "3   40    0        1          1        0        0     0        1      6   \n",
            "4   56    7        1          3        0        0     2        1      6   \n",
            "\n",
            "   day_of_week  campaign  pdays  previous  poutcome  emp.var.rate  \\\n",
            "0            1         1    999         0         1           1.1   \n",
            "1            1         1    999         0         1           1.1   \n",
            "2            1         1    999         0         1           1.1   \n",
            "3            1         1    999         0         1           1.1   \n",
            "4            1         1    999         0         1           1.1   \n",
            "\n",
            "   cons.price.idx  cons.conf.idx  euribor3m  nr.employed  \n",
            "0          93.994          -36.4      4.857       5191.0  \n",
            "1          93.994          -36.4      4.857       5191.0  \n",
            "2          93.994          -36.4      4.857       5191.0  \n",
            "3          93.994          -36.4      4.857       5191.0  \n",
            "4          93.994          -36.4      4.857       5191.0  \n",
            "   age  job  marital  education  default  housing  loan  contact  month  \\\n",
            "0   30    1        1          2        0        2     0        0      6   \n",
            "1   39    7        2          3        0        0     0        1      6   \n",
            "2   25    7        1          3        0        2     0        1      4   \n",
            "3   38    7        1          2        0        1     1        1      4   \n",
            "4   47    0        1          6        0        2     0        0      7   \n",
            "\n",
            "   day_of_week  campaign  pdays  previous  poutcome  emp.var.rate  \\\n",
            "0            0         2    999         0         1          -1.8   \n",
            "1            0         4    999         0         1           1.1   \n",
            "2            4         1    999         0         1           1.4   \n",
            "3            0         3    999         0         1           1.4   \n",
            "4            1         1    999         0         1          -0.1   \n",
            "\n",
            "   cons.price.idx  cons.conf.idx  euribor3m  nr.employed  \n",
            "0          92.893          -46.2      1.313       5099.1  \n",
            "1          93.994          -36.4      4.855       5191.0  \n",
            "2          94.465          -41.8      4.962       5228.1  \n",
            "3          94.465          -41.8      4.959       5228.1  \n",
            "4          93.200          -42.0      4.191       5195.8  \n",
            "   y\n",
            "0  0\n",
            "1  0\n",
            "2  0\n",
            "3  0\n",
            "4  0\n"
          ]
        }
      ]
    },
    {
      "cell_type": "markdown",
      "source": [
        "## Data visualization"
      ],
      "metadata": {
        "id": "qFwSOp2O6nRU"
      }
    },
    {
      "cell_type": "code",
      "source": [
        "target.value_counts().plot.bar()"
      ],
      "metadata": {
        "colab": {
          "base_uri": "https://localhost:8080/",
          "height": 304
        },
        "id": "DwRPoogM5UQx",
        "outputId": "3d1dc95e-c136-4b3a-9e7f-25e2232d884a"
      },
      "execution_count": null,
      "outputs": [
        {
          "output_type": "execute_result",
          "data": {
            "text/plain": [
              "<matplotlib.axes._subplots.AxesSubplot at 0x7fb6722d5910>"
            ]
          },
          "metadata": {},
          "execution_count": 80
        },
        {
          "output_type": "display_data",
          "data": {
            "text/plain": [
              "<Figure size 432x288 with 1 Axes>"
            ],
            "image/png": "[encoded data removed]"
          },
          "metadata": {
            "needs_background": "light"
          }
        }
      ]
    },
    {
      "cell_type": "markdown",
      "source": [
        "This is your baseline accuracy that you should do better than"
      ],
      "metadata": {
        "id": "Ez-pr5fR7q_u"
      }
    },
    {
      "cell_type": "code",
      "source": [
        "metrics.accuracy_score(target, np.zeros_like(target))"
      ],
      "metadata": {
        "colab": {
          "base_uri": "https://localhost:8080/"
        },
        "id": "0fAb6pWx6qbZ",
        "outputId": "5c07f8e0-f112-41cc-8efb-69ce15742eb0"
      },
      "execution_count": null,
      "outputs": [
        {
          "output_type": "execute_result",
          "data": {
            "text/plain": [
              "0.8873458288821987"
            ]
          },
          "metadata": {},
          "execution_count": 81
        }
      ]
    },
    {
      "cell_type": "markdown",
      "source": [
        "In the confusion matrix, we care most about the bottom right hand corner (out of all the yes's how many did we predict yes?"
      ],
      "metadata": {
        "id": "U-KUUmBd74XX"
      }
    },
    {
      "cell_type": "code",
      "source": [
        "metrics.confusion_matrix(target, np.zeros_like(target))"
      ],
      "metadata": {
        "colab": {
          "base_uri": "https://localhost:8080/"
        },
        "id": "_RAdXcnC7l_M",
        "outputId": "8ad191a4-a9a6-4eee-82f5-c9b4a80fc287"
      },
      "execution_count": null,
      "outputs": [
        {
          "output_type": "execute_result",
          "data": {
            "text/plain": [
              "array([[36548,     0],\n",
              "       [ 4640,     0]])"
            ]
          },
          "metadata": {},
          "execution_count": 82
        }
      ]
    },
    {
      "cell_type": "markdown",
      "source": [
        "## Naive Model"
      ],
      "metadata": {
        "id": "lp08ixn28E1P"
      }
    },
    {
      "cell_type": "code",
      "source": [
        "X_train, X_test, y_train, y_test = model_selection.train_test_split(data, target)"
      ],
      "metadata": {
        "id": "vtgN3K818XBs"
      },
      "execution_count": null,
      "outputs": []
    },
    {
      "cell_type": "code",
      "source": [
        "clf = ensemble.RandomForestClassifier()\n",
        "clf.fit(X_train, y_train.y)"
      ],
      "metadata": {
        "colab": {
          "base_uri": "https://localhost:8080/"
        },
        "id": "y9SVyz7f70Ss",
        "outputId": "57093d0e-e737-4dfd-9afa-b4cfc4298a32"
      },
      "execution_count": null,
      "outputs": [
        {
          "output_type": "execute_result",
          "data": {
            "text/plain": [
              "RandomForestClassifier()"
            ]
          },
          "metadata": {},
          "execution_count": 84
        }
      ]
    },
    {
      "cell_type": "code",
      "source": [
        "print(metrics.accuracy_score(y_train, clf.predict(X_train)), metrics.accuracy_score(y_test, clf.predict(X_test)))"
      ],
      "metadata": {
        "colab": {
          "base_uri": "https://localhost:8080/"
        },
        "id": "K_DBZ4PG8lrM",
        "outputId": "ce93f415-3a3c-4a43-f60d-557b1b2f6c70"
      },
      "execution_count": null,
      "outputs": [
        {
          "output_type": "stream",
          "name": "stdout",
          "text": [
            "0.994917613544398 0.9011362532776537\n"
          ]
        }
      ]
    },
    {
      "cell_type": "markdown",
      "source": [
        "We can see a generalization error problem - it is overfitting"
      ],
      "metadata": {
        "id": "ck566ReH91Zb"
      }
    },
    {
      "cell_type": "code",
      "source": [
        "metrics.plot_confusion_matrix(clf, X_test, y_test)"
      ],
      "metadata": {
        "colab": {
          "base_uri": "https://localhost:8080/",
          "height": 351
        },
        "id": "gNscPnx69YRb",
        "outputId": "c988a3f8-ec37-4359-e221-8949f59d5875"
      },
      "execution_count": null,
      "outputs": [
        {
          "output_type": "stream",
          "name": "stderr",
          "text": [
            "/usr/local/lib/python3.7/dist-packages/sklearn/utils/deprecation.py:87: FutureWarning: Function plot_confusion_matrix is deprecated; Function `plot_confusion_matrix` is deprecated in 1.0 and will be removed in 1.2. Use one of the class methods: ConfusionMatrixDisplay.from_predictions or ConfusionMatrixDisplay.from_estimator.\n",
            "  warnings.warn(msg, category=FutureWarning)\n"
          ]
        },
        {
          "output_type": "execute_result",
          "data": {
            "text/plain": [
              "<sklearn.metrics._plot.confusion_matrix.ConfusionMatrixDisplay at 0x7fb67234ca90>"
            ]
          },
          "metadata": {},
          "execution_count": 86
        },
        {
          "output_type": "display_data",
          "data": {
            "text/plain": [
              "<Figure size 432x288 with 2 Axes>"
            ],
            "image/png": "[encoded data removed]"
          },
          "metadata": {
            "needs_background": "light"
          }
        }
      ]
    },
    {
      "cell_type": "markdown",
      "source": [
        "We also see a class imbalance problem, most are predicted as no"
      ],
      "metadata": {
        "id": "7zJkeSgT948t"
      }
    },
    {
      "cell_type": "code",
      "source": [
        "out_csv = pd.DataFrame(clf.predict(test_data), columns=['predictions'])\n",
        "out_csv.to_csv('team4-module2-predictions.csv', index=False)"
      ],
      "metadata": {
        "id": "cp6CDhkS9o3A"
      },
      "execution_count": null,
      "outputs": []
    },
    {
      "cell_type": "markdown",
      "source": [
        "![image.png](data:image/png;base64,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)"
      ],
      "metadata": {
        "id": "1FGAkTPNA-xh"
      }
    },
    {
      "cell_type": "markdown",
      "source": [
        "![image.png](data:image/png;base64,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)"
      ],
      "metadata": {
        "id": "JDzL1iawBNN5"
      }
    },
    {
      "cell_type": "markdown",
      "source": [
        "Hahaha I thought that would fail. Oh well!"
      ],
      "metadata": {
        "id": "zMjfh4S3BYs4"
      }
    },
    {
      "cell_type": "markdown",
      "source": [
        "## How to improve?"
      ],
      "metadata": {
        "id": "1Shbg2bHBXAa"
      }
    },
    {
      "cell_type": "markdown",
      "source": [
        "### Let's balance our dataset."
      ],
      "metadata": {
        "id": "O3FsnaZSBfGr"
      }
    },
    {
      "cell_type": "code",
      "source": [
        "from imblearn.over_sampling import RandomOverSampler\n",
        "ro = RandomOverSampler()\n",
        "X_new, y_new = ro.fit_resample(X_train, y_train)"
      ],
      "metadata": {
        "id": "ZqmavxJgAGwl"
      },
      "execution_count": null,
      "outputs": []
    },
    {
      "cell_type": "code",
      "source": [
        "y_new.value_counts().plot.bar()"
      ],
      "metadata": {
        "colab": {
          "base_uri": "https://localhost:8080/",
          "height": 304
        },
        "id": "1ATTP0RGBtPl",
        "outputId": "fd91d3ca-06a6-404d-dcfb-d560a93891d7"
      },
      "execution_count": null,
      "outputs": [
        {
          "output_type": "execute_result",
          "data": {
            "text/plain": [
              "<matplotlib.axes._subplots.AxesSubplot at 0x7fb671e1d850>"
            ]
          },
          "metadata": {},
          "execution_count": 92
        },
        {
          "output_type": "display_data",
          "data": {
            "text/plain": [
              "<Figure size 432x288 with 1 Axes>"
            ],
            "image/png": "[encoded data removed]"
          },
          "metadata": {
            "needs_background": "light"
          }
        }
      ]
    },
    {
      "cell_type": "code",
      "source": [
        "clf = ensemble.RandomForestClassifier()\n",
        "clf.fit(X_new, y_new.y)"
      ],
      "metadata": {
        "colab": {
          "base_uri": "https://localhost:8080/"
        },
        "id": "QmX9g2NoB5nR",
        "outputId": "5fc4def6-84b0-4dee-c374-6fe3763578a8"
      },
      "execution_count": null,
      "outputs": [
        {
          "output_type": "execute_result",
          "data": {
            "text/plain": [
              "RandomForestClassifier()"
            ]
          },
          "metadata": {},
          "execution_count": 94
        }
      ]
    },
    {
      "cell_type": "code",
      "source": [
        "print(metrics.accuracy_score(y_train, clf.predict(X_train)), metrics.accuracy_score(y_test, clf.predict(X_test)))"
      ],
      "metadata": {
        "colab": {
          "base_uri": "https://localhost:8080/"
        },
        "id": "N5xSxGARCCL1",
        "outputId": "f5840aac-06a7-4223-ba98-b7eef318a365"
      },
      "execution_count": null,
      "outputs": [
        {
          "output_type": "stream",
          "name": "stdout",
          "text": [
            "0.9940759444498397 0.8903564144896572\n"
          ]
        }
      ]
    },
    {
      "cell_type": "markdown",
      "source": [
        "Generalization error looks just as bad"
      ],
      "metadata": {
        "id": "hg-AsH1iCKhF"
      }
    },
    {
      "cell_type": "code",
      "source": [
        "metrics.plot_confusion_matrix(clf, X_test, y_test)"
      ],
      "metadata": {
        "colab": {
          "base_uri": "https://localhost:8080/",
          "height": 351
        },
        "id": "Rwg9-DtpCIuM",
        "outputId": "77a504f8-fae2-4c26-96cc-377a528d6334"
      },
      "execution_count": null,
      "outputs": [
        {
          "output_type": "stream",
          "name": "stderr",
          "text": [
            "/usr/local/lib/python3.7/dist-packages/sklearn/utils/deprecation.py:87: FutureWarning: Function plot_confusion_matrix is deprecated; Function `plot_confusion_matrix` is deprecated in 1.0 and will be removed in 1.2. Use one of the class methods: ConfusionMatrixDisplay.from_predictions or ConfusionMatrixDisplay.from_estimator.\n",
            "  warnings.warn(msg, category=FutureWarning)\n"
          ]
        },
        {
          "output_type": "execute_result",
          "data": {
            "text/plain": [
              "<sklearn.metrics._plot.confusion_matrix.ConfusionMatrixDisplay at 0x7fb671d860d0>"
            ]
          },
          "metadata": {},
          "execution_count": 96
        },
        {
          "output_type": "display_data",
          "data": {
            "text/plain": [
              "<Figure size 432x288 with 2 Axes>"
            ],
            "image/png": "[encoded data removed]"
          },
          "metadata": {
            "needs_background": "light"
          }
        }
      ]
    },
    {
      "cell_type": "markdown",
      "source": [
        "This looks better - out of all the yes's we now have more predicted yes's."
      ],
      "metadata": {
        "id": "cDRmS8jyCQow"
      }
    },
    {
      "cell_type": "code",
      "source": [
        "out_csv = pd.DataFrame(clf.predict(test_data), columns=['predictions'])\n",
        "out_csv.to_csv('team4-module2-predictions.csv', index=False)"
      ],
      "metadata": {
        "id": "gY4CoOEjCPBf"
      },
      "execution_count": null,
      "outputs": []
    },
    {
      "cell_type": "markdown",
      "source": [
        "![image.png](data:image/png;base64,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)"
      ],
      "metadata": {
        "id": "T6oyRHBoCnjo"
      }
    },
    {
      "cell_type": "markdown",
      "source": [
        "![image.png](data:image/png;base64,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)"
      ],
      "metadata": {
        "id": "gaWYhgApCt2q"
      }
    },
    {
      "cell_type": "markdown",
      "source": [
        "We made more correct calls (16)! But also more incorrect calls (40), so we ended up around the same (about $400 more)."
      ],
      "metadata": {
        "id": "-D1QLSsPC2uh"
      }
    },
    {
      "cell_type": "markdown",
      "source": [
        "### Now, lets look at overfitting"
      ],
      "metadata": {
        "id": "qW_66i9YDHCx"
      }
    },
    {
      "cell_type": "markdown",
      "source": [
        "I'm going to limit how powerful my random forest can be"
      ],
      "metadata": {
        "id": "msMd8yaDDX83"
      }
    },
    {
      "cell_type": "code",
      "source": [
        "# You can play with changing the number of estimators, for me it didn't make much of a difference\n",
        "# (again, what I care about is bottom right and generalization gap)\n",
        "clf = ensemble.RandomForestClassifier(n_estimators=25)\n",
        "clf.fit(X_new, y_new.y)\n",
        "print(metrics.accuracy_score(y_train, clf.predict(X_train)), metrics.accuracy_score(y_test, clf.predict(X_test)))\n",
        "metrics.plot_confusion_matrix(clf, X_test, y_test)"
      ],
      "metadata": {
        "colab": {
          "base_uri": "https://localhost:8080/",
          "height": 368
        },
        "id": "LH2EUdcSCZGp",
        "outputId": "5a538e8f-318e-4296-b1a3-a7d19f9527bd"
      },
      "execution_count": null,
      "outputs": [
        {
          "output_type": "stream",
          "name": "stdout",
          "text": [
            "0.9937522255673173 0.8868602505584151\n"
          ]
        },
        {
          "output_type": "stream",
          "name": "stderr",
          "text": [
            "/usr/local/lib/python3.7/dist-packages/sklearn/utils/deprecation.py:87: FutureWarning: Function plot_confusion_matrix is deprecated; Function `plot_confusion_matrix` is deprecated in 1.0 and will be removed in 1.2. Use one of the class methods: ConfusionMatrixDisplay.from_predictions or ConfusionMatrixDisplay.from_estimator.\n",
            "  warnings.warn(msg, category=FutureWarning)\n"
          ]
        },
        {
          "output_type": "execute_result",
          "data": {
            "text/plain": [
              "<sklearn.metrics._plot.confusion_matrix.ConfusionMatrixDisplay at 0x7fb6719a6a10>"
            ]
          },
          "metadata": {},
          "execution_count": 103
        },
        {
          "output_type": "display_data",
          "data": {
            "text/plain": [
              "<Figure size 432x288 with 2 Axes>"
            ],
            "image/png": "[encoded data removed]"
          },
          "metadata": {
            "needs_background": "light"
          }
        }
      ]
    },
    {
      "cell_type": "code",
      "source": [
        "# You can play with changing the max depth of the tree\n",
        "clf = ensemble.RandomForestClassifier(max_depth=10)\n",
        "clf.fit(X_new, y_new.y)\n",
        "print(metrics.accuracy_score(y_train, clf.predict(X_train)), metrics.accuracy_score(y_test, clf.predict(X_test)))\n",
        "metrics.plot_confusion_matrix(clf, X_test, y_test)"
      ],
      "metadata": {
        "colab": {
          "base_uri": "https://localhost:8080/",
          "height": 368
        },
        "id": "Kg7gSSVgDjl6",
        "outputId": "8212d264-b975-4228-f6e5-9b65ae214efa"
      },
      "execution_count": null,
      "outputs": [
        {
          "output_type": "stream",
          "name": "stdout",
          "text": [
            "0.8634230034637921 0.8570457414781004\n"
          ]
        },
        {
          "output_type": "stream",
          "name": "stderr",
          "text": [
            "/usr/local/lib/python3.7/dist-packages/sklearn/utils/deprecation.py:87: FutureWarning: Function plot_confusion_matrix is deprecated; Function `plot_confusion_matrix` is deprecated in 1.0 and will be removed in 1.2. Use one of the class methods: ConfusionMatrixDisplay.from_predictions or ConfusionMatrixDisplay.from_estimator.\n",
            "  warnings.warn(msg, category=FutureWarning)\n"
          ]
        },
        {
          "output_type": "execute_result",
          "data": {
            "text/plain": [
              "<sklearn.metrics._plot.confusion_matrix.ConfusionMatrixDisplay at 0x7fb671930590>"
            ]
          },
          "metadata": {},
          "execution_count": 104
        },
        {
          "output_type": "display_data",
          "data": {
            "text/plain": [
              "<Figure size 432x288 with 2 Axes>"
            ],
            "image/png": "[encoded data removed]"
          },
          "metadata": {
            "needs_background": "light"
          }
        }
      ]
    },
    {
      "cell_type": "markdown",
      "source": [
        "This one helped tremendously! Even though our train accuracy dropped, the generalizaiton gap is much smaller. And we called ~200 more customers who would have subscribed."
      ],
      "metadata": {
        "id": "9yrc4DdwEQdQ"
      }
    },
    {
      "cell_type": "markdown",
      "source": [
        "You basically want to bring down the power of your model until it stops overfitting on training data"
      ],
      "metadata": {
        "id": "kn1UqWraExhL"
      }
    },
    {
      "cell_type": "code",
      "source": [
        "# You can play with changing the max leaf nodes used\n",
        "clf = ensemble.RandomForestClassifier(max_leaf_nodes=10)\n",
        "clf.fit(X_new, y_new.y)\n",
        "print(metrics.accuracy_score(y_train, clf.predict(X_train)), metrics.accuracy_score(y_test, clf.predict(X_test)))\n",
        "metrics.plot_confusion_matrix(clf, X_test, y_test)"
      ],
      "metadata": {
        "colab": {
          "base_uri": "https://localhost:8080/",
          "height": 368
        },
        "id": "Fzq3zqCKEKIQ",
        "outputId": "ff41b3a7-8d4c-44a7-818f-68aecb21f083"
      },
      "execution_count": null,
      "outputs": [
        {
          "output_type": "stream",
          "name": "stdout",
          "text": [
            "0.8356802952316209 0.8367485675439449\n"
          ]
        },
        {
          "output_type": "stream",
          "name": "stderr",
          "text": [
            "/usr/local/lib/python3.7/dist-packages/sklearn/utils/deprecation.py:87: FutureWarning: Function plot_confusion_matrix is deprecated; Function `plot_confusion_matrix` is deprecated in 1.0 and will be removed in 1.2. Use one of the class methods: ConfusionMatrixDisplay.from_predictions or ConfusionMatrixDisplay.from_estimator.\n",
            "  warnings.warn(msg, category=FutureWarning)\n"
          ]
        },
        {
          "output_type": "execute_result",
          "data": {
            "text/plain": [
              "<sklearn.metrics._plot.confusion_matrix.ConfusionMatrixDisplay at 0x7fb6716db1d0>"
            ]
          },
          "metadata": {},
          "execution_count": 108
        },
        {
          "output_type": "display_data",
          "data": {
            "text/plain": [
              "<Figure size 432x288 with 2 Axes>"
            ],
            "image/png": "[encoded data removed]"
          },
          "metadata": {
            "needs_background": "light"
          }
        }
      ]
    },
    {
      "cell_type": "markdown",
      "source": [
        "Again, this helps"
      ],
      "metadata": {
        "id": "8Ck0V-J5FJqJ"
      }
    },
    {
      "cell_type": "code",
      "source": [
        "# You can play with the class weight (making 1 more important)\n",
        "clf = ensemble.RandomForestClassifier(class_weight={0:1, 1:20})\n",
        "clf.fit(X_new, y_new.y)\n",
        "print(metrics.accuracy_score(y_train, clf.predict(X_train)), metrics.accuracy_score(y_test, clf.predict(X_test)))\n",
        "metrics.plot_confusion_matrix(clf, X_test, y_test)"
      ],
      "metadata": {
        "colab": {
          "base_uri": "https://localhost:8080/",
          "height": 368
        },
        "id": "oKLKyoIjEmAK",
        "outputId": "c9273c5b-cc45-48e8-80b3-26a114790274"
      },
      "execution_count": null,
      "outputs": [
        {
          "output_type": "stream",
          "name": "stdout",
          "text": [
            "0.9940759444498397 0.8902592988249004\n"
          ]
        },
        {
          "output_type": "stream",
          "name": "stderr",
          "text": [
            "/usr/local/lib/python3.7/dist-packages/sklearn/utils/deprecation.py:87: FutureWarning: Function plot_confusion_matrix is deprecated; Function `plot_confusion_matrix` is deprecated in 1.0 and will be removed in 1.2. Use one of the class methods: ConfusionMatrixDisplay.from_predictions or ConfusionMatrixDisplay.from_estimator.\n",
            "  warnings.warn(msg, category=FutureWarning)\n"
          ]
        },
        {
          "output_type": "execute_result",
          "data": {
            "text/plain": [
              "<sklearn.metrics._plot.confusion_matrix.ConfusionMatrixDisplay at 0x7fb6713f9350>"
            ]
          },
          "metadata": {},
          "execution_count": 111
        },
        {
          "output_type": "display_data",
          "data": {
            "text/plain": [
              "<Figure size 432x288 with 2 Axes>"
            ],
            "image/png": "[encoded data removed]"
          },
          "metadata": {
            "needs_background": "light"
          }
        }
      ]
    },
    {
      "cell_type": "markdown",
      "source": [
        "I'll be honest, this didn't work as well as I would have thought haha"
      ],
      "metadata": {
        "id": "FKB3DIVYFmYc"
      }
    },
    {
      "cell_type": "markdown",
      "source": [
        "#### Final model to check"
      ],
      "metadata": {
        "id": "SztMsmCTFqEl"
      }
    },
    {
      "cell_type": "code",
      "source": [
        "# You can play with changing the max depth of the tree\n",
        "clf = ensemble.RandomForestClassifier(max_depth=15, max_leaf_nodes=20)\n",
        "clf.fit(X_new, y_new.y)\n",
        "print(metrics.accuracy_score(y_train, clf.predict(X_train)), metrics.accuracy_score(y_test, clf.predict(X_test)))\n",
        "metrics.plot_confusion_matrix(clf, X_test, y_test)"
      ],
      "metadata": {
        "colab": {
          "base_uri": "https://localhost:8080/",
          "height": 369
        },
        "id": "sxeEWOFnFYnw",
        "outputId": "41a66d17-f6ac-478f-8e3c-0688660a1300"
      },
      "execution_count": null,
      "outputs": [
        {
          "output_type": "stream",
          "name": "stdout",
          "text": [
            "0.8496002071800848 0.8517043799164805\n"
          ]
        },
        {
          "output_type": "stream",
          "name": "stderr",
          "text": [
            "/usr/local/lib/python3.7/dist-packages/sklearn/utils/deprecation.py:87: FutureWarning: Function plot_confusion_matrix is deprecated; Function `plot_confusion_matrix` is deprecated in 1.0 and will be removed in 1.2. Use one of the class methods: ConfusionMatrixDisplay.from_predictions or ConfusionMatrixDisplay.from_estimator.\n",
            "  warnings.warn(msg, category=FutureWarning)\n"
          ]
        },
        {
          "output_type": "execute_result",
          "data": {
            "text/plain": [
              "<sklearn.metrics._plot.confusion_matrix.ConfusionMatrixDisplay at 0x7fb671913f10>"
            ]
          },
          "metadata": {},
          "execution_count": 114
        },
        {
          "output_type": "display_data",
          "data": {
            "text/plain": [
              "<Figure size 432x288 with 2 Axes>"
            ],
            "image/png": "[encoded data removed]"
          },
          "metadata": {
            "needs_background": "light"
          }
        }
      ]
    },
    {
      "cell_type": "code",
      "source": [
        "out_csv = pd.DataFrame(clf.predict(test_data), columns=['predictions'])\n",
        "out_csv.to_csv('team4-module2-predictions.csv', index=False)"
      ],
      "metadata": {
        "id": "NPV5djWyFzbY"
      },
      "execution_count": null,
      "outputs": []
    },
    {
      "cell_type": "markdown",
      "source": [
        "![image.png](data:image/png;base64,iVBORw0KGgoAAAANSUhEUgAAAYsAAAEICAYAAACuxNj9AAAY30lEQVR4nO3de7hcdX3v8fcmASKgubGLmERCS7wAPSDkIbFeSo1CgkpSD1B9RFLIaY6VU7T10tBjT5BLC60F5ShoWpBAEY0oJodbzAE51FaQBBC5GgRiEgnZkHANt8g+f3y/070Y9541O+41M8l+v55nPbPWb13mNzswn1m/31rrB5IkSZIkSZIkSZIkSZIkSZIkdaybgP82wLrTgH9tYV00DOzU7gpoh3UTsBnYtd0VGcCfAj8q2eYm4AXg2cL0fyquVycpfu5XgOcLyx9tY73UBoaFqjAZeBfQCxzd5rr8tv4HsEdh+uA2HKOL7fP/teLn/iXx2WvLl7exXmqD7fE/YHW+E4BbgEuAuXXrLgEuAK4jfqH+O/B64EvEmcj9wNsK27+V+IX/JHAPrw6f+qaY+rOFXuDjwOrc/6vEF/dbga8Bb886PLkNn3EscDXQk/W+GphYV7ez8vNtAX63QX1qTgLuy+MtB/YprHsf8bd5CvhK3X79GQV8G3gGuB04KMs/C3y3btvzgS+XHK9oJ2AB8AvgCWAJMK6w/jvAhqzrzcABhXWD/feXtAN7EPgEcCjwMrBXYd0lwOO5bhRwI/AwETAjgDOBH+a2O+ex/gbYBXgP8eX35lzfTFhcDYwB3kh8sc8cYNv+NOoXGA/8V2A34LXEF+T36/b9JfFFOTI/S6P6zM7P+tbc/vPAf+S6PfNzH5PH+Utga4O6nUb83Wvbf4b4G+8M7A08l3Ug32sj8e/RyCPAe3P+k8SPgYlEM+PXgSsK255E/E12JULgzsK6wfz7S9qBvZP4otozl+8nvtxqLgH+ubD8F8Sv6Zrfp++X/ruIX6jFM+AriC9DaC4s3llYXkL8Iu5v2/7cRJwVPFmYzhhg24OJX8bFfU+v26ZRfa4D5hXW7ZTvvQ99Z2o1XcA6GodFcfudgEeJv2ftvf4s5z8A3DvAcYqKYXEfMKOwbm/i33xkP/uNIT736FwezL+/OojNUBpqc4EfEL8eAb7JbzZFPVaYf76f5T1y/g3AWqJztWYNMGEQ9dlQmN9SOHazTiG+8GrT32b5bsQv6jXA00Rzyxji13HN2kHUZx+iKagWSpuIUJhA39+hpneAYxcV179ChMsbcnkxcHzOHw9cVnKsevsAVxXqeh/wa+IMcgRwNtFE9TQRMtD34wGa//dXB+nvl4C0rV4DHEd8YdS+FHclvkQPAn46yOP9CphE/KipBcYbgZ/n/HPEl3bN6wdx7N5B1qXep4nmsGnEZz0YuINX9yUM5j3WEn0c/XUcTyH+DjVddcv9Ka7fiWgy+lUufx+4EDiQOLP43CDqWavrSUR/Q72PEU1q7yWCYjRxxlXWx6IO55mFhtIc4hfm/sSX58FEG/y/EU0pg3Ur8ev7c0R7++HEFTnfyvV3Ah8iAmM/Xt2MU+Yx4gt0l22oF0Sb/PPEL+txwMJtPE7N14BT6esMHg0cm/PXZPmHiB94p1AejIcWtv8U8CJ9TVMvAFcSZ30/IfpWBlvXs+jrgO8mAgLi7/Ii0fG9G/B3gzy2OpRhoaE0F/gG8eWzoTB9hbguf7Bnsi8R4TCLaNa6gAid+3P9ebnNY0TTymAu57yRuLpqA31NZv35Cq++32BVln+JOJN6nPgSvn4Q792fq4BziCB8Grib+NzkexxLNO88QZxp9Pervmgp8CfEr/qPEcHxcmH9YqJ/YLBNUBDNZcuI5sZniM8/LdddSjTNrSf6Qm7p7wCSpO3DG4mztte1uyKSpM60E3FmdHG7KyJJ6ky7E81p91DeSS5JkiRJ0hDaIa99Hj9+fO/kyZPbXQ1J2q6sWrXqceJS6N+wQ96UN3nyZFauXNnuakjSdqWrq2vNQOu8z0KSVMqwkCSVMiwkSaUMC0lSKcNCklTKsJAklTIsJEmlDAtJUinDQpJUaoe8g7tTTD1zBY8/+1K7qyFpO7DnHruw8vPva3c1BuSZRYUMCknN6vTvC8NCklTKsJAklTIsJEmldsgO7od6nuNPvv7jdldDkgalk7+3PLOQJJXaIUfKO/TQQ3s7YfCjyQuuaXcVJG1HHjn7/W19/66urlXA1P7WVX1m8ZfAPcDdwBXAKGBf4FbgQeDbwC657a65/GCuL46LemqWPwAcWXGdJUl1qgyLCcApREodCIwAPgycA5wH7AdsBubl9vNyeb9cf06W75/7HQDMBC7IY0mSWqTqM4uRwGvydTfgUeA9wJW5fjEwJ+dn5zK5fgbRTDYb+BbwIvAwcYZxWMX1liQVVBkW64EvAr8kQuIpYBXwJLA1t1lHnIGQr2tzfmtuP76uvH6fovnASmBlT0/PkH0ISVK1YTGWOCvYF3gDsDvRjFSVRUST19Tu7u4K30aShp8qw+K9RLNRD/Ay8D3gHcAY+u7vmEicgZCvk3J+JDAaeKKuvH4fSVILVBkWvwSmE30VXUQfxL3AD4Fjcpu5wNKcX5bL5Pobgd4s/zBxtdS+wBTgJxXWW5JUp8o7uG8lOqpvJ/og7iCaiq4hOqzPzLKLcvuLgMuIDuxNREBAXHq7hAiarcDJwK8rrLckqU7Vj/tYmFPRQ/R/NdMLwLEDHOesnCRJbeDjPiRJpQwLSVIpw0KSVMqwkCSVMiwkSaUMC0lSKcNCklTKsJAklTIsJEmlDAtJUinDQpJUyrCQJJUyLCRJpQwLSVIpw0KSVKrKsHgzcGdhehr4FDAOWAGsztexuX0XcD4x+NFdwCGFY83N7VfTN5qeJKlFqgyLB4CDczoU2AJcBSwAbiCGR70hlwFmZdkUYD5wYZaPIwZQmkYMmrSQvoCRJLVAq5qhZgC/ANYAs4HFWb4YmJPzs4FLiXG3bwHGAHsDRxJnIJuAzTk/s0X1liRR/bCqNR8Grsj5vYBHc35DLgNMANYW9lmXZQOV15ufEz09PUNSaUlSaMWZxS7A0cB3+lnXm9NQWARMBaZ2d3cP0SElSdCasJgF3A48lsuPEc1L5OvGnF8PTCrsNzHLBiqXJLVIK8LiI/Q1QQEso++KprnA0kL5CcRVUdOBp4jmquXAEUSn9ticX155rSVJ/6nqPovdgfcB/71QdjawBJhHdHgfl+XXAkcRl85uAU7M8k3AGcBtuXx6lkmSWqTqsHgOGF9X9gRxdVS9XuDkAY5zcU6SpDbwDm5JUinDQpJUyrCQJJUyLCRJpQwLSVIpw0KSVMqwkCSVMiwkSaUMC0lSKcNCklTKsJAklTIsJEmlDAtJUinDQpJUyrCQJJUyLCRJpaoOizHAlcD9wH3A24FxwApgdb6OzW27gPOJkfLuAg4pHGdubr+aviFZJUktUnVYfBm4HngLcBARGAuAG4Ap+bogt52VZVOA+cCFWT4OWAhMAw7L+VrASJJaoMqwGA28G7gol18CngRmA4uzbDEwJ+dnA5cSw6veQpyV7A0cSZyBbAI25/zMCustSapTZVjsC/QA3wDuAP4F2B3YC3g0t9mQywATgLWF/ddl2UDl9eYDK4GVPT09Q/MJJElAtWExkuh3uBB4G/AcfU1ONb05DYVFwFRgand39xAdUpIE1YbFupxuzeUrifB4jGheIl835vx6YFJh/4lZNlC5JKlFqgyLDUTz0ZtzeQZwL7CMviua5gJLc34ZcAJxVdR04CmiuWo5cATRqT0255dXWG9JUp2RFR//L4DLgV2Ah4ATiYBaAswD1gDH5bbXAkcRl85uyW0hOrbPAG7L5dOzTJLUIlWHxZ1EP0K9Gf2U9QInD3Cci3OSJLWBd3BLkko1Exb/ALwO2Jm4ia4HOL7KSkmSOkszYXEE8DTwAeARYD/gs1VWSpLUWZoJi1q/xvuB7xBXKUmShpFmOrivJh4E+Dzw50A38EKVlZIkdZZmziwWAH9AXNX0MnEn9uwqKyVJ6iyNziw+VLLv94ayIpKkztUoLD7YYF0vhoUkDRuNwuLEBuskScNIo7D4q5J9zx3KikiSOlejsHhty2ohSepojcLiCy2rhSSpozVzn8Uo4gmxB+R8zUmV1EiS1HGauc/iMuD1xFjY/48YfOiZKislSeoszYTFfsDfEjfjLSYe+zGtykpJkjpLM2Hxcr4+CRwIjAZ+p8njPwL8jBjXYmWWjQNWAKvzdWyWdwHnE4Mf3UUMwVozN7dfTd8oe5KkFmkmLBYRX+ifJ4Y+vZd4bHmz/gg4mL5BkBYQjzqfkq8LsnxWlk0B5gMXZvk4YCFxNnNYztcCRpLUAs10cP9Lvt4M/O4QvOds4PCcXwzcBPx1ll9K3B1+CzAG2Du3XUHfUKorgJnAFUNQF0lSExqdWfwVcRVUvXnAp5o8fi/wA2AVcbYAsBfwaM5vyGWACcDawr7rsmyg8nrziaaulT09PU1WT5LUjEZnFh8FpvdTfhnxpfylJo7/TmA90cexgnjUeVFvTkNhUU50d3cP1TElSTQ+sxhJX+d20UtEZ3Qz1ufrRuAqos/hMaJ5iXzdWNh2UmHfiVk2ULkkqUUahcVO9DURFfVX1p/d6XtkyO7E8Kx3E53ktSua5gJLc34ZcAIRRNOJEfkeBZbnvmNzOiLLJEkt0qgZ6h+Ba4BPA7dn2aFZ/sUmjr0XcTZRe59vAtcDtwFLiL6PNcBxuc21wFHEpbNb6Hvq7SbgjNwP4HT6OrslSS3QKCwuBXqIL+cDib6Fe4D/BVzXxLEfAg7qp/wJYEY/5b3AyQMc6+KcJEltUHbp7HU0FwySpB1YMzflSZKGOcNCklSqUVh8Ml/f0YqKSJI6V6OwqF2N9L9bURFJUudq1MF9H/GU1zcQT4Gt6SKuXPovFdZLktRBGoXFR4hBj5YDR7emOpKkTlR26ewG4l6JXYA3ZdkD9P8YEEnSDqqZR5T/IXGD3iNEE9Qk4jEdN1dYL0lSB2kmLM4lnsf0QC6/iRhL4tCqKiVJ6izN3GexM31BAfDzLJMkDRPNnFmsJEbL+9dc/ih942lLkoaBZsLiz4kH/J2Sy/8GXFBZjSRJHaeZsHiR6Lc4t+K6SJI6lM+GkiSVMiwkSaUGExa7beN7jADuAK7O5X2BW4kR8b5N3PAHsGsuP5jrJxeOcWqWPwAcuY31kCRto2bC4g+Ae4H7c/kgBtfB/UniOVM15wDnAfsBm4nhVcnXzVl+Xm4HsD/wYeAAYGa+94hBvL8k6bfUTFicR/yafyKXfwq8u8njTwTeT1x6C3EH+HuAK3N5MTAn52fnMrl+Rm4/G/gW0dH+MHGGcViT7y9JGgLNNkOtrVv+dZP7fQn4HPBKLo8HngS25vI6YELOTyi8z1bgqdy+WF6/T9F84v6PlT09PU1WT5LUjGbCYi3RFNVL3Ln9GV7drDSQDwAbgVXbXLvBWQRMBaZ2d3e36C0laXho5j6LjwNfJn7Nrwd+QNykV+YdxKPNjwJGAa/L44zJ991KNFOtz+3XEw8pXJfrRxNNX7XymuI+kqQWaObM4nHiER97Ab8DHE9f/0UjpxJf7JOJDuob8zg/BI7JbeYCS3N+WS6T628kzmaW5f67EldSTQF+0sT7S5KGSDNnFt8gvrTrnbSN7/nXRIf1mcQltRdl+UXAZUQH9iYiIADuAZYQV2RtJc5qmu0zkSQNgWbC4urC/Cjgj4FfDfJ9bsoJ4CH6v5rpBeDYAfY/KydJUhs0ExbfrVu+AvhRBXWRJHWobXncxxSi70KSNEw0c2bxDNFn0ZWvG4h+B0nSMNFMWLy28lpIkjpao7A4pGTf24eyIpKkztUoLP6pwbpe4hlPkqRhoFFY/FHLaiFJ6mjN9FkAHEg8KnxUoezSoa+OJKkTNRMWC4HDibC4FphF3GdhWEjSMNHMfRbHEGNLbABOJAY/Gl1lpSRJnaWZsHieGI9iK/Hk2I28+imwkqQdXDPNUCuJx4r/MzE2xbPAj6uslCSpszQKi68C3wQ+kctfA64nzi7uqrhekqQO0igsfg58EdibeET4FcQjxSVJw0yjPosvA28H/pAY7Ohi4H7i6qg3VV81SVKnaKaDew1wDvA24CPAHJobg3sUMaLdT4kBjL6Q5fsCtxKDHH0b2CXLd83lB3P95MKxTs3yB4Ajm3hvSdIQaiYsRgIfBC4HriO+sD/UxH4vEo8EOQg4GJgJTCeC5zxgP2AzMC+3n5fL++X6c7J8f2LUvAPyGBcAI5p4f0nSEGkUFu8jmp7WAX8GXAP8HvHFvbTBfjW9xJVTADvnVHum1JVZvpg4UwGYncvk+hnEY9FnE8Owvgg8TJxh9DfSniSpIo3C4lTgP4C3AkcTV0Y9N8jjjwDuJO7NWAH8AniSuGcDIogm5PwEYG3ObwWeAsbXldfvUzSfuMx3ZU9PzyCrKUlqpNHVUEPxVNlfE01QY4CrgLcMwTEHsignuru7eyt8H0kadrZlWNVt8STwQ+LqqjH0hdREYH3Or6fvzvCRxCNFnqgrr99HktQCVYZFNxEMAK8h+kDuI0LjmCyfS1//x7JcJtffSPRxLCP6SXYlrqSaQlxlJUlqkWYfUb4t9iY6rEcQobQEuBq4l+iwPpO4ye+i3P4i4DKiA3sTERAQl90uyf22AicTzVuSpBapMizuIu7NqPcQ/V/N9AJw7ADHOisnSVIbtKrPQpK0HTMsJEmlDAtJUinDQpJUyrCQJJUyLCRJpQwLSVIpw0KSVMqwkCSVMiwkSaUMC0lSKcNCklTKsJAklTIsJEmlDAtJUinDQpJUqsqwmEQMoXovMdrdJ7N8HLACWJ2vY7O8CzifGCnvLuCQwrHm5var6Rt6VZLUIlWGxVbg08D+wHRiONT9gQXADcRY2jfkMsCsLJsCzAcuzPJxwEJgGjHC3kL6AkaS1AJVhsWjwO05/wxwHzABmE2MzU2+zsn52cClQC9wCzCGGMf7SOIMZBOwOednVlhvSVKdKsfgLppMjMd9K7AXESQAG3IZIkjWFvZZl2UDldebnxM9PT1DVW9JEq0Jiz2A7wKfAp6uW9eb01BYlBPd3d1DdUxJEtVfDbUzERSXA9/LsseI5iXydWPOryc6xWsmZtlA5ZKkFqkyLLqAi4i+inML5cvou6JpLrC0UH5C7jcdeIporloOHEF0ao/N+eUV1luSVKfKZqh3AB8DfgbcmWV/A5wNLAHmAWuA43LdtcBRxKWzW4ATs3wTcAZwWy6fnmWSpBapMix+RJwl9GdGP2W9xOW1/bk4J0lSG3gHtySplGEhSSplWEiSShkWkqRShoUkqZRhIUkqZVhIkkoZFpKkUoaFJKmUYSFJKmVYSJJKGRaSpFKGhSSplGEhSSplWEiSSlUZFhcTQ6beXSgbB6wAVufr2CzvAs4nBj66CziksM/c3H41fSPsSZJaqMqwuASYWVe2ALgBmJKvC7J8VpZNAeYDF2b5OGAhMA04LOfHIklqqSrD4mZ+c/jT2cDinF8MzCmUX0qMlncLMAbYGziSOAPZBGzO+foAkiRVrMphVfuzF/Bozm/IZYAJwNrCduuybKDy/szPiZ6eniGqriQJWh8WRb05DZVFOdHd3T2Ux5WkYa/VV0M9RjQvka8bc349MKmw3cQsG6hcktRCrQ6LZfRd0TQXWFooP4G4Kmo68BTRXLUcOILo1B6b88tbWF9JEtU2Q10BHA7sSfQ1LATOBpYA84A1wHG57bXAUcSls1uAE7N8E3AGcFsun85vdppLkipWZVh8ZIDyGf2U9QInD7D9xTlJktrEO7glSaUMC0lSKcNCklTKsJAklTIsJEmlDAtJUinDQpJUyrCQJJUyLCRJpQwLSVIpw0KSVMqwkCSVMiwkSaUMC0lSKcNCklTKsJAkldqewmIm8AAxmt6CNtdFkoaV7SUsRgBfBWYB+xOj8O3f1hpJ0jCyvYTFYcQZxUPAS8C3gNltrZEkDSNVjsE9lCYAawvL64BpddvMz4lVq1Y929XV9UCL6iYN1p7A4+2uhDpP1zntrgH7DLRiewmLZizKSep0K4Gp7a6ENBjbSzPUemBSYXlilkmS9J9GEv0V+wK7AD8FDmhrjaRtt7LdFZB2ZEcBPwd+AfzPNtdF+m3Mb3cFJEmSJEmSJEnSDmEM8IkWvdcbgWeBz7To/aR+bS+XzkqdpJVhcS5wXYveSxqQYSEN3tnA7wF3Av8IfBa4DbgL+EJhu+8Dq4B7ePUVUM/mfvcA/5d4nM1NxOXhRxe2mwM8nNtJkrYzk4G7c/4I4skBXcSPr6uBd+e6cfn6mtx+fC73Eg/FBLgK+AGwM3AQEUAAewA/ztfTsBlKbbYjPe5Daocjcrojl/cApgA3A6cAf5zlk7L8CeJhmNdn+c+AF4GXc35ylp8GnEechUhtZ1hIv50u4O+Br9eVHw68F3g7sIVoZhqV614mzi4AXiHCojZf+39yGnAM8A9EH8krwAvAV4b8E0hNMCykwXsGeG3OLwfOAC4nzgImEGEwGthMBMVbgOmDfI93FeZPy2MbFGobw0IavCeAfyf6Ia4Dvkn0L0B8qR9PNDN9HLiPGOHxltZXU5IkSZIkSZIkSZIkSZIkSZIkSdJQ+//ktsaOp/3GWQAAAABJRU5ErkJggg==)"
      ],
      "metadata": {
        "id": "2ctYTpDoGqYv"
      }
    },
    {
      "cell_type": "markdown",
      "source": [
        "![image.png](data:image/png;base64,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)"
      ],
      "metadata": {
        "id": "WSUqbxH0HBew"
      }
    },
    {
      "cell_type": "markdown",
      "source": [
        "Okay, I'll be honest that hurt way more than it helped. Oops"
      ],
      "metadata": {
        "id": "yvEq0gu_HI3_"
      }
    },
    {
      "cell_type": "markdown",
      "source": [
        "## Other things you can consider"
      ],
      "metadata": {
        "id": "wchlzkflKGX9"
      }
    },
    {
      "cell_type": "markdown",
      "source": [
        "### Only using the most important features"
      ],
      "metadata": {
        "id": "ELDyIJpPKImt"
      }
    },
    {
      "cell_type": "code",
      "source": [
        "plt.bar(range(len(clf.feature_importances_)),clf.feature_importances_)"
      ],
      "metadata": {
        "colab": {
          "base_uri": "https://localhost:8080/",
          "height": 282
        },
        "id": "teM-wXN4GRHx",
        "outputId": "d5938a72-0fe3-414e-c893-f303e3f78712"
      },
      "execution_count": null,
      "outputs": [
        {
          "output_type": "execute_result",
          "data": {
            "text/plain": [
              "<BarContainer object of 19 artists>"
            ]
          },
          "metadata": {},
          "execution_count": 150
        },
        {
          "output_type": "display_data",
          "data": {
            "text/plain": [
              "<Figure size 432x288 with 1 Axes>"
            ],
            "image/png": "[encoded data removed]"
          },
          "metadata": {
            "needs_background": "light"
          }
        }
      ]
    },
    {
      "cell_type": "markdown",
      "source": [
        "You can use the importance features above, or insights from your own data analysis (occupation/economy and other important features)."
      ],
      "metadata": {
        "id": "glTjapDMKo3l"
      }
    },
    {
      "cell_type": "markdown",
      "source": [
        "### undersampling instead of oversampling"
      ],
      "metadata": {
        "id": "ORfiZhy1KNQl"
      }
    },
    {
      "cell_type": "code",
      "source": [
        "from imblearn.under_sampling import RandomUnderSampler\n",
        "undersample = RandomUnderSampler()"
      ],
      "metadata": {
        "id": "iXp7u8CiHhep"
      },
      "execution_count": null,
      "outputs": []
    }
  ]
}